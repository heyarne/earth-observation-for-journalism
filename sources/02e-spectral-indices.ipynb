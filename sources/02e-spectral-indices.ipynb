{
 "cells": [
  {
   "cell_type": "markdown",
   "metadata": {},
   "source": [
    "# Generalized Spectral Index Calculation\n",
    "\n",
    "Elaborating on the work done in previous sections, this section contains a complete implementation of the calculation of various spectral indicators.\n",
    "\n",
    "It does not contain code to download products from the Open Access Hub[^download_process].\n",
    "It is rather a re-usable notebook that can be re-used for the calculation of indices only.\n",
    "\n",
    "The calculation in this notebook depends on three parameters:\n",
    "\n",
    "- `product_path` is the path to a previously downloaded product\n",
    "- `index_to_calculate` is one of the supported indices; these are 'ndvi'\n",
    "  - bsi -- bare soil index\n",
    "  - nbr -- normalized burn ratio\n",
    "  - ndvi -- normalized difference in vegetation\n",
    "  - ndwi -- normalized difference in water\n",
    "- `fill_value`, the value which is used to represent invalid pixels to handle division by zero.\n",
    "\n",
    "When running this notebook interactively, _Kernel → Restart and Run All Cells_ can be used to re-evaluate all cells in this notebook after configuring the pipeline.\n",
    "The path of the output file containing the processed values will be printed below the last cell.\n",
    "\n",
    "[^download_process]: See [](01a-download-process.ipynb) for details"
   ]
  },
  {
   "cell_type": "code",
   "execution_count": 1,
   "metadata": {},
   "outputs": [],
   "source": [
    "from pathlib import Path\n",
    "\n",
    "product_path = Path('resources/forest_fires/S2A_MSIL2A_20180906T101021_N0208_R022_T33UUT_20180906T131549.zip')\n",
    "index_to_calculate = 'nbr'"
   ]
  },
  {
   "cell_type": "markdown",
   "metadata": {},
   "source": [
    "## Product Preview\n",
    "\n",
    "The following lines can be uncommented to plot a true-color image of the downloaded data:"
   ]
  },
  {
   "cell_type": "code",
   "execution_count": 2,
   "metadata": {},
   "outputs": [],
   "source": [
    "#from sentinel_helpers import scihub_band_paths\n",
    "#import rasterio.plot as rplot\n",
    "#\n",
    "#tci = scihub_band_paths(product_path, 'TCI', '60m')[0]\n",
    "#with r.open(tci) as src:\n",
    "#    rplot.show(src)"
   ]
  },
  {
   "cell_type": "markdown",
   "metadata": {},
   "source": [
    "## Define Formulas\n",
    "\n",
    "Formulas are defined as data so that the bands can be substituted with actual values later on. By declaratively  expressing the formula calculations computations can be executed lazily and only when needed. \n",
    "This is done so the formulas can be defined independent from actual data, which is needed only much later.\n",
    "\n",
    "### Operators\n",
    "\n",
    "Many spectral indicators can be expressed using band arithmetic with formulas similar to the NDVI:\n",
    "\n",
    "$$\n",
    "\\text{NDVI} = \\frac{\\text{B08} - \\text{B04}}{\\text{B08} + \\text{B04}}\n",
    "$$\n",
    "\n",
    "To define the index calculation formulas in this way, first the basic arithmetic operations `+`, `-`, `*` and `/` are wrapped in functions taking variadic arguments:"
   ]
  },
  {
   "cell_type": "code",
   "execution_count": 3,
   "metadata": {},
   "outputs": [],
   "source": [
    "from functools import reduce\n",
    "\n",
    "def add(nums):\n",
    "    return reduce(lambda a, b: a + b, nums)\n",
    "\n",
    "def sub(nums):\n",
    "    return reduce(lambda a, b: a - b, nums)\n",
    "\n",
    "def div(nums):\n",
    "    return reduce(lambda a, b: a / b, nums)\n",
    "\n",
    "def mul(nums):\n",
    "    return reduce(lambda a, b: a * b, nums)"
   ]
  },
  {
   "cell_type": "markdown",
   "metadata": {},
   "source": [
    "### Indices"
   ]
  },
  {
   "cell_type": "markdown",
   "metadata": {},
   "source": [
    "These function are used to define formulas for the selection of indices mentioned in the introduction.\n",
    "These indices are not exhaustive - there are many spectral indices which are not implemented in this notebook. The general shape of theses formulas however allows for enough flexibility to implement other indices as well.\n",
    "\n",
    "The formulas are defined in a lisp-like prefix notation: `(add, 1, 2, 3)` translates to `1 + 2 + 3`.\n",
    "Each element in a formula can be either a function, a string or a tuple. Tuples are delimited using `()`. The first element of these tuples is one of the operations defined above. It is followed by at least one other element, which can be any of the following:\n",
    "\n",
    "- Tuples, allowing the recursive expression of formulas.\n",
    "- Strings, which encode band numbers.\n",
    "- Constants, i.e. integers or floats."
   ]
  },
  {
   "cell_type": "code",
   "execution_count": 4,
   "metadata": {},
   "outputs": [],
   "source": [
    "indices = {\n",
    "    # normalized burn ratio\n",
    "    'nbr': (div, (sub, 'B08', 'B12'), (add, 'B08', 'B12')),\n",
    "    # normalized difference in vegetation\n",
    "    'ndvi': (div, (sub, 'B08', 'B04'), (add, 'B08', 'B04')),\n",
    "    # normalized difference in water index\n",
    "    'ndwi': (div, (sub, 'B03', 'B08'), (add, 'B03', 'B08')),\n",
    "    # bare soil index\n",
    "    'bsi': (div, (sub, (add, 'B11', 'B04'), (add, 'B08', 'B02')),\n",
    "                 (add, (add, 'B11', 'B04'), (add, 'B08', 'B02')))\n",
    "}"
   ]
  },
  {
   "cell_type": "markdown",
   "metadata": {},
   "source": [
    "An error is thrown if `index_to_calculate` does not mach any of the implemented indices above:"
   ]
  },
  {
   "cell_type": "code",
   "execution_count": 5,
   "metadata": {},
   "outputs": [],
   "source": [
    "supported_indices = ', '.join(indices.keys())\n",
    "assert index_to_calculate in supported_indices, f'Only the following indices are supported: {supported_indices}'"
   ]
  },
  {
   "cell_type": "markdown",
   "metadata": {},
   "source": [
    "### Resolving the Formulas\n",
    "\n",
    "`get_bands` is a function function that returns all of the bands referenced in a recursive formula.\n",
    "This is necessary to resolve these references to actual data sets."
   ]
  },
  {
   "cell_type": "code",
   "execution_count": 6,
   "metadata": {},
   "outputs": [],
   "source": [
    "def get_bands(formula):\n",
    "    bands = set()\n",
    "    for element in formula:\n",
    "        if type(element) == tuple:\n",
    "            # recur for subformulas\n",
    "            for band in get_bands(element):\n",
    "                bands.add(band)\n",
    "        elif type(element) == str:\n",
    "            bands.add(element)\n",
    "    return bands"
   ]
  },
  {
   "cell_type": "markdown",
   "metadata": {},
   "source": [
    "The resolving process needs a `band_map` in the form of `band_num` → `numpy.array`. By defining the arithmetic operations like above, it can be treated like any other python function - read from the formula and called using `op(args)`:"
   ]
  },
  {
   "cell_type": "code",
   "execution_count": 7,
   "metadata": {},
   "outputs": [],
   "source": [
    "def evaluate_formula(band_map, formula):\n",
    "    op = formula[0]\n",
    "    args = []\n",
    "    for element in formula[1:]:\n",
    "        if type(element) == tuple:\n",
    "            # recur on sub-formula\n",
    "            args.append(evaluate_formula(band_map, element))\n",
    "        elif type(element) == str:\n",
    "            # substitute band number\n",
    "            args.append(band_map[element])\n",
    "        else:\n",
    "            # just append the number\n",
    "            args.append(element)\n",
    "    return op(args)"
   ]
  },
  {
   "cell_type": "markdown",
   "metadata": {},
   "source": [
    "Because the prefix-notation is not commonly used to define mathematical formula, a function is defined that converts prefix a formula from above to infix notation. This should help to avoid errors when transcribing the index formulas, which are usually given in common infix notation:"
   ]
  },
  {
   "cell_type": "code",
   "execution_count": 8,
   "metadata": {},
   "outputs": [],
   "source": [
    "def prefix_to_infix_str(formula):\n",
    "    '''\n",
    "    Returns a human-readable string of the above data-based notation. Useful\n",
    "    for debugging.\n",
    "    '''\n",
    "    result = ['(']\n",
    "    \n",
    "    # operation\n",
    "    op = formula[0]\n",
    "    if op == add:\n",
    "        sym = ' + '\n",
    "    elif op == sub:\n",
    "        sym = ' - '\n",
    "    elif op == div:\n",
    "        sym = ' / '\n",
    "    elif op == mul:\n",
    "        sym = ' * '\n",
    "        \n",
    "    operands = formula[1:]\n",
    "    for idx, operand in enumerate(operands, start=1):\n",
    "        if type(operand) == tuple:\n",
    "            result.append(prefix_to_infix_str(operand))\n",
    "        else:\n",
    "            result.append(str(operand))\n",
    "        if idx < len(operands):\n",
    "            result.append(sym)\n",
    "        \n",
    "    result.append(')')\n",
    "    return ''.join(result)"
   ]
  },
  {
   "cell_type": "markdown",
   "metadata": {},
   "source": [
    "#### Test Cases"
   ]
  },
  {
   "cell_type": "code",
   "execution_count": 9,
   "metadata": {},
   "outputs": [],
   "source": [
    "formula = (add, *range(5), (mul, *range(1, 4))) # == (add, 0, 1, 2, 3, 4, (mul, 1, 2, 3))"
   ]
  },
  {
   "cell_type": "code",
   "execution_count": 10,
   "metadata": {},
   "outputs": [
    {
     "data": {
      "text/plain": [
       "'(0 + 1 + 2 + 3 + 4 + (1 * 2 * 3))'"
      ]
     },
     "execution_count": 10,
     "metadata": {},
     "output_type": "execute_result"
    }
   ],
   "source": [
    "prefix_to_infix_str(formula)"
   ]
  },
  {
   "cell_type": "code",
   "execution_count": 11,
   "metadata": {},
   "outputs": [
    {
     "data": {
      "text/plain": [
       "16"
      ]
     },
     "execution_count": 11,
     "metadata": {},
     "output_type": "execute_result"
    }
   ],
   "source": [
    "evaluate_formula({}, formula)"
   ]
  },
  {
   "cell_type": "code",
   "execution_count": 12,
   "metadata": {},
   "outputs": [
    {
     "data": {
      "text/plain": [
       "'((B08 - B12) / (B08 + B12))'"
      ]
     },
     "execution_count": 12,
     "metadata": {},
     "output_type": "execute_result"
    }
   ],
   "source": [
    "prefix_to_infix_str(indices['nbr'])"
   ]
  },
  {
   "cell_type": "markdown",
   "metadata": {},
   "source": [
    "## Extraction of Relevant Band File Paths\n",
    "\n",
    "Subsections from here on below contain the actual calculations.\n",
    "They start with the list of bands are referenced by the index formula given by `index_to_calculate`:"
   ]
  },
  {
   "cell_type": "code",
   "execution_count": 13,
   "metadata": {},
   "outputs": [
    {
     "data": {
      "text/plain": [
       "['B12', 'B08']"
      ]
     },
     "execution_count": 13,
     "metadata": {},
     "output_type": "execute_result"
    }
   ],
   "source": [
    "bands = get_bands(indices[index_to_calculate])\n",
    "bands = list(bands)\n",
    "bands"
   ]
  },
  {
   "cell_type": "markdown",
   "metadata": {},
   "source": [
    "## Resampling\n",
    "\n",
    "Some bands are not available in all resolutions - the band `B08` for example is available only at a resolution of 10m and the band `B12` only up to 20m.\n",
    "\n",
    "The lower-resolution bands are upsampled to the highest resolution band:"
   ]
  },
  {
   "cell_type": "code",
   "execution_count": 14,
   "metadata": {},
   "outputs": [
    {
     "data": {
      "text/plain": [
       "[PosixPath('zip+file:/home/jovyan/sources/resources/forest_fires/S2A_MSIL2A_20180906T101021_N0208_R022_T33UUT_20180906T131549.zip!/S2A_MSIL2A_20180906T101021_N0208_R022_T33UUT_20180906T131549.SAFE/GRANULE/L2A_T33UUT_A016750_20180906T101022/IMG_DATA/R10m/T33UUT_20180906T101021_B08_10m.jp2'),\n",
       " PosixPath('zip+file:/home/jovyan/sources/resources/forest_fires/S2A_MSIL2A_20180906T101021_N0208_R022_T33UUT_20180906T131549.zip!/S2A_MSIL2A_20180906T101021_N0208_R022_T33UUT_20180906T131549.SAFE/GRANULE/L2A_T33UUT_A016750_20180906T101022/IMG_DATA/R20m/T33UUT_20180906T101021_B12_20m.jp2'),\n",
       " PosixPath('zip+file:/home/jovyan/sources/resources/forest_fires/S2A_MSIL2A_20180906T101021_N0208_R022_T33UUT_20180906T131549.zip!/S2A_MSIL2A_20180906T101021_N0208_R022_T33UUT_20180906T131549.SAFE/GRANULE/L2A_T33UUT_A016750_20180906T101022/IMG_DATA/R60m/T33UUT_20180906T101021_B12_60m.jp2')]"
      ]
     },
     "execution_count": 14,
     "metadata": {},
     "output_type": "execute_result"
    }
   ],
   "source": [
    "# sorting the band path alphabetically sorts the bands first by band number,\n",
    "# then by resolution\n",
    "from sentinel_helpers import scihub_band_paths\n",
    "\n",
    "band_paths = sorted(scihub_band_paths(product_path, bands))\n",
    "band_paths[:3]"
   ]
  },
  {
   "cell_type": "code",
   "execution_count": 15,
   "metadata": {},
   "outputs": [],
   "source": [
    "highest_resolution_band_paths = []\n",
    "\n",
    "# covered_bands ensures that only the highest resolution band is kept\n",
    "covered_bands = set()\n",
    "for band in band_paths:\n",
    "    band_num = band.name.split('_')[-2]\n",
    "    if band_num in covered_bands:\n",
    "        continue\n",
    "    else:\n",
    "        highest_resolution_band_paths.append(band)\n",
    "        covered_bands.add(band_num)\n",
    "        \n",
    "def resolution(band_path):\n",
    "    '''\n",
    "    Return the resolution encoded in a raster file's path.\n",
    "    '''\n",
    "    if isinstance(band_path, Path):\n",
    "        band_path = band_path.name\n",
    "    \n",
    "    return int(band_path.split('_')[-1].split('.')[0].replace('m', ''))\n",
    "\n",
    "# using the function above, we parse the highest resolution out of the first band path\n",
    "target_resolution = sorted(resolution(band) for band in highest_resolution_band_paths)[0]"
   ]
  },
  {
   "cell_type": "markdown",
   "metadata": {},
   "source": [
    "## Raster Cloud Mask Generation\n",
    "\n",
    "Spectral indices can get distorted by highly reflective clouds.\n",
    "To avoid this the products include cloud masks, which contain information about the cloud positions in a product in order to discard them.\n",
    "\n",
    "In order to construct a cloud mask that we can operate on, we need to know the transformation needed from the coordinates given by the raster's coordinate reference system to the pixel coordinates of the highest resolution raster.\n",
    "\n",
    "These are encoded as metadata in the raster file:"
   ]
  },
  {
   "cell_type": "code",
   "execution_count": 16,
   "metadata": {},
   "outputs": [
    {
     "data": {
      "text/plain": [
       "<matplotlib.image.AxesImage at 0x7f5f4cb85ee0>"
      ]
     },
     "execution_count": 16,
     "metadata": {},
     "output_type": "execute_result"
    },
    {
     "data": {
      "image/png": "[encoded data removed]",
      "text/plain": [
       "<Figure size 432x288 with 1 Axes>"
      ]
     },
     "metadata": {
      "needs_background": "light"
     },
     "output_type": "display_data"
    }
   ],
   "source": [
    "from sentinel_helpers import scihub_cloud_mask\n",
    "import matplotlib.pyplot as plt\n",
    "\n",
    "# pixels with clouds are True, pixels without are False\n",
    "raster_cloud_mask, _ = scihub_cloud_mask(product_path)\n",
    "plt.imshow(raster_cloud_mask[0])"
   ]
  },
  {
   "cell_type": "markdown",
   "metadata": {},
   "source": [
    "## Index Calculation"
   ]
  },
  {
   "cell_type": "code",
   "execution_count": 17,
   "metadata": {},
   "outputs": [],
   "source": [
    "import numpy as np\n",
    "import numpy.ma as ma\n",
    "\n",
    "import rasterio as r\n",
    "from rasterio.enums import Resampling\n",
    "import rasterio.plot as rplt\n",
    "\n",
    "from sentinel_helpers import RasterReaderList, scihub_cloud_mask\n",
    "from tqdm.notebook import tqdm\n",
    "\n",
    "from tempfile import NamedTemporaryFile\n",
    "\n",
    "out_dir = Path('resources/spectral_indices/')\n",
    "out_dir.mkdir(exist_ok=True, parents=True)"
   ]
  },
  {
   "cell_type": "code",
   "execution_count": 18,
   "metadata": {},
   "outputs": [
    {
     "data": {
      "application/vnd.jupyter.widget-view+json": {
       "model_id": "ef37732b4a184e959bf49763e1e583aa",
       "version_major": 2,
       "version_minor": 0
      },
      "text/plain": [
       "HBox(children=(HTML(value='Resampling datasets'), FloatProgress(value=0.0, max=2.0), HTML(value='')))"
      ]
     },
     "metadata": {},
     "output_type": "display_data"
    },
    {
     "name": "stdout",
     "output_type": "stream",
     "text": [
      "\n",
      "Wrote result to resources/spectral_indices/T33UUT_20180906T101021_NBR_10m.tif\n",
      "CPU times: user 51.3 s, sys: 18.8 s, total: 1min 10s\n",
      "Wall time: 39.6 s\n"
     ]
    }
   ],
   "source": [
    "%%time\n",
    "\n",
    "with RasterReaderList(highest_resolution_band_paths) as readers:\n",
    "    # build the band_map as described above and scale up where needed\n",
    "    band_map = {}\n",
    "    for reader in tqdm(readers, desc='Resampling datasets'):\n",
    "        band_num = reader.name.split('_')[-2]\n",
    "        data_resolution = resolution(reader.name)\n",
    "        scale_factor = int(data_resolution / target_resolution)\n",
    "        out_shape = (\n",
    "            int(reader.height * scale_factor),\n",
    "            int(reader.width * scale_factor)\n",
    "        )\n",
    "        \n",
    "        band_map[band_num] = (np.clip(\n",
    "            # we read only the first band to obtain a two-dimensional ndarray\n",
    "            reader.read(1, out_shape=out_shape, resampling=Resampling.bilinear, masked=True),\n",
    "        0, 10000) / 10000).astype('float32')\n",
    "        \n",
    "        if scale_factor == 1:\n",
    "            # this is the target resolution which defines the shape of the\n",
    "            # raster file the data is written to\n",
    "            out_name = Path(reader.name).name.replace(band_num, index_to_calculate.upper())\n",
    "            out_name = out_name.replace('.jp2', '.tif')\n",
    "            out_path = out_dir / out_name\n",
    "            out_meta = reader.meta.copy()\n",
    "    \n",
    "    # ignore numpy division errors (i.e. divide by 0) in this context;\n",
    "    # divide by zero results in `nan`. clouds are masked using the\n",
    "    # raster_cloud_mask created above\n",
    "    with np.errstate(divide='ignore', invalid='ignore'):\n",
    "        index = evaluate_formula(band_map, indices[index_to_calculate])\n",
    "        # we need to invert the cloud mask (`~`) because we want to hide those pixels that are cloudy\n",
    "        tile_mask = ~raster_cloud_mask | index.mask\n",
    "        index = ma.masked_array(index, tile_mask)\n",
    "    \n",
    "    out_meta.update({\n",
    "        'count': 1,\n",
    "        'driver': 'GTiff',\n",
    "        'dtype': 'float32'\n",
    "    })\n",
    "    \n",
    "    with r.open(out_path, 'w+', **out_meta) as dst:\n",
    "        dst.write(index.data, 1)\n",
    "        # note that the mask we write has an inverted interpretation of \n",
    "        # True / False due to the `.msk` file format\n",
    "        dst.write_mask(~index.mask)\n",
    "        print(f'Wrote result to {out_path}')"
   ]
  },
  {
   "cell_type": "code",
   "execution_count": 19,
   "metadata": {},
   "outputs": [],
   "source": [
    "# to debug the cloud / tile mask, uncomment these lines\n",
    "# plt.imshow(tile_mask)"
   ]
  },
  {
   "cell_type": "code",
   "execution_count": 20,
   "metadata": {},
   "outputs": [
    {
     "data": {
      "image/png": "[encoded data removed]",
      "text/plain": [
       "<Figure size 432x288 with 1 Axes>"
      ]
     },
     "metadata": {
      "needs_background": "light"
     },
     "output_type": "display_data"
    }
   ],
   "source": [
    "with r.open(out_path, 'r') as src:\n",
    "    rplt.show(src)"
   ]
  },
  {
   "cell_type": "code",
   "execution_count": 21,
   "metadata": {},
   "outputs": [],
   "source": [
    "# writing the mask explicitly works:\n",
    "# dst.write(index.data, 1)\n",
    "# dst.write_mask(~index.mask)"
   ]
  }
 ],
 "metadata": {
  "kernelspec": {
   "display_name": "Python 3",
   "language": "python",
   "name": "python3"
  },
  "language_info": {
   "codemirror_mode": {
    "name": "ipython",
    "version": 3
   },
   "file_extension": ".py",
   "mimetype": "text/x-python",
   "name": "python",
   "nbconvert_exporter": "python",
   "pygments_lexer": "ipython3",
   "version": "3.8.6"
  }
 },
 "nbformat": 4,
 "nbformat_minor": 4
}
