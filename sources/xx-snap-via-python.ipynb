{
 "cells": [
  {
   "cell_type": "markdown",
   "metadata": {},
   "source": [
    "# SNAP Tools and Python 3\n",
    "\n",
    "The SNAP python bindings can be installed using the following command:\n",
    "\n",
    "``` bash\n",
    "/usr/local/snap/bin/snapp-conf \"$(which python2)\"\n",
    "```"
   ]
  },
  {
   "cell_type": "code",
   "execution_count": 1,
   "metadata": {},
   "outputs": [],
   "source": [
    "import sys\n",
    "sys.path.append('/home/rus/.anaconda/lib/python3.7/lib/site-packages')"
   ]
  },
  {
   "cell_type": "code",
   "execution_count": 2,
   "metadata": {},
   "outputs": [],
   "source": [
    "from snappy import ProductIO"
   ]
  },
  {
   "cell_type": "markdown",
   "metadata": {},
   "source": [
    "However, when trying to configure them a modern python version (i.e. `python3` instead of `python2`), the following error is raised:"
   ]
  },
  {
   "cell_type": "markdown",
   "metadata": {},
   "source": [
    "```\n",
    "\tat org.esa.snap.python.PyBridge.configureJpy(PyBridge.java:232)\n",
    "\tat org.esa.snap.python.PyBridge.installPythonModule(PyBridge.java:149)\n",
    "\tat org.esa.snap.rcp.cli.SnapArgsProcessor.processPython(SnapArgsProcessor.java:103)\n",
    "\tat org.esa.snap.rcp.cli.SnapArgsProcessor.process(SnapArgsProcessor.java:49)\n",
    "\tat org.netbeans.modules.sendopts.DefaultProcessor.process(DefaultProcessor.java:202)\n",
    "\tat org.netbeans.spi.sendopts.Option$1.process(Option.java:387)\n",
    "\tat org.netbeans.api.sendopts.CommandLine.process(CommandLine.java:317)\n",
    "\tat org.netbeans.modules.sendopts.HandlerImpl.execute(HandlerImpl.java:62)\n",
    "\tat org.netbeans.modules.sendopts.Handler.cli(Handler.java:69)\n",
    "\tat org.netbeans.CLIHandler.notifyHandlers(CLIHandler.java:234)\n",
    "\tat org.netbeans.core.startup.CLICoreBridge.cli(CLICoreBridge.java:82)\n",
    "\tat org.netbeans.CLIHandler.notifyHandlers(CLIHandler.java:234)\n",
    "\tat org.netbeans.CLIHandler$1.exec(CLIHandler.java:268)\n",
    "\tat org.netbeans.CLIHandler.finishInitialization(CLIHandler.java:447)\n",
    "\tat org.netbeans.MainImpl.finishInitialization(MainImpl.java:256)\n",
    "\tat org.netbeans.Main.finishInitialization(Main.java:92)\n",
    "\tat org.netbeans.core.startup.Main.start(Main.java:316)\n",
    "\tat org.netbeans.core.startup.TopThreadGroup.run(TopThreadGroup.java:123)\n",
    "\tat java.lang.Thread.run(Thread.java:748)\n",
    "Python configuration error: Python configuration failed.\n",
    "Command [/home/rus/.anaconda/bin/python3 ./snappyutil.py --snap_home /usr/local/snap --java_module /home/rus/.snap/system/modules/org-esa-snap-snap-python.jar --force --log_file ./snappyutil.log --jvm_max_mem 10G --java_home /usr/local/snap/jre --req_arch amd64]\n",
    "failed with return code 40.\n",
    "Please check the log file '/home/rus/.anaconda/lib/python3.7/lib/site-packages/snappy/snappyutil.log'.\n",
    "```"
   ]
  },
  {
   "cell_type": "code",
   "execution_count": null,
   "metadata": {},
   "outputs": [],
   "source": []
  }
 ],
 "metadata": {
  "kernelspec": {
   "display_name": "Python 3",
   "language": "python",
   "name": "python3"
  },
  "language_info": {
   "codemirror_mode": {
    "name": "ipython",
    "version": 3
   },
   "file_extension": ".py",
   "mimetype": "text/x-python",
   "name": "python",
   "nbconvert_exporter": "python",
   "pygments_lexer": "ipython3",
   "version": "3.8.6"
  }
 },
 "nbformat": 4,
 "nbformat_minor": 4
}
