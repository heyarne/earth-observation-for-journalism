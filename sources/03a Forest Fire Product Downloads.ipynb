{
 "cells": [
  {
   "cell_type": "markdown",
   "metadata": {},
   "source": [
    "- How much data would we need to download when covering Brandenburg in its entirety?"
   ]
  },
  {
   "cell_type": "code",
   "execution_count": 21,
   "metadata": {},
   "outputs": [],
   "source": [
    "from datetime import date\n",
    "import os\n",
    "from sentinel_helpers import search_osm\n",
    "from sentinelsat import SentinelAPI\n",
    "\n",
    "api = SentinelAPI(os.getenv('SCIHUB_USERNAME'), os.getenv('SCIHUB_PASSWORD'))\n",
    "start_date = date(2018, 1, 1)\n",
    "end_date = date(2018, 12, 31)\n",
    "cloud_coverage = (0, 30)"
   ]
  },
  {
   "cell_type": "code",
   "execution_count": 13,
   "metadata": {},
   "outputs": [
    {
     "data": {
      "text/plain": [
       "<AxesSubplot:>"
      ]
     },
     "execution_count": 13,
     "metadata": {},
     "output_type": "execute_result"
    },
    {
     "data": {
      "image/png": "[encoded data removed]",
      "text/plain": [
       "<Figure size 432x288 with 1 Axes>"
      ]
     },
     "metadata": {
      "needs_background": "light"
     },
     "output_type": "display_data"
    }
   ],
   "source": [
    "brandenburg = search_osm('Brandenburg, Germany')\n",
    "brandenburg = brandenburg[brandenburg['type'] == 'administrative'][:1]\n",
    "brandenburg.plot()"
   ]
  },
  {
   "cell_type": "code",
   "execution_count": 33,
   "metadata": {},
   "outputs": [
    {
     "name": "stderr",
     "output_type": "stream",
     "text": [
      "Querying products: 100%|██████████| 638/638 [00:38<00:00, 14.05 products/s]\n"
     ]
    }
   ],
   "source": [
    "footprint = brandenburg.iloc[0]['geometry'].convex_hull.wkt\n",
    "results = api.query(footprint,\n",
    "                    platformname='Sentinel-2',\n",
    "                    processinglevel='Level-2A',\n",
    "                    date=(start_date, end_date),\n",
    "                    cloudcoverpercentage=cloud_coverage)"
   ]
  },
  {
   "cell_type": "markdown",
   "metadata": {},
   "source": [
    "- Size in Gigabyte of a whole year"
   ]
  },
  {
   "cell_type": "code",
   "execution_count": 34,
   "metadata": {},
   "outputs": [],
   "source": [
    "def human_readable_size_to_bytes(size):\n",
    "    return float(size.split(' ')[0]) * 1024 * 1024 * (1024 if 'GB' in size else 1)"
   ]
  },
  {
   "cell_type": "code",
   "execution_count": 35,
   "metadata": {},
   "outputs": [
    {
     "data": {
      "text/plain": [
       "517.64189453125"
      ]
     },
     "execution_count": 35,
     "metadata": {},
     "output_type": "execute_result"
    }
   ],
   "source": [
    "gdf = SentinelAPI.to_geodataframe(results)\n",
    "\n",
    "size_in_bytes = gdf['size'].apply(human_readable_size_to_bytes)\n",
    "size_in_bytes.sum() / 1024 ** 3"
   ]
  },
  {
   "cell_type": "markdown",
   "metadata": {},
   "source": [
    "- the official forest fire season is from march 1 until october 31\n",
    "  - see https://mluk.brandenburg.de/mluk/de/landwirtschaft/forst/waldschutz/waldbrandgefahr-in-brandenburg/"
   ]
  },
  {
   "cell_type": "code",
   "execution_count": 29,
   "metadata": {},
   "outputs": [
    {
     "name": "stderr",
     "output_type": "stream",
     "text": [
      "Querying products: 100%|██████████| 579/579 [00:30<00:00, 15.51 products/s]\n"
     ]
    }
   ],
   "source": [
    "season_start = date(2018, 3, 1)\n",
    "season_end = date(2018, 10, 31)\n",
    "results = api.query(footprint,\n",
    "                    platformname='Sentinel-2',\n",
    "                    processinglevel='Level-2A',\n",
    "                    date=(season_start, season_end),\n",
    "                    cloudcoverpercentage=cloud_coverage)"
   ]
  },
  {
   "cell_type": "code",
   "execution_count": 32,
   "metadata": {},
   "outputs": [
    {
     "data": {
      "text/plain": [
       "468.66688476562496"
      ]
     },
     "execution_count": 32,
     "metadata": {},
     "output_type": "execute_result"
    }
   ],
   "source": [
    "gdf = SentinelAPI.to_geodataframe(results)\n",
    "\n",
    "size_in_bytes = gdf['size'].apply(human_readable_size_to_bytes)\n",
    "size_in_bytes.sum() / 1024 ** 3"
   ]
  },
  {
   "cell_type": "code",
   "execution_count": 27,
   "metadata": {},
   "outputs": [
    {
     "name": "stdout",
     "output_type": "stream",
     "text": [
      "Filesystem      Size  Used Avail Use% Mounted on\n",
      "overlay         247G  185G   49G  80% /\n",
      "tmpfs            64M     0   64M   0% /dev\n",
      "tmpfs            16G     0   16G   0% /sys/fs/cgroup\n",
      "shm              64M   60K   64M   1% /dev/shm\n",
      "/dev/xvda1      247G  185G   49G  80% /home/jovyan\n",
      "tmpfs            16G     0   16G   0% /sys/firmware\n"
     ]
    }
   ],
   "source": [
    "! df -h"
   ]
  },
  {
   "cell_type": "markdown",
   "metadata": {},
   "source": [
    "- We use https://forst.brandenburg.de/sixcms/media.php/9/wbra2018.pdf as an indicator for which area's we are interested in"
   ]
  },
  {
   "cell_type": "code",
   "execution_count": null,
   "metadata": {},
   "outputs": [],
   "source": []
  }
 ],
 "metadata": {
  "kernelspec": {
   "display_name": "Python 3",
   "language": "python",
   "name": "python3"
  },
  "language_info": {
   "codemirror_mode": {
    "name": "ipython",
    "version": 3
   },
   "file_extension": ".py",
   "mimetype": "text/x-python",
   "name": "python",
   "nbconvert_exporter": "python",
   "pygments_lexer": "ipython3",
   "version": "3.8.6"
  }
 },
 "nbformat": 4,
 "nbformat_minor": 4
}
