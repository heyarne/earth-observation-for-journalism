{
 "cells": [
  {
   "cell_type": "markdown",
   "metadata": {},
   "source": [
    "# Time Series\n",
    "\n",
    "Based on the preparation done in [](02b-ndvi.ipynb), this section will contain calculations of the NDVI for an entire year and compare value developments in the different subsections of the area as previously defined."
   ]
  },
  {
   "cell_type": "code",
   "execution_count": 1,
   "metadata": {},
   "outputs": [],
   "source": [
    "import geopandas as gpd\n",
    "from multiprocessing import Pool\n",
    "import numpy as np\n",
    "from numpy import ma\n",
    "from os import unlink\n",
    "from pathlib import Path\n",
    "import rasterio as r\n",
    "from rasterio.features import geometry_window\n",
    "import rasterio.mask\n",
    "import rasterio.plot as rplt\n",
    "from sentinel_helpers import scihub_band_paths, scihub_cloud_mask\n",
    "from zipfile import BadZipFile\n",
    "\n",
    "base_path = Path('resources/tempelhofer_feld/')\n",
    "input_files = list(base_path.glob('*.zip'))\n",
    "area_of_interest = gpd.read_file(base_path / 'tempelhofer_feld.geojson')\n",
    "ndvi_path = base_path / 'ndvi'\n",
    "\n",
    "# uncomment to remove previous calculations\n",
    "# ! rm -rf {ndvi_path / '*.tif'}"
   ]
  },
  {
   "cell_type": "markdown",
   "metadata": {},
   "source": [
    "Due to an unexpected failure of the Copernicus Open Access Hub API, several of the downloaded products were unusable due to data corruption.[^data_corruption] This is considered in the processing code by excluding the corrupted files.\n",
    "\n",
    "Additionally, even though acceptable products were restricted in [](02a-data-retrieval.ipynb) to only those with a low cloud coverage, in some products clouds might still obscure the particular area of interest inside the products. If less than 50% of the area of interest is visible inside a particular product, the product is deemed to not contain enough usable data and skipped as well.\n",
    "\n",
    "[^data_corruption]: See [](02a-data-retrieval-corrupted-zip-files.ipynb) for details.\n",
    "\n",
    "## Data Processing"
   ]
  },
  {
   "cell_type": "code",
   "execution_count": 2,
   "metadata": {},
   "outputs": [],
   "source": [
    "def normalize(v):\n",
    "    return (np.clip(v, 0, 10_000) / 10_000).astype('f4') # ← four-byte-float / float32\n",
    "\n",
    "def calculate_ndvi(product_path):\n",
    "    global area_of_interest\n",
    "    \n",
    "    try:\n",
    "        b04_path, b08_path = scihub_band_paths(product_path, ['B04', 'B08'], '10m')\n",
    "        cloud_mask, _ = scihub_cloud_mask(product_path, area=area_of_interest)\n",
    "    except BadZipFile:\n",
    "        # This is due to a problem of Scihub\n",
    "        print(f'{product_path}: Problem reading product, skipping it')\n",
    "        return\n",
    "\n",
    "    with r.open(b04_path, 'r') as b04, r.open(b08_path, 'r') as b08:\n",
    "        # we want to only write the bare minimum data necessary to disk\n",
    "        out_meta = b04.meta.copy()\n",
    "\n",
    "        # we reproject the geojson file we fetched above and convert it so that rasterio\n",
    "        # can use it as a mask; we subtract the cloud mask to avoid irregularities\n",
    "        mask = area_of_interest.to_crs(out_meta['crs']).iloc[0].geometry\n",
    "        window = geometry_window(b04, [mask])\n",
    "        \n",
    "        # update the dimensions and save as geotiff, not jp2\n",
    "        out_meta.update({\n",
    "            'width': window.width,\n",
    "            'height': window.height,\n",
    "            'driver': 'GTiff',\n",
    "            'dtype': 'float32',\n",
    "            'nodata': -999\n",
    "        })    \n",
    "        \n",
    "        out_name = Path(b04_path).name.replace('B04', 'NDVI').replace('.jp2', '.tif')\n",
    "        ndvi_path.mkdir(exist_ok=True, parents=True)\n",
    "        \n",
    "        # we need this to delete unusable files\n",
    "        skip_file = False\n",
    "        with r.open(ndvi_path / out_name, 'w+', **out_meta) as dst:\n",
    "            # we take only the part out of our source raster that we actually need\n",
    "            # crop=True clips off the borders\n",
    "            b04, transform_b04 = rasterio.mask.mask(b04, shapes=[mask], filled=False, crop=True)\n",
    "            b08, _ = rasterio.mask.mask(b08, shapes=[mask], filled=False, crop=True)\n",
    "            \n",
    "            # calculate area covered by clouds\n",
    "            cloud_mask = cloud_mask[:,:b04.shape[1],:b04.shape[2]]\n",
    "            unmasked_area = ~b04.mask\n",
    "            clouds_on_unmasked_area = (cloud_mask & unmasked_area).sum()\n",
    "            if clouds_on_unmasked_area > 0.5 * unmasked_area.sum():\n",
    "                print(f'{product_path}: Area of interest covered by clouds, skipping it')\n",
    "                skip_file = True\n",
    "            else:\n",
    "                b04 = normalize(b04)\n",
    "                b08 = normalize(b08)\n",
    "\n",
    "                # uncomment the following line to see if your masked shape looks correct\n",
    "                #rplt.show(b04, transform=transform_b04)\n",
    "                #rplt.show(b08, transform=transform_b04)\n",
    "\n",
    "                # we want to be able to ignore divide by zero errors so the formula is nicer to write\n",
    "                np.seterr(divide='ignore', invalid='ignore')\n",
    "                ndvi = (b08 - b04) / (b08 + b04)\n",
    "                ndvi.mask = b04.mask | cloud_mask\n",
    "\n",
    "                # uncomment the following line to see if we calculated the index correctly\n",
    "                # rplt.show(ndvi, transform=transform_b04)\n",
    "\n",
    "                # write with explicit nodata value for masked pixels\n",
    "                dst.write(ndvi.filled(out_meta['nodata']))\n",
    "        if skip_file:\n",
    "            # file has been created with r.open(..., 'w+'), so it needs to be\n",
    "            # deleted explicitly\n",
    "            unlink(ndvi_path / out_name)"
   ]
  },
  {
   "cell_type": "code",
   "execution_count": 3,
   "metadata": {},
   "outputs": [
    {
     "data": {
      "application/vnd.jupyter.widget-view+json": {
       "model_id": "e89f92fbf3fb47d3965bef1883ce0120",
       "version_major": 2,
       "version_minor": 0
      },
      "text/plain": [
       "HBox(children=(HTML(value=''), FloatProgress(value=0.0, max=40.0), HTML(value='')))"
      ]
     },
     "metadata": {},
     "output_type": "display_data"
    },
    {
     "name": "stdout",
     "output_type": "stream",
     "text": [
      "resources/tempelhofer_feld/S2A_MSIL2A_20190603T101031_N0212_R022_T33UUU_20190603T114652.zip: Problem reading product, skipping it\n",
      "resources/tempelhofer_feld/S2A_MSIL2A_20190404T101031_N0211_R022_T32UQD_20190404T174806.zip: Problem reading product, skipping it\n",
      "resources/tempelhofer_feld/S2A_MSIL2A_20190216T102111_N0211_R065_T33UUU_20190216T130428.zip: Problem reading product, skipping it\n",
      "resources/tempelhofer_feld/S2B_MSIL2A_20190419T101029_N0211_R022_T33UUU_20190419T132322.zip: Problem reading product, skipping it\n",
      "resources/tempelhofer_feld/S2A_MSIL2A_20190407T102021_N0211_R065_T33UUU_20190407T134109.zip: Problem reading product, skipping it\n",
      "resources/tempelhofer_feld/S2B_MSIL2A_20190512T102029_N0212_R065_T33UUU_20190512T134103.zip: Problem reading product, skipping it\n",
      "resources/tempelhofer_feld/S2A_MSIL2A_20190613T101031_N0212_R022_T33UUU_20190614T125329.zip: Problem reading product, skipping it\n",
      "resources/tempelhofer_feld/S2A_MSIL2A_20190424T101031_N0211_R022_T32UQD_20190424T162325.zip: Problem reading product, skipping it\n",
      "resources/tempelhofer_feld/S2A_MSIL2A_20190822T101031_N0213_R022_T32UQD_20190822T143621.zip: Problem reading product, skipping it\n",
      "resources/tempelhofer_feld/S2A_MSIL2A_20190623T101031_N0212_R022_T33UUU_20190623T132509.zip: Problem reading product, skipping it\n",
      "\n",
      "CPU times: user 231 ms, sys: 191 ms, total: 422 ms\n",
      "Wall time: 11.7 s\n"
     ]
    }
   ],
   "source": [
    "%%time\n",
    "from tqdm.notebook import tqdm\n",
    "from multiprocessing import Pool\n",
    "\n",
    "# we parallelize the NDVI calculation using a Python threadpool\n",
    "with Pool() as pool:\n",
    "    for _ in tqdm(pool.imap_unordered(calculate_ndvi, input_files), total=len(input_files)):\n",
    "        # this loop is only here so we can display a progress bar\n",
    "        pass"
   ]
  },
  {
   "cell_type": "markdown",
   "metadata": {},
   "source": [
    "How many files could be processed?"
   ]
  },
  {
   "cell_type": "code",
   "execution_count": 4,
   "metadata": {},
   "outputs": [
    {
     "name": "stdout",
     "output_type": "stream",
     "text": [
      "41\n"
     ]
    }
   ],
   "source": [
    "! ls -l {ndvi_path} | wc -l"
   ]
  },
  {
   "cell_type": "markdown",
   "metadata": {},
   "source": [
    "In order to be able to re-use designated subsections, the `rio` command-line-tool provided by `rasterio` is used to unify the target CRS."
   ]
  },
  {
   "cell_type": "code",
   "execution_count": 5,
   "metadata": {},
   "outputs": [
    {
     "name": "stdout",
     "output_type": "stream",
     "text": [
      "CPU times: user 306 ms, sys: 424 ms, total: 729 ms\n",
      "Wall time: 34.9 s\n"
     ]
    }
   ],
   "source": [
    "%%time\n",
    "\n",
    "for file_name in ndvi_path.glob('*.tif'):\n",
    "    if 'T33UUU' in file_name.name:\n",
    "        continue\n",
    "    \n",
    "    # crs from the previous notebook to re-use the designated areas\n",
    "    out_name = str(file_name).replace(\"T32UQD\", \"T33UUU\")\n",
    "    ! rio warp --dst-crs EPSG:32633 --overwrite {file_name} {out_name} && rm {file_name}"
   ]
  },
  {
   "cell_type": "markdown",
   "metadata": {},
   "source": [
    "## Average NDVI\n",
    "\n",
    "The average NDVI over the area is calculated using a multiprocessing pool.[^performance_comparison]\n",
    "\n",
    "[^performance_comparison]: [](./02c-time-series-multiprocessing-benchmarks.ipynb) shows that multiprocessing does not offer any real performance increase for this particular calculation."
   ]
  },
  {
   "cell_type": "code",
   "execution_count": 6,
   "metadata": {},
   "outputs": [
    {
     "name": "stdout",
     "output_type": "stream",
     "text": [
      "CPU times: user 167 ms, sys: 40.7 ms, total: 208 ms\n",
      "Wall time: 205 ms\n"
     ]
    }
   ],
   "source": [
    "%%time\n",
    "output_files = list(ndvi_path.glob('*.tif'))\n",
    "\n",
    "def average(file_path):\n",
    "    with r.open(file_path) as src:\n",
    "        # masked=True makes sure to respect the nodata value and reads the data\n",
    "        # as a numpy MaskedArray, which lets us use `numpy.ma`'s methods\n",
    "        data = src.read(1, masked=True)\n",
    "        avg = ma.average(data)\n",
    "        return file_path, avg\n",
    "    \n",
    "averages = list(map(average, output_files))"
   ]
  },
  {
   "cell_type": "markdown",
   "metadata": {},
   "source": [
    "The pandas data-processing library is used to plot the NDVI over the whole year:"
   ]
  },
  {
   "cell_type": "code",
   "execution_count": 7,
   "metadata": {},
   "outputs": [
    {
     "data": {
      "text/plain": [
       "<AxesSubplot:>"
      ]
     },
     "execution_count": 7,
     "metadata": {},
     "output_type": "execute_result"
    },
    {
     "data": {
      "image/png": "[encoded data removed]",
      "text/plain": [
       "<Figure size 864x648 with 1 Axes>"
      ]
     },
     "metadata": {
      "needs_background": "light"
     },
     "output_type": "display_data"
    }
   ],
   "source": [
    "import pandas as pd\n",
    "\n",
    "paths, ndvi_avg = zip(*averages)\n",
    "\n",
    "# parse capture date from file name\n",
    "dates = map(lambda p: p.name.split('_')[1], paths)\n",
    "\n",
    "df = pd.DataFrame({'NDVI': ndvi_avg}).set_index(pd.DatetimeIndex(dates))\n",
    "df.plot(figsize=(12,9))"
   ]
  },
  {
   "cell_type": "markdown",
   "metadata": {},
   "source": [
    "While there seems to be a dip following the summer months, interpretation is prone to errors by looking at this data alone. There is no information on local fauna, on weather phenomena, or other factors besides cloud cover and spectral band  reflectivity. This alone can for example not explain the difference in values at the beginning and at the end of the time span, both of which are during winter. It is therefore important to note that while the data may be useful, it can not be adequately explained in its entirety without any expertise on the field."
   ]
  },
  {
   "cell_type": "code",
   "execution_count": null,
   "metadata": {},
   "outputs": [],
   "source": []
  }
 ],
 "metadata": {
  "kernelspec": {
   "display_name": "Python 3",
   "language": "python",
   "name": "python3"
  },
  "language_info": {
   "codemirror_mode": {
    "name": "ipython",
    "version": 3
   },
   "file_extension": ".py",
   "mimetype": "text/x-python",
   "name": "python",
   "nbconvert_exporter": "python",
   "pygments_lexer": "ipython3",
   "version": "3.8.6"
  }
 },
 "nbformat": 4,
 "nbformat_minor": 4
}
