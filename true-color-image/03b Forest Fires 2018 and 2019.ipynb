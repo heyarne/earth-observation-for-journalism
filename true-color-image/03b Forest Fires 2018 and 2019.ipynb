{
 "cells": [
  {
   "cell_type": "markdown",
   "metadata": {},
   "source": [
    "- Other approach\n",
    "- Instead of focusing on all fires in an entire year, we focus on several firest that were covered well\n",
    "- → Jueterbog / Luckenwalde\n",
    "  - 2018/08/24: https://www.dw.com/en/forest-fires-near-berlin-could-burn-for-days/a-45203042\n",
    "  - 2019\n",
    "    - Fire in June (\"einer der größten Brände der letzten Jahrzehnte\") https://web.archive.org/web/20190622070809/https://www.rbb24.de/panorama/beitrag/2019/06/waldbrand-jueterbog-sonntag-lage-unter-kontrolle.html\n",
    "    - Another fire in July https://web.archive.org/web/20190730000919/https://www.rbb24.de/panorama/beitrag/2019/07/loescharbeiten-jueterbog-truppenuebungsplatz-brandenburg.html"
   ]
  },
  {
   "cell_type": "code",
   "execution_count": 1,
   "metadata": {},
   "outputs": [],
   "source": [
    "from datetime import date, timedelta\n",
    "import os\n",
    "from sentinel_helpers import search_osm, plot_all\n",
    "from sentinelsat import SentinelAPI\n",
    "from pathlib import Path\n",
    "from tqdm.notebook import tqdm\n",
    "\n",
    "api = SentinelAPI(os.getenv('SCIHUB_USERNAME'), os.getenv('SCIHUB_PASSWORD'))\n",
    "api._tqdm = tqdm\n",
    "out_dir = Path('input/forest_fires')"
   ]
  },
  {
   "cell_type": "markdown",
   "metadata": {},
   "source": [
    "## 2018\n",
    "\n",
    "- Take the places from the DW article\n",
    "  - `.head(n=1)` takes the first search result, they are ordered by how well they match our query\n",
    "- We don't have info on the exact time of the location, article is written on 2018-08-24"
   ]
  },
  {
   "cell_type": "code",
   "execution_count": 2,
   "metadata": {},
   "outputs": [],
   "source": [
    "import geopandas as gpd\n",
    "import pandas as pd\n",
    "from sentinel_helpers import geodataframe_on_map"
   ]
  },
  {
   "cell_type": "code",
   "execution_count": 3,
   "metadata": {},
   "outputs": [],
   "source": [
    "frohnsdorf = search_osm('Frohnsdorf, Brandenburg').head(n=1)\n",
    "klausdorf = search_osm('Klausdorf, Brandenburg').head(n=1)\n",
    "tiefenbrunnen = search_osm('Tiefenbrunnen, Brandenburg').head(n=1)"
   ]
  },
  {
   "cell_type": "code",
   "execution_count": 4,
   "metadata": {},
   "outputs": [
    {
     "data": {
      "text/html": [
       "<div style=\"width:100%;\"><div style=\"position:relative;width:100%;height:0;padding-bottom:60%;\"><span style=\"color:#565656\">Make this Notebook Trusted to load map: File -> Trust Notebook</span><iframe src=\"about:blank\" style=\"position:absolute;width:100%;height:100%;left:0;top:0;border:none !important;\" data-html=%3C%21DOCTYPE%20html%3E%0A%3Chead%3E%20%20%20%20%0A%20%20%20%20%3Cmeta%20http-equiv%3D%22content-type%22%20content%3D%22text/html%3B%20charset%3DUTF-8%22%20/%3E%0A%20%20%20%20%0A%20%20%20%20%20%20%20%20%3Cscript%3E%0A%20%20%20%20%20%20%20%20%20%20%20%20L_NO_TOUCH%20%3D%20false%3B%0A%20%20%20%20%20%20%20%20%20%20%20%20L_DISABLE_3D%20%3D%20false%3B%0A%20%20%20%20%20%20%20%20%3C/script%3E%0A%20%20%20%20%0A%20%20%20%20%3Cscript%20src%3D%22https%3A//cdn.jsdelivr.net/npm/leaflet%401.6.0/dist/leaflet.js%22%3E%3C/script%3E%0A%20%20%20%20%3Cscript%20src%3D%22https%3A//code.jquery.com/jquery-1.12.4.min.js%22%3E%3C/script%3E%0A%20%20%20%20%3Cscript%20src%3D%22https%3A//maxcdn.bootstrapcdn.com/bootstrap/3.2.0/js/bootstrap.min.js%22%3E%3C/script%3E%0A%20%20%20%20%3Cscript%20src%3D%22https%3A//cdnjs.cloudflare.com/ajax/libs/Leaflet.awesome-markers/2.0.2/leaflet.awesome-markers.js%22%3E%3C/script%3E%0A%20%20%20%20%3Clink%20rel%3D%22stylesheet%22%20href%3D%22https%3A//cdn.jsdelivr.net/npm/leaflet%401.6.0/dist/leaflet.css%22/%3E%0A%20%20%20%20%3Clink%20rel%3D%22stylesheet%22%20href%3D%22https%3A//maxcdn.bootstrapcdn.com/bootstrap/3.2.0/css/bootstrap.min.css%22/%3E%0A%20%20%20%20%3Clink%20rel%3D%22stylesheet%22%20href%3D%22https%3A//maxcdn.bootstrapcdn.com/bootstrap/3.2.0/css/bootstrap-theme.min.css%22/%3E%0A%20%20%20%20%3Clink%20rel%3D%22stylesheet%22%20href%3D%22https%3A//maxcdn.bootstrapcdn.com/font-awesome/4.6.3/css/font-awesome.min.css%22/%3E%0A%20%20%20%20%3Clink%20rel%3D%22stylesheet%22%20href%3D%22https%3A//cdnjs.cloudflare.com/ajax/libs/Leaflet.awesome-markers/2.0.2/leaflet.awesome-markers.css%22/%3E%0A%20%20%20%20%3Clink%20rel%3D%22stylesheet%22%20href%3D%22https%3A//rawcdn.githack.com/python-visualization/folium/master/folium/templates/leaflet.awesome.rotate.css%22/%3E%0A%20%20%20%20%3Cstyle%3Ehtml%2C%20body%20%7Bwidth%3A%20100%25%3Bheight%3A%20100%25%3Bmargin%3A%200%3Bpadding%3A%200%3B%7D%3C/style%3E%0A%20%20%20%20%3Cstyle%3E%23map%20%7Bposition%3Aabsolute%3Btop%3A0%3Bbottom%3A0%3Bright%3A0%3Bleft%3A0%3B%7D%3C/style%3E%0A%20%20%20%20%0A%20%20%20%20%20%20%20%20%20%20%20%20%3Cmeta%20name%3D%22viewport%22%20content%3D%22width%3Ddevice-width%2C%0A%20%20%20%20%20%20%20%20%20%20%20%20%20%20%20%20initial-scale%3D1.0%2C%20maximum-scale%3D1.0%2C%20user-scalable%3Dno%22%20/%3E%0A%20%20%20%20%20%20%20%20%20%20%20%20%3Cstyle%3E%0A%20%20%20%20%20%20%20%20%20%20%20%20%20%20%20%20%23map_c0cf247b65f5425297e2de5c40651b58%20%7B%0A%20%20%20%20%20%20%20%20%20%20%20%20%20%20%20%20%20%20%20%20position%3A%20relative%3B%0A%20%20%20%20%20%20%20%20%20%20%20%20%20%20%20%20%20%20%20%20width%3A%20100.0%25%3B%0A%20%20%20%20%20%20%20%20%20%20%20%20%20%20%20%20%20%20%20%20height%3A%20100.0%25%3B%0A%20%20%20%20%20%20%20%20%20%20%20%20%20%20%20%20%20%20%20%20left%3A%200.0%25%3B%0A%20%20%20%20%20%20%20%20%20%20%20%20%20%20%20%20%20%20%20%20top%3A%200.0%25%3B%0A%20%20%20%20%20%20%20%20%20%20%20%20%20%20%20%20%7D%0A%20%20%20%20%20%20%20%20%20%20%20%20%3C/style%3E%0A%20%20%20%20%20%20%20%20%0A%3C/head%3E%0A%3Cbody%3E%20%20%20%20%0A%20%20%20%20%0A%20%20%20%20%20%20%20%20%20%20%20%20%3Cdiv%20class%3D%22folium-map%22%20id%3D%22map_c0cf247b65f5425297e2de5c40651b58%22%20%3E%3C/div%3E%0A%20%20%20%20%20%20%20%20%0A%3C/body%3E%0A%3Cscript%3E%20%20%20%20%0A%20%20%20%20%0A%20%20%20%20%20%20%20%20%20%20%20%20var%20map_c0cf247b65f5425297e2de5c40651b58%20%3D%20L.map%28%0A%20%20%20%20%20%20%20%20%20%20%20%20%20%20%20%20%22map_c0cf247b65f5425297e2de5c40651b58%22%2C%0A%20%20%20%20%20%20%20%20%20%20%20%20%20%20%20%20%7B%0A%20%20%20%20%20%20%20%20%20%20%20%20%20%20%20%20%20%20%20%20center%3A%20%5B0.0%2C%200.0%5D%2C%0A%20%20%20%20%20%20%20%20%20%20%20%20%20%20%20%20%20%20%20%20crs%3A%20L.CRS.EPSG3857%2C%0A%20%20%20%20%20%20%20%20%20%20%20%20%20%20%20%20%20%20%20%20zoom%3A%2010%2C%0A%20%20%20%20%20%20%20%20%20%20%20%20%20%20%20%20%20%20%20%20zoomControl%3A%20true%2C%0A%20%20%20%20%20%20%20%20%20%20%20%20%20%20%20%20%20%20%20%20preferCanvas%3A%20false%2C%0A%20%20%20%20%20%20%20%20%20%20%20%20%20%20%20%20%7D%0A%20%20%20%20%20%20%20%20%20%20%20%20%29%3B%0A%0A%20%20%20%20%20%20%20%20%20%20%20%20%0A%0A%20%20%20%20%20%20%20%20%0A%20%20%20%20%0A%20%20%20%20%20%20%20%20%20%20%20%20var%20tile_layer_31acb574370a40d39d6bec15b5ba4d7d%20%3D%20L.tileLayer%28%0A%20%20%20%20%20%20%20%20%20%20%20%20%20%20%20%20%22https%3A//cartodb-basemaps-%7Bs%7D.global.ssl.fastly.net/light_all/%7Bz%7D/%7Bx%7D/%7By%7D.png%22%2C%0A%20%20%20%20%20%20%20%20%20%20%20%20%20%20%20%20%7B%22attribution%22%3A%20%22%5Cu0026copy%3B%20%5Cu003ca%20href%3D%5C%22http%3A//www.openstreetmap.org/copyright%5C%22%5Cu003eOpenStreetMap%5Cu003c/a%5Cu003e%20contributors%20%5Cu0026copy%3B%20%5Cu003ca%20href%3D%5C%22http%3A//cartodb.com/attributions%5C%22%5Cu003eCartoDB%5Cu003c/a%5Cu003e%2C%20CartoDB%20%5Cu003ca%20href%20%3D%5C%22http%3A//cartodb.com/attributions%5C%22%5Cu003eattributions%5Cu003c/a%5Cu003e%22%2C%20%22detectRetina%22%3A%20false%2C%20%22maxNativeZoom%22%3A%2018%2C%20%22maxZoom%22%3A%2018%2C%20%22minZoom%22%3A%200%2C%20%22noWrap%22%3A%20false%2C%20%22opacity%22%3A%201%2C%20%22subdomains%22%3A%20%22abc%22%2C%20%22tms%22%3A%20false%7D%0A%20%20%20%20%20%20%20%20%20%20%20%20%29.addTo%28map_c0cf247b65f5425297e2de5c40651b58%29%3B%0A%20%20%20%20%20%20%20%20%0A%20%20%20%20%0A%20%20%20%20%20%20%20%20function%20geo_json_86841660115841deb5cda4984fd0e47d_onEachFeature%28feature%2C%20layer%29%20%7B%0A%20%20%20%20%20%20%20%20%20%20%20%20layer.on%28%7B%0A%20%20%20%20%20%20%20%20%20%20%20%20%20%20%20%20click%3A%20function%28e%29%20%7B%0A%20%20%20%20%20%20%20%20%20%20%20%20%20%20%20%20%20%20%20%20map_c0cf247b65f5425297e2de5c40651b58.fitBounds%28e.target.getBounds%28%29%29%3B%0A%20%20%20%20%20%20%20%20%20%20%20%20%20%20%20%20%7D%0A%20%20%20%20%20%20%20%20%20%20%20%20%7D%29%3B%0A%20%20%20%20%20%20%20%20%7D%3B%0A%20%20%20%20%20%20%20%20var%20geo_json_86841660115841deb5cda4984fd0e47d%20%3D%20L.geoJson%28null%2C%20%7B%0A%20%20%20%20%20%20%20%20%20%20%20%20%20%20%20%20onEachFeature%3A%20geo_json_86841660115841deb5cda4984fd0e47d_onEachFeature%2C%0A%20%20%20%20%20%20%20%20%20%20%20%20%0A%20%20%20%20%20%20%20%20%7D%29.addTo%28map_c0cf247b65f5425297e2de5c40651b58%29%3B%0A%0A%20%20%20%20%20%20%20%20function%20geo_json_86841660115841deb5cda4984fd0e47d_add%20%28data%29%20%7B%0A%20%20%20%20%20%20%20%20%20%20%20%20geo_json_86841660115841deb5cda4984fd0e47d.addData%28data%29%3B%0A%20%20%20%20%20%20%20%20%7D%0A%20%20%20%20%20%20%20%20%20%20%20%20geo_json_86841660115841deb5cda4984fd0e47d_add%28%7B%22features%22%3A%20%5B%7B%22geometry%22%3A%20%7B%22coordinates%22%3A%20%5B12.902171%2C%2052.0546551%5D%2C%20%22type%22%3A%20%22Point%22%7D%2C%20%22id%22%3A%20%220%22%2C%20%22properties%22%3A%20%7B%22category%22%3A%20%22place%22%2C%20%22display_name%22%3A%20%22Frohnsdorf%2C%20Treuenbrietzen%2C%20Potsdam-Mittelmark%2C%20Brandenburg%2C%2014929%2C%20Deutschland%22%2C%20%22icon%22%3A%20%22https%3A//nominatim.openstreetmap.org/ui/mapicons//poi_place_village.p.20.png%22%2C%20%22importance%22%3A%200.49500000000000005%2C%20%22osm_id%22%3A%20387079362%2C%20%22osm_type%22%3A%20%22node%22%2C%20%22place_id%22%3A%203285415%2C%20%22place_rank%22%3A%2019%2C%20%22type%22%3A%20%22village%22%7D%2C%20%22type%22%3A%20%22Feature%22%7D%2C%20%7B%22geometry%22%3A%20%7B%22coordinates%22%3A%20%5B12.9421292%2C%2052.0487863%5D%2C%20%22type%22%3A%20%22Point%22%7D%2C%20%22id%22%3A%20%220%22%2C%20%22properties%22%3A%20%7B%22category%22%3A%20%22place%22%2C%20%22display_name%22%3A%20%22Klausdorf%2C%20Treuenbrietzen%2C%20Potsdam-Mittelmark%2C%20Brandenburg%2C%20Deutschland%22%2C%20%22icon%22%3A%20%22https%3A//nominatim.openstreetmap.org/ui/mapicons//poi_place_village.p.20.png%22%2C%20%22importance%22%3A%200.49500000000000005%2C%20%22osm_id%22%3A%20226935349%2C%20%22osm_type%22%3A%20%22node%22%2C%20%22place_id%22%3A%20554316%2C%20%22place_rank%22%3A%2019%2C%20%22type%22%3A%20%22village%22%7D%2C%20%22type%22%3A%20%22Feature%22%7D%2C%20%7B%22geometry%22%3A%20%7B%22coordinates%22%3A%20%5B12.9443928%2C%2052.0353239%5D%2C%20%22type%22%3A%20%22Point%22%7D%2C%20%22id%22%3A%20%220%22%2C%20%22properties%22%3A%20%7B%22category%22%3A%20%22place%22%2C%20%22display_name%22%3A%20%22Tiefenbrunnen%2C%20Treuenbrietzen%2C%20Potsdam-Mittelmark%2C%20Brandenburg%2C%20Deutschland%22%2C%20%22icon%22%3A%20null%2C%20%22importance%22%3A%200.42%2C%20%22osm_id%22%3A%20282202396%2C%20%22osm_type%22%3A%20%22node%22%2C%20%22place_id%22%3A%20303964452%2C%20%22place_rank%22%3A%2022%2C%20%22type%22%3A%20%22isolated_dwelling%22%7D%2C%20%22type%22%3A%20%22Feature%22%7D%5D%2C%20%22type%22%3A%20%22FeatureCollection%22%7D%29%3B%0A%20%20%20%20%20%20%20%20%0A%20%20%20%20%0A%20%20%20%20%20%20%20%20%20%20%20%20map_c0cf247b65f5425297e2de5c40651b58.fitBounds%28%0A%20%20%20%20%20%20%20%20%20%20%20%20%20%20%20%20%5B%5B52.0353239%2C%2012.902171%5D%2C%20%5B52.0546551%2C%2012.9443928%5D%5D%2C%0A%20%20%20%20%20%20%20%20%20%20%20%20%20%20%20%20%7B%7D%0A%20%20%20%20%20%20%20%20%20%20%20%20%29%3B%0A%20%20%20%20%20%20%20%20%0A%3C/script%3E onload=\"this.contentDocument.open();this.contentDocument.write(    decodeURIComponent(this.getAttribute('data-html')));this.contentDocument.close();\" allowfullscreen webkitallowfullscreen mozallowfullscreen></iframe></div></div>"
      ],
      "text/plain": [
       "<folium.folium.Map at 0x7f031407dd00>"
      ]
     },
     "execution_count": 4,
     "metadata": {},
     "output_type": "execute_result"
    }
   ],
   "source": [
    "evacuated_places = gpd.GeoDataFrame(pd.concat([frohnsdorf, klausdorf, tiefenbrunnen]))\n",
    "geodataframe_on_map(evacuated_places)"
   ]
  },
  {
   "cell_type": "code",
   "execution_count": 5,
   "metadata": {},
   "outputs": [],
   "source": [
    "evacuated_places.to_file(out_dir / 'evacuated_2018.json', driver='GeoJSON')"
   ]
  },
  {
   "cell_type": "code",
   "execution_count": 6,
   "metadata": {},
   "outputs": [],
   "source": [
    "from shapely.geometry import box"
   ]
  },
  {
   "cell_type": "code",
   "execution_count": 7,
   "metadata": {},
   "outputs": [],
   "source": [
    "article_date = date(2018, 8, 24)\n",
    "pre_fire_2018 = article_date - timedelta(weeks=4)\n",
    "post_fire_2018 = article_date + timedelta(weeks=4)"
   ]
  },
  {
   "cell_type": "code",
   "execution_count": 8,
   "metadata": {},
   "outputs": [],
   "source": [
    "footprint_2018 = box(*evacuated_places.to_crs('epsg:25833').buffer(2500).to_crs('epsg:4326').unary_union.bounds)\n",
    "results = api.query(footprint_2018.wkt,\n",
    "                    platformname='Sentinel-2',\n",
    "                    processinglevel='Level-2A',\n",
    "                    date=(pre_fire_2018, post_fire_2018),\n",
    "                    cloudcoverpercentage=(0, 30))"
   ]
  },
  {
   "cell_type": "code",
   "execution_count": 9,
   "metadata": {},
   "outputs": [
    {
     "name": "stderr",
     "output_type": "stream",
     "text": [
      "/opt/conda/lib/python3.8/site-packages/pyproj/crs/crs.py:53: FutureWarning: '+init=<authority>:<code>' syntax is deprecated. '<authority>:<code>' is the preferred initialization method. When making the change, be mindful of axis order changes: https://pyproj4.github.io/pyproj/stable/gotchas.html#axis-order-changes-in-proj-6\n",
      "  return _prepare_from_string(\" \".join(pjargs))\n"
     ]
    },
    {
     "data": {
      "text/plain": [
       "<AxesSubplot:xlabel='beginposition'>"
      ]
     },
     "execution_count": 9,
     "metadata": {},
     "output_type": "execute_result"
    },
    {
     "data": {
      "image/png": "[encoded data removed]",
      "text/plain": [
       "<Figure size 432x288 with 1 Axes>"
      ]
     },
     "metadata": {
      "needs_background": "light"
     },
     "output_type": "display_data"
    }
   ],
   "source": [
    "gdf = SentinelAPI.to_geodataframe(results)\n",
    "gdf.set_index('beginposition')['cloudcoverpercentage'].plot(kind='bar')"
   ]
  },
  {
   "cell_type": "markdown",
   "metadata": {},
   "source": [
    "- deduplicate the captured products\n",
    "- avoid reprojecting, avoid merging"
   ]
  },
  {
   "cell_type": "code",
   "execution_count": 10,
   "metadata": {},
   "outputs": [
    {
     "data": {
      "image/png": "[encoded data removed]",
      "text/plain": [
       "<Figure size 432x288 with 1 Axes>"
      ]
     },
     "metadata": {
      "needs_background": "light"
     },
     "output_type": "display_data"
    }
   ],
   "source": [
    "plot_all([\n",
    "    gdf, footprint_2018\n",
    "], [\n",
    "    { 'facecolor': 'none', 'edgecolor': 'blue', 'alpha': 0.1 },\n",
    "    { 'facecolor': 'none', 'edgecolor': 'red' }\n",
    "])"
   ]
  },
  {
   "cell_type": "markdown",
   "metadata": {},
   "source": [
    "- we can take any product because the all easily contain the study area"
   ]
  },
  {
   "cell_type": "code",
   "execution_count": 11,
   "metadata": {},
   "outputs": [
    {
     "data": {
      "text/plain": [
       "array(['T33UUT', 'T32UQC'], dtype=object)"
      ]
     },
     "execution_count": 11,
     "metadata": {},
     "output_type": "execute_result"
    }
   ],
   "source": [
    "gdf['tile'] = gdf['title'].apply(lambda t: t.split('_')[5])\n",
    "gdf['tile'].unique()"
   ]
  },
  {
   "cell_type": "code",
   "execution_count": 12,
   "metadata": {},
   "outputs": [
    {
     "data": {
      "text/plain": [
       "<AxesSubplot:xlabel='beginposition'>"
      ]
     },
     "execution_count": 12,
     "metadata": {},
     "output_type": "execute_result"
    },
    {
     "data": {
      "image/png": "[encoded data removed]",
      "text/plain": [
       "<Figure size 432x288 with 1 Axes>"
      ]
     },
     "metadata": {
      "needs_background": "light"
     },
     "output_type": "display_data"
    }
   ],
   "source": [
    "gdf = gdf[gdf['tile'] == 'T33UUT']\n",
    "gdf.set_index('beginposition')['cloudcoverpercentage'].plot(kind='bar')"
   ]
  },
  {
   "cell_type": "markdown",
   "metadata": {},
   "source": [
    "- from the plot we select the following timestamps:\n",
    "  - criteria: low cloud coverage, close to before and after the fire\n",
    "  - we don't know exactly how long it burned, so we take the last one as well"
   ]
  },
  {
   "cell_type": "code",
   "execution_count": 13,
   "metadata": {},
   "outputs": [],
   "source": [
    "timestamps = [\n",
    "    '2018-08-07 10:10:21.025000',\n",
    "    '2018-08-22 10:10:19.024000',\n",
    "    '2018-09-19 10:20:21.024000'\n",
    "]\n",
    "product_uuids_2018 = gdf[gdf['beginposition'].isin(timestamps)]['uuid'].values"
   ]
  },
  {
   "cell_type": "code",
   "execution_count": 14,
   "metadata": {},
   "outputs": [],
   "source": [
    "out_dir.mkdir(exist_ok=True, parents=True)\n",
    "downloaded, initialized, failed = api.download_all(product_uuids_2018, out_dir)"
   ]
  },
  {
   "cell_type": "code",
   "execution_count": 15,
   "metadata": {},
   "outputs": [
    {
     "data": {
      "text/plain": [
       "3"
      ]
     },
     "execution_count": 15,
     "metadata": {},
     "output_type": "execute_result"
    }
   ],
   "source": [
    "len(downloaded)"
   ]
  },
  {
   "cell_type": "code",
   "execution_count": 16,
   "metadata": {},
   "outputs": [
    {
     "data": {
      "text/plain": [
       "0"
      ]
     },
     "execution_count": 16,
     "metadata": {},
     "output_type": "execute_result"
    }
   ],
   "source": [
    "len(initialized)"
   ]
  },
  {
   "cell_type": "code",
   "execution_count": 17,
   "metadata": {},
   "outputs": [
    {
     "data": {
      "text/plain": [
       "0"
      ]
     },
     "execution_count": 17,
     "metadata": {},
     "output_type": "execute_result"
    }
   ],
   "source": [
    "len(failed)"
   ]
  },
  {
   "cell_type": "markdown",
   "metadata": {},
   "source": [
    "- output paths:"
   ]
  },
  {
   "cell_type": "code",
   "execution_count": 18,
   "metadata": {},
   "outputs": [
    {
     "data": {
      "text/plain": [
       "['input/forest_fires/S2B_MSIL2A_20180822T101019_N0208_R022_T33UUT_20180822T161243.zip',\n",
       " 'input/forest_fires/S2A_MSIL2A_20180807T101021_N0208_R022_T33UUT_20180809T112302.zip',\n",
       " 'input/forest_fires/S2A_MSIL2A_20180919T102021_N0208_R065_T33UUT_20180919T132226.zip']"
      ]
     },
     "execution_count": 18,
     "metadata": {},
     "output_type": "execute_result"
    }
   ],
   "source": [
    "list(map(lambda d: d['path'], downloaded.values()))"
   ]
  },
  {
   "cell_type": "markdown",
   "metadata": {},
   "source": [
    "## 2019\n",
    "\n",
    "- Jueterbog\n",
    "- https://web.archive.org/web/20190622070809/https://www.rbb24.de/panorama/beitrag/2019/06/waldbrand-jueterbog-sonntag-lage-unter-kontrolle.html\n",
    "- Article date: 2019-06-19\n",
    "  - Article says: fire is put out, fire fighting again responsibility of communities\n",
    "  - \"have been at work for one week\""
   ]
  },
  {
   "cell_type": "code",
   "execution_count": 19,
   "metadata": {},
   "outputs": [
    {
     "data": {
      "text/html": [
       "<div>\n",
       "<style scoped>\n",
       "    .dataframe tbody tr th:only-of-type {\n",
       "        vertical-align: middle;\n",
       "    }\n",
       "\n",
       "    .dataframe tbody tr th {\n",
       "        vertical-align: top;\n",
       "    }\n",
       "\n",
       "    .dataframe thead th {\n",
       "        text-align: right;\n",
       "    }\n",
       "</style>\n",
       "<table border=\"1\" class=\"dataframe\">\n",
       "  <thead>\n",
       "    <tr style=\"text-align: right;\">\n",
       "      <th></th>\n",
       "      <th>place_id</th>\n",
       "      <th>osm_type</th>\n",
       "      <th>osm_id</th>\n",
       "      <th>display_name</th>\n",
       "      <th>place_rank</th>\n",
       "      <th>category</th>\n",
       "      <th>type</th>\n",
       "      <th>importance</th>\n",
       "      <th>icon</th>\n",
       "      <th>geometry</th>\n",
       "    </tr>\n",
       "  </thead>\n",
       "  <tbody>\n",
       "    <tr>\n",
       "      <th>0</th>\n",
       "      <td>257891092</td>\n",
       "      <td>relation</td>\n",
       "      <td>422436</td>\n",
       "      <td>Jüterbog, Teltow-Fläming, Brandenburg, 14913, ...</td>\n",
       "      <td>16</td>\n",
       "      <td>boundary</td>\n",
       "      <td>administrative</td>\n",
       "      <td>0.685236</td>\n",
       "      <td>https://nominatim.openstreetmap.org/ui/mapicon...</td>\n",
       "      <td>POLYGON ((12.95605 52.03939, 12.96134 52.03944...</td>\n",
       "    </tr>\n",
       "  </tbody>\n",
       "</table>\n",
       "</div>"
      ],
      "text/plain": [
       "    place_id  osm_type  osm_id  \\\n",
       "0  257891092  relation  422436   \n",
       "\n",
       "                                        display_name  place_rank  category  \\\n",
       "0  Jüterbog, Teltow-Fläming, Brandenburg, 14913, ...          16  boundary   \n",
       "\n",
       "             type  importance  \\\n",
       "0  administrative    0.685236   \n",
       "\n",
       "                                                icon  \\\n",
       "0  https://nominatim.openstreetmap.org/ui/mapicon...   \n",
       "\n",
       "                                            geometry  \n",
       "0  POLYGON ((12.95605 52.03939, 12.96134 52.03944...  "
      ]
     },
     "execution_count": 19,
     "metadata": {},
     "output_type": "execute_result"
    }
   ],
   "source": [
    "jueterbog = search_osm('Jüterbog, Brandenburg')\n",
    "jueterbog = jueterbog[(jueterbog['type'] == 'administrative') & (jueterbog['osm_type'] == 'relation')]\n",
    "jueterbog"
   ]
  },
  {
   "cell_type": "code",
   "execution_count": 20,
   "metadata": {},
   "outputs": [
    {
     "data": {
      "text/html": [
       "<div style=\"width:100%;\"><div style=\"position:relative;width:100%;height:0;padding-bottom:60%;\"><span style=\"color:#565656\">Make this Notebook Trusted to load map: File -> Trust Notebook</span><iframe src=\"about:blank\" style=\"position:absolute;width:100%;height:100%;left:0;top:0;border:none !important;\" data-html=%3C%21DOCTYPE%20html%3E%0A%3Chead%3E%20%20%20%20%0A%20%20%20%20%3Cmeta%20http-equiv%3D%22content-type%22%20content%3D%22text/html%3B%20charset%3DUTF-8%22%20/%3E%0A%20%20%20%20%0A%20%20%20%20%20%20%20%20%3Cscript%3E%0A%20%20%20%20%20%20%20%20%20%20%20%20L_NO_TOUCH%20%3D%20false%3B%0A%20%20%20%20%20%20%20%20%20%20%20%20L_DISABLE_3D%20%3D%20false%3B%0A%20%20%20%20%20%20%20%20%3C/script%3E%0A%20%20%20%20%0A%20%20%20%20%3Cscript%20src%3D%22https%3A//cdn.jsdelivr.net/npm/leaflet%401.6.0/dist/leaflet.js%22%3E%3C/script%3E%0A%20%20%20%20%3Cscript%20src%3D%22https%3A//code.jquery.com/jquery-1.12.4.min.js%22%3E%3C/script%3E%0A%20%20%20%20%3Cscript%20src%3D%22https%3A//maxcdn.bootstrapcdn.com/bootstrap/3.2.0/js/bootstrap.min.js%22%3E%3C/script%3E%0A%20%20%20%20%3Cscript%20src%3D%22https%3A//cdnjs.cloudflare.com/ajax/libs/Leaflet.awesome-markers/2.0.2/leaflet.awesome-markers.js%22%3E%3C/script%3E%0A%20%20%20%20%3Clink%20rel%3D%22stylesheet%22%20href%3D%22https%3A//cdn.jsdelivr.net/npm/leaflet%401.6.0/dist/leaflet.css%22/%3E%0A%20%20%20%20%3Clink%20rel%3D%22stylesheet%22%20href%3D%22https%3A//maxcdn.bootstrapcdn.com/bootstrap/3.2.0/css/bootstrap.min.css%22/%3E%0A%20%20%20%20%3Clink%20rel%3D%22stylesheet%22%20href%3D%22https%3A//maxcdn.bootstrapcdn.com/bootstrap/3.2.0/css/bootstrap-theme.min.css%22/%3E%0A%20%20%20%20%3Clink%20rel%3D%22stylesheet%22%20href%3D%22https%3A//maxcdn.bootstrapcdn.com/font-awesome/4.6.3/css/font-awesome.min.css%22/%3E%0A%20%20%20%20%3Clink%20rel%3D%22stylesheet%22%20href%3D%22https%3A//cdnjs.cloudflare.com/ajax/libs/Leaflet.awesome-markers/2.0.2/leaflet.awesome-markers.css%22/%3E%0A%20%20%20%20%3Clink%20rel%3D%22stylesheet%22%20href%3D%22https%3A//rawcdn.githack.com/python-visualization/folium/master/folium/templates/leaflet.awesome.rotate.css%22/%3E%0A%20%20%20%20%3Cstyle%3Ehtml%2C%20body%20%7Bwidth%3A%20100%25%3Bheight%3A%20100%25%3Bmargin%3A%200%3Bpadding%3A%200%3B%7D%3C/style%3E%0A%20%20%20%20%3Cstyle%3E%23map%20%7Bposition%3Aabsolute%3Btop%3A0%3Bbottom%3A0%3Bright%3A0%3Bleft%3A0%3B%7D%3C/style%3E%0A%20%20%20%20%0A%20%20%20%20%20%20%20%20%20%20%20%20%3Cmeta%20name%3D%22viewport%22%20content%3D%22width%3Ddevice-width%2C%0A%20%20%20%20%20%20%20%20%20%20%20%20%20%20%20%20initial-scale%3D1.0%2C%20maximum-scale%3D1.0%2C%20user-scalable%3Dno%22%20/%3E%0A%20%20%20%20%20%20%20%20%20%20%20%20%3Cstyle%3E%0A%20%20%20%20%20%20%20%20%20%20%20%20%20%20%20%20%23map_79b8b5efdccc4dd3b0976d6faa9f8a1f%20%7B%0A%20%20%20%20%20%20%20%20%20%20%20%20%20%20%20%20%20%20%20%20position%3A%20relative%3B%0A%20%20%20%20%20%20%20%20%20%20%20%20%20%20%20%20%20%20%20%20width%3A%20100.0%25%3B%0A%20%20%20%20%20%20%20%20%20%20%20%20%20%20%20%20%20%20%20%20height%3A%20100.0%25%3B%0A%20%20%20%20%20%20%20%20%20%20%20%20%20%20%20%20%20%20%20%20left%3A%200.0%25%3B%0A%20%20%20%20%20%20%20%20%20%20%20%20%20%20%20%20%20%20%20%20top%3A%200.0%25%3B%0A%20%20%20%20%20%20%20%20%20%20%20%20%20%20%20%20%7D%0A%20%20%20%20%20%20%20%20%20%20%20%20%3C/style%3E%0A%20%20%20%20%20%20%20%20%0A%3C/head%3E%0A%3Cbody%3E%20%20%20%20%0A%20%20%20%20%0A%20%20%20%20%20%20%20%20%20%20%20%20%3Cdiv%20class%3D%22folium-map%22%20id%3D%22map_79b8b5efdccc4dd3b0976d6faa9f8a1f%22%20%3E%3C/div%3E%0A%20%20%20%20%20%20%20%20%0A%3C/body%3E%0A%3Cscript%3E%20%20%20%20%0A%20%20%20%20%0A%20%20%20%20%20%20%20%20%20%20%20%20var%20map_79b8b5efdccc4dd3b0976d6faa9f8a1f%20%3D%20L.map%28%0A%20%20%20%20%20%20%20%20%20%20%20%20%20%20%20%20%22map_79b8b5efdccc4dd3b0976d6faa9f8a1f%22%2C%0A%20%20%20%20%20%20%20%20%20%20%20%20%20%20%20%20%7B%0A%20%20%20%20%20%20%20%20%20%20%20%20%20%20%20%20%20%20%20%20center%3A%20%5B0.0%2C%200.0%5D%2C%0A%20%20%20%20%20%20%20%20%20%20%20%20%20%20%20%20%20%20%20%20crs%3A%20L.CRS.EPSG3857%2C%0A%20%20%20%20%20%20%20%20%20%20%20%20%20%20%20%20%20%20%20%20zoom%3A%2010%2C%0A%20%20%20%20%20%20%20%20%20%20%20%20%20%20%20%20%20%20%20%20zoomControl%3A%20true%2C%0A%20%20%20%20%20%20%20%20%20%20%20%20%20%20%20%20%20%20%20%20preferCanvas%3A%20false%2C%0A%20%20%20%20%20%20%20%20%20%20%20%20%20%20%20%20%7D%0A%20%20%20%20%20%20%20%20%20%20%20%20%29%3B%0A%0A%20%20%20%20%20%20%20%20%20%20%20%20%0A%0A%20%20%20%20%20%20%20%20%0A%20%20%20%20%0A%20%20%20%20%20%20%20%20%20%20%20%20var%20tile_layer_43310407849b4d39a504550fa22f5555%20%3D%20L.tileLayer%28%0A%20%20%20%20%20%20%20%20%20%20%20%20%20%20%20%20%22https%3A//cartodb-basemaps-%7Bs%7D.global.ssl.fastly.net/light_all/%7Bz%7D/%7Bx%7D/%7By%7D.png%22%2C%0A%20%20%20%20%20%20%20%20%20%20%20%20%20%20%20%20%7B%22attribution%22%3A%20%22%5Cu0026copy%3B%20%5Cu003ca%20href%3D%5C%22http%3A//www.openstreetmap.org/copyright%5C%22%5Cu003eOpenStreetMap%5Cu003c/a%5Cu003e%20contributors%20%5Cu0026copy%3B%20%5Cu003ca%20href%3D%5C%22http%3A//cartodb.com/attributions%5C%22%5Cu003eCartoDB%5Cu003c/a%5Cu003e%2C%20CartoDB%20%5Cu003ca%20href%20%3D%5C%22http%3A//cartodb.com/attributions%5C%22%5Cu003eattributions%5Cu003c/a%5Cu003e%22%2C%20%22detectRetina%22%3A%20false%2C%20%22maxNativeZoom%22%3A%2018%2C%20%22maxZoom%22%3A%2018%2C%20%22minZoom%22%3A%200%2C%20%22noWrap%22%3A%20false%2C%20%22opacity%22%3A%201%2C%20%22subdomains%22%3A%20%22abc%22%2C%20%22tms%22%3A%20false%7D%0A%20%20%20%20%20%20%20%20%20%20%20%20%29.addTo%28map_79b8b5efdccc4dd3b0976d6faa9f8a1f%29%3B%0A%20%20%20%20%20%20%20%20%0A%20%20%20%20%0A%20%20%20%20%20%20%20%20function%20geo_json_1f2c0d781a814b15a352653baabe5600_onEachFeature%28feature%2C%20layer%29%20%7B%0A%20%20%20%20%20%20%20%20%20%20%20%20layer.on%28%7B%0A%20%20%20%20%20%20%20%20%20%20%20%20%20%20%20%20click%3A%20function%28e%29%20%7B%0A%20%20%20%20%20%20%20%20%20%20%20%20%20%20%20%20%20%20%20%20map_79b8b5efdccc4dd3b0976d6faa9f8a1f.fitBounds%28e.target.getBounds%28%29%29%3B%0A%20%20%20%20%20%20%20%20%20%20%20%20%20%20%20%20%7D%0A%20%20%20%20%20%20%20%20%20%20%20%20%7D%29%3B%0A%20%20%20%20%20%20%20%20%7D%3B%0A%20%20%20%20%20%20%20%20var%20geo_json_1f2c0d781a814b15a352653baabe5600%20%3D%20L.geoJson%28null%2C%20%7B%0A%20%20%20%20%20%20%20%20%20%20%20%20%20%20%20%20onEachFeature%3A%20geo_json_1f2c0d781a814b15a352653baabe5600_onEachFeature%2C%0A%20%20%20%20%20%20%20%20%20%20%20%20%0A%20%20%20%20%20%20%20%20%7D%29.addTo%28map_79b8b5efdccc4dd3b0976d6faa9f8a1f%29%3B%0A%0A%20%20%20%20%20%20%20%20function%20geo_json_1f2c0d781a814b15a352653baabe5600_add%20%28data%29%20%7B%0A%20%20%20%20%20%20%20%20%20%20%20%20geo_json_1f2c0d781a814b15a352653baabe5600.addData%28data%29%3B%0A%20%20%20%20%20%20%20%20%7D%0A%20%20%20%20%20%20%20%20%20%20%20%20geo_json_1f2c0d781a814b15a352653baabe5600_add%28%7B%22features%22%3A%20%5B%7B%22geometry%22%3A%20%7B%22coordinates%22%3A%20%5B%5B%5B12.9560532%2C%2052.0393856%5D%2C%20%5B12.9613366%2C%2052.0394406%5D%2C%20%5B12.9627969%2C%2052.0387489%5D%2C%20%5B12.9635331%2C%2052.0382458%5D%2C%20%5B12.9646476%2C%2052.0377489%5D%2C%20%5B12.9650159%2C%2052.0377109%5D%2C%20%5B12.966805%2C%2052.0368495%5D%2C%20%5B12.9672242%2C%2052.0365476%5D%2C%20%5B12.9679451%2C%2052.0363066%5D%2C%20%5B12.9669613%2C%2052.0355612%5D%2C%20%5B12.9639946%2C%2052.0340286%5D%2C%20%5B12.968133%2C%2052.0324607%5D%2C%20%5B12.9713351%2C%2052.0315192%5D%2C%20%5B12.9699779%2C%2052.0270175%5D%2C%20%5B12.9766274%2C%2052.0249226%5D%2C%20%5B12.9839353%2C%2052.0217203%5D%2C%20%5B12.9844181%2C%2052.0215008%5D%2C%20%5B12.99209%2C%2052.0178806%5D%2C%20%5B12.9925835%2C%2052.0183481%5D%2C%20%5B12.994195%2C%2052.0175881%5D%2C%20%5B12.994519%2C%2052.017909%5D%2C%20%5B12.9945812%2C%2052.0200746%5D%2C%20%5B12.9996016%2C%2052.0202362%5D%2C%20%5B13.0042532%2C%2052.0204114%5D%2C%20%5B13.0052907%2C%2052.0180285%5D%2C%20%5B13.0063487%2C%2052.0184629%5D%2C%20%5B13.0071608%2C%2052.0187964%5D%2C%20%5B13.0098955%2C%2052.0119718%5D%2C%20%5B13.0124512%2C%2052.0111807%5D%2C%20%5B13.0245715%2C%2052.0071262%5D%2C%20%5B13.0203658%2C%2052.0046053%5D%2C%20%5B13.0228925%2C%2052.0033632%5D%2C%20%5B13.0190006%2C%2052.0011089%5D%2C%20%5B13.0177533%2C%2052.0012523%5D%2C%20%5B13.0168539%2C%2051.9990807%5D%2C%20%5B13.0175824%2C%2051.9989829%5D%2C%20%5B13.0167445%2C%2051.9968394%5D%2C%20%5B13.019578%2C%2051.9965309%5D%2C%20%5B13.0193172%2C%2051.9957639%5D%2C%20%5B13.0191595%2C%2051.9950425%5D%2C%20%5B13.02872%2C%2051.9940668%5D%2C%20%5B13.0286588%2C%2051.9937041%5D%2C%20%5B13.0324955%2C%2051.993321%5D%2C%20%5B13.0329354%2C%2051.99408%5D%2C%20%5B13.0379425%2C%2051.9926385%5D%2C%20%5B13.0375724%2C%2051.9916951%5D%2C%20%5B13.0331489%2C%2051.9902985%5D%2C%20%5B13.0244188%2C%2051.9893808%5D%2C%20%5B13.0243866%2C%2051.9860759%5D%2C%20%5B13.0219705%2C%2051.97872%5D%2C%20%5B13.025526%2C%2051.9782838%5D%2C%20%5B13.0309956%2C%2051.9774551%5D%2C%20%5B13.0338362%2C%2051.9775613%5D%2C%20%5B13.0393147%2C%2051.9775013%5D%2C%20%5B13.0477365%2C%2051.9763528%5D%2C%20%5B13.0528874%2C%2051.9758446%5D%2C%20%5B13.0566586%2C%2051.9760706%5D%2C%20%5B13.051587%2C%2051.9714812%5D%2C%20%5B13.0537661%2C%2051.9704792%5D%2C%20%5B13.0569418%2C%2051.9702412%5D%2C%20%5B13.0579074%2C%2051.9718341%5D%2C%20%5B13.0673273%2C%2051.9713153%5D%2C%20%5B13.0650904%2C%2051.9665872%5D%2C%20%5B13.0630143%2C%2051.9630936%5D%2C%20%5B13.0640711%2C%2051.9629362%5D%2C%20%5B13.0656547%2C%2051.9629858%5D%2C%20%5B13.0684989%2C%2051.9636317%5D%2C%20%5B13.0697156%2C%2051.9636422%5D%2C%20%5B13.0720909%2C%2051.9631722%5D%2C%20%5B13.0738075%2C%2051.963352%5D%2C%20%5B13.0754136%2C%2051.963401%5D%2C%20%5B13.0773824%2C%2051.9639245%5D%2C%20%5B13.0798318%2C%2051.9649538%5D%2C%20%5B13.0824743%2C%2051.9655758%5D%2C%20%5B13.0840804%2C%2051.9657087%5D%2C%20%5B13.0855771%2C%2051.9661053%5D%2C%20%5B13.088579%2C%2051.9680018%5D%2C%20%5B13.0902903%2C%2051.9691916%5D%2C%20%5B13.0924103%2C%2051.9683058%5D%2C%20%5B13.0928984%2C%2051.9674948%5D%2C%20%5B13.0988572%2C%2051.9667545%5D%2C%20%5B13.1100496%2C%2051.964895%5D%2C%20%5B13.119786%2C%2051.9631174%5D%2C%20%5B13.120788%2C%2051.9632403%5D%2C%20%5B13.1235228%2C%2051.963635%5D%2C%20%5B13.1245796%2C%2051.963824%5D%2C%20%5B13.1249583%2C%2051.9642035%5D%2C%20%5B13.1286362%2C%2051.9632139%5D%2C%20%5B13.1298732%2C%2051.9631273%5D%2C%20%5B13.1344695%2C%2051.9633269%5D%2C%20%5B13.1397867%2C%2051.9655983%5D%2C%20%5B13.1446136%2C%2051.9679264%5D%2C%20%5B13.1451452%2C%2051.9675133%5D%2C%20%5B13.1465222%2C%2051.966891%5D%2C%20%5B13.148138%2C%2051.9658389%5D%2C%20%5B13.1525669%2C%2051.9634962%5D%2C%20%5B13.1586501%2C%2051.9616808%5D%2C%20%5B13.1616928%2C%2051.9607209%5D%2C%20%5B13.162446%2C%2051.9613265%5D%2C%20%5B13.1636903%2C%2051.9609436%5D%2C%20%5B13.1671945%2C%2051.9598654%5D%2C%20%5B13.1719539%2C%2051.9549054%5D%2C%20%5B13.17381%2C%2051.9554052%5D%2C%20%5B13.1747884%2C%2051.9559157%5D%2C%20%5B13.1770801%2C%2051.9562185%5D%2C%20%5B13.1782882%2C%2051.9560849%5D%2C%20%5B13.1802988%2C%2051.9564234%5D%2C%20%5B13.1843543%2C%2051.9569709%5D%2C%20%5B13.186927%2C%2051.9577683%5D%2C%20%5B13.1888971%2C%2051.9583783%5D%2C%20%5B13.1897734%2C%2051.9586493%5D%2C%20%5B13.1916934%2C%2051.9592801%5D%2C%20%5B13.1915072%2C%2051.959458%5D%2C%20%5B13.1904815%2C%2051.960648%5D%2C%20%5B13.1887327%2C%2051.9623206%5D%2C%20%5B13.1885933%2C%2051.9624396%5D%2C%20%5B13.1884967%2C%2051.9625652%5D%2C%20%5B13.1877564%2C%2051.9638873%5D%2C%20%5B13.1868981%2C%2051.9652954%5D%2C%20%5B13.1857608%2C%2051.9677346%5D%2C%20%5B13.1879817%2C%2051.9681114%5D%2C%20%5B13.1903957%2C%2051.9686269%5D%2C%20%5B13.1970878%2C%2051.9702649%5D%2C%20%5B13.2007158%2C%2051.9709288%5D%2C%20%5B13.2071155%2C%2051.9731851%5D%2C%20%5B13.211849%2C%2051.9744838%5D%2C%20%5B13.2121913%2C%2051.978196%5D%2C%20%5B13.2124992%2C%2051.9806457%5D%2C%20%5B13.2132588%2C%2051.9859035%5D%2C%20%5B13.2163137%2C%2051.9870971%5D%2C%20%5B13.2187083%2C%2051.9874724%5D%2C%20%5B13.2211166%2C%2051.987811%5D%2C%20%5B13.2286411%2C%2051.9892497%5D%2C%20%5B13.2287355%2C%2051.9901918%5D%2C%20%5B13.2330957%2C%2051.9903306%5D%2C%20%5B13.2316752%2C%2051.9926112%5D%2C%20%5B13.227815%2C%2051.9919915%5D%2C%20%5B13.2241049%2C%2051.9980955%5D%2C%20%5B13.2217103%2C%2052.0023612%5D%2C%20%5B13.217985%2C%2052.0033331%5D%2C%20%5B13.2110581%2C%2052.0031022%5D%2C%20%5B13.2113447%2C%2052.0043954%5D%2C%20%5B13.208214%2C%2052.0058893%5D%2C%20%5B13.2047443%2C%2052.0068681%5D%2C%20%5B13.2035748%2C%2052.0123163%5D%2C%20%5B13.2035877%2C%2052.0160815%5D%2C%20%5B13.2016951%2C%2052.0207905%5D%2C%20%5B13.2007939%2C%2052.022853%5D%2C%20%5B13.1996738%2C%2052.0235409%5D%2C%20%5B13.1963436%2C%2052.0250804%5D%2C%20%5B13.1939523%2C%2052.0257618%5D%2C%20%5B13.1929286%2C%2052.0260535%5D%2C%20%5B13.1919244%2C%2052.0261575%5D%2C%20%5B13.1906423%2C%2052.0261142%5D%2C%20%5B13.1900179%2C%2052.02641%5D%2C%20%5B13.1883109%2C%2052.0268417%5D%2C%20%5B13.1861716%2C%2052.0272985%5D%2C%20%5B13.1840414%2C%2052.0276312%5D%2C%20%5B13.181085%2C%2052.0282428%5D%2C%20%5B13.1795664%2C%2052.0286059%5D%2C%20%5B13.1791496%2C%2052.0286676%5D%2C%20%5B13.1779179%2C%2052.0286273%5D%2C%20%5B13.176786%2C%2052.0288703%5D%2C%20%5B13.1755531%2C%2052.0293621%5D%2C%20%5B13.1753313%2C%2052.0358878%5D%2C%20%5B13.1707361%2C%2052.0413447%5D%2C%20%5B13.170436%2C%2052.0417012%5D%2C%20%5B13.1701855%2C%2052.0419986%5D%2C%20%5B13.1686981%2C%2052.0422364%5D%2C%20%5B13.1670816%2C%2052.0424949%5D%2C%20%5B13.1651987%2C%2052.0429344%5D%2C%20%5B13.1639317%2C%2052.0434814%5D%2C%20%5B13.1631839%2C%2052.0445128%5D%2C%20%5B13.1618588%2C%2052.0452327%5D%2C%20%5B13.1588902%2C%2052.0455614%5D%2C%20%5B13.1571081%2C%2052.0455614%5D%2C%20%5B13.1566843%2C%2052.0453073%5D%2C%20%5B13.1550482%2C%2052.0463815%5D%2C%20%5B13.1583602%2C%2052.0489417%5D%2C%20%5B13.1559451%2C%2052.0507374%5D%2C%20%5B13.1549152%2C%2052.0517402%5D%2C%20%5B13.154486%2C%2052.0527958%5D%2C%20%5B13.153971%2C%2052.0536403%5D%2C%20%5B13.1470466%2C%2052.053983%5D%2C%20%5B13.1478824%2C%2052.0566687%5D%2C%20%5B13.1435748%2C%2052.0577189%5D%2C%20%5B13.1431228%2C%2052.0579604%5D%2C%20%5B13.1435016%2C%2052.0582869%5D%2C%20%5B13.1439159%2C%2052.0586577%5D%2C%20%5B13.1439342%2C%2052.0592876%5D%2C%20%5B13.1446144%2C%2052.0596366%5D%2C%20%5B13.1457128%2C%2052.0597362%5D%2C%20%5B13.1467408%2C%2052.0599044%5D%2C%20%5B13.1474122%2C%2052.0601247%5D%2C%20%5B13.1474489%2C%2052.0603747%5D%2C%20%5B13.1471003%2C%2052.060973%5D%2C%20%5B13.1470917%2C%2052.0616775%5D%2C%20%5B13.1480841%2C%2052.0619869%5D%2C%20%5B13.1485808%2C%2052.0615799%5D%2C%20%5B13.1493812%2C%2052.061512%5D%2C%20%5B13.1510367%2C%2052.0618761%5D%2C%20%5B13.1519036%2C%2052.0623635%5D%2C%20%5B13.1518059%2C%2052.0629473%5D%2C%20%5B13.1521106%2C%2052.0636121%5D%2C%20%5B13.1525795%2C%2052.0640349%5D%2C%20%5B13.1532028%2C%2052.0648931%5D%2C%20%5B13.1523499%2C%2052.0648917%5D%2C%20%5B13.1524722%2C%2052.0654695%5D%2C%20%5B13.1523638%2C%2052.0659306%5D%2C%20%5B13.1529474%2C%2052.0665114%5D%2C%20%5B13.1529839%2C%2052.0670706%5D%2C%20%5B13.1530161%2C%2052.0676646%5D%2C%20%5B13.1523096%2C%2052.0679778%5D%2C%20%5B13.1523091%2C%2052.0683534%5D%2C%20%5B13.1532098%2C%2052.068366%5D%2C%20%5B13.1535204%2C%2052.0680695%5D%2C%20%5B13.154525%2C%2052.0682068%5D%2C%20%5B13.1557681%2C%2052.0688187%5D%2C%20%5B13.1557906%2C%2052.0689793%5D%2C%20%5B13.1509154%2C%2052.0703527%5D%2C%20%5B13.150733%2C%2052.070388%5D%2C%20%5B13.1478302%2C%2052.0709504%5D%2C%20%5B13.1451265%2C%2052.0719264%5D%2C%20%5B13.1436888%2C%2052.0704887%5D%2C%20%5B13.1400196%2C%2052.0712669%5D%2C%20%5B13.1377665%2C%2052.0718868%5D%2C%20%5B13.1360439%2C%2052.0727967%5D%2C%20%5B13.1355375%2C%2052.0733243%5D%2C%20%5B13.1353991%2C%2052.0739738%5D%2C%20%5B13.13562%2C%2052.0754351%5D%2C%20%5B13.1352095%2C%2052.0758083%5D%2C%20%5B13.1323284%2C%2052.0784274%5D%2C%20%5B13.1263912%2C%2052.0841472%5D%2C%20%5B13.1253612%2C%2052.0851921%5D%2C%20%5B13.1200764%2C%2052.0848362%5D%2C%20%5B13.1159158%2C%2052.0843008%5D%2C%20%5B13.1144685%2C%2052.0842817%5D%2C%20%5B13.1122842%2C%2052.0839839%5D%2C%20%5B13.1088328%2C%2052.0835134%5D%2C%20%5B13.1076092%2C%2052.0832701%5D%2C%20%5B13.1039708%2C%2052.0828157%5D%2C%20%5B13.1041227%2C%2052.0846552%5D%2C%20%5B13.1039701%2C%2052.0857913%5D%2C%20%5B13.0990636%2C%2052.0850537%5D%2C%20%5B13.0984056%2C%2052.0848227%5D%2C%20%5B13.0973691%2C%2052.0847878%5D%2C%20%5B13.0957775%2C%2052.084728%5D%2C%20%5B13.0948344%2C%2052.0845871%5D%2C%20%5B13.0911909%2C%2052.0840543%5D%2C%20%5B13.087402%2C%2052.0833743%5D%2C%20%5B13.089814%2C%2052.0813175%5D%2C%20%5B13.0881543%2C%2052.081193%5D%2C%20%5B13.0775057%2C%2052.0809546%5D%2C%20%5B13.0729937%2C%2052.0809022%5D%2C%20%5B13.0702702%2C%2052.080824%5D%2C%20%5B13.0619841%2C%2052.0809689%5D%2C%20%5B13.055616%2C%2052.0812644%5D%2C%20%5B13.0546128%2C%2052.0827267%5D%2C%20%5B13.0545042%2C%2052.0843823%5D%2C%20%5B13.0545079%2C%2052.0847262%5D%2C%20%5B13.0547411%2C%2052.0850846%5D%2C%20%5B13.0552105%2C%2052.085926%5D%2C%20%5B13.055507%2C%2052.0862339%5D%2C%20%5B13.0556092%2C%2052.0865103%5D%2C%20%5B13.0556351%2C%2052.0868601%5D%2C%20%5B13.0550137%2C%2052.0891675%5D%2C%20%5B13.0539475%2C%2052.0923698%5D%2C%20%5B13.0521708%2C%2052.0924907%5D%2C%20%5B13.0473433%2C%2052.0931%5D%2C%20%5B13.0459916%2C%2052.0915307%5D%2C%20%5B13.0451385%2C%2052.0898893%5D%2C%20%5B13.044054%2C%2052.0879436%5D%2C%20%5B13.0434293%2C%2052.0869775%5D%2C%20%5B13.0427363%2C%2052.0862789%5D%2C%20%5B13.0403454%2C%2052.0843951%5D%2C%20%5B13.0351094%2C%2052.0853151%5D%2C%20%5B13.0333254%2C%2052.0863839%5D%2C%20%5B13.0315592%2C%2052.0874419%5D%2C%20%5B13.0299093%2C%2052.0883591%5D%2C%20%5B13.0296025%2C%2052.0878125%5D%2C%20%5B13.0266025%2C%2052.0884727%5D%2C%20%5B13.022157%2C%2052.0882424%5D%2C%20%5B13.0217021%2C%2052.0887989%5D%2C%20%5B13.0211276%2C%2052.0887685%5D%2C%20%5B13.0207902%2C%2052.0888522%5D%2C%20%5B13.0189335%2C%2052.0893126%5D%2C%20%5B13.011045%2C%2052.0912689%5D%2C%20%5B13.0122607%2C%2052.0927618%5D%2C%20%5B12.9990641%2C%2052.096028%5D%2C%20%5B12.9951743%2C%2052.094534%5D%2C%20%5B12.9956094%2C%2052.0942134%5D%2C%20%5B12.9959926%2C%2052.093787%5D%2C%20%5B12.9965849%2C%2052.0934956%5D%2C%20%5B12.9962969%2C%2052.0934485%5D%2C%20%5B12.9961969%2C%2052.0934321%5D%2C%20%5B12.9936795%2C%2052.0930205%5D%2C%20%5B12.9934214%2C%2052.092879%5D%2C%20%5B12.9925528%2C%2052.0930129%5D%2C%20%5B12.9888414%2C%2052.093585%5D%2C%20%5B12.9878487%2C%2052.0936971%5D%2C%20%5B12.9868334%2C%2052.0936872%5D%2C%20%5B12.984691%2C%2052.0935216%5D%2C%20%5B12.9847125%2C%2052.0926459%5D%2C%20%5B12.9846637%2C%2052.0923683%5D%2C%20%5B12.984419%2C%2052.0920736%5D%2C%20%5B12.9835931%2C%2052.0916516%5D%2C%20%5B12.9831051%2C%2052.0910974%5D%2C%20%5B12.9820768%2C%2052.0894693%5D%2C%20%5B12.9815012%2C%2052.0886641%5D%2C%20%5B12.9808979%2C%2052.0881804%5D%2C%20%5B12.9802943%2C%2052.0879775%5D%2C%20%5B12.9796446%2C%2052.0879149%5D%2C%20%5B12.9767395%2C%2052.0877937%5D%2C%20%5B12.9751747%2C%2052.0876349%5D%2C%20%5B12.9735274%2C%2052.0873968%5D%2C%20%5B12.9725753%2C%2052.0871514%5D%2C%20%5B12.9720815%2C%2052.0869214%5D%2C%20%5B12.9717344%2C%2052.0868859%5D%2C%20%5B12.9713657%2C%2052.0867126%5D%2C%20%5B12.970653%2C%2052.0858321%5D%2C%20%5B12.969497%2C%2052.0837378%5D%2C%20%5B12.9711819%2C%2052.0840434%5D%2C%20%5B12.9711674%2C%2052.0845543%5D%2C%20%5B12.9722519%2C%2052.0847498%5D%2C%20%5B12.9727869%2C%2052.0841856%5D%2C%20%5B12.9740618%2C%2052.0844507%5D%2C%20%5B12.9738029%2C%2052.0848849%5D%2C%20%5B12.9742801%2C%2052.0849693%5D%2C%20%5B12.9744175%2C%2052.085147%5D%2C%20%5B12.9748585%2C%2052.0853069%5D%2C%20%5B12.9751549%2C%2052.0853513%5D%2C%20%5B12.975596%2C%2052.0856757%5D%2C%20%5B12.9756032%2C%2052.0858889%5D%2C%20%5B12.9757903%2C%2052.0859739%5D%2C%20%5B12.9765638%2C%2052.085843%5D%2C%20%5B12.9771205%2C%2052.0857763%5D%2C%20%5B12.978584%2C%2052.0860141%5D%2C%20%5B12.9794838%2C%2052.08611%5D%2C%20%5B12.97981%2C%2052.0860029%5D%2C%20%5B12.9803565%2C%2052.0853019%5D%2C%20%5B12.9799805%2C%2052.0851064%5D%2C%20%5B12.9800094%2C%2052.0848176%5D%2C%20%5B12.9797275%2C%2052.0846755%5D%2C%20%5B12.9797456%2C%2052.0845144%5D%2C%20%5B12.9787008%2C%2052.0843689%5D%2C%20%5B12.9782292%2C%2052.0841812%5D%2C%20%5B12.9781449%2C%2052.0830332%5D%2C%20%5B12.9759474%2C%2052.0826036%5D%2C%20%5B12.9763934%2C%2052.0813442%5D%2C%20%5B12.9750934%2C%2052.081108%5D%2C%20%5B12.97547%2C%2052.0802721%5D%2C%20%5B12.9694891%2C%2052.0789015%5D%2C%20%5B12.9694309%2C%2052.0787083%5D%2C%20%5B12.9697447%2C%2052.0780092%5D%2C%20%5B12.9702601%2C%2052.0773881%5D%2C%20%5B12.9722379%2C%2052.0778653%5D%2C%20%5B12.9727547%2C%2052.0766836%5D%2C%20%5B12.9705349%2C%2052.0761253%5D%2C%20%5B12.9716905%2C%2052.0758603%5D%2C%20%5B12.9718835%2C%2052.0750224%5D%2C%20%5B12.9718611%2C%2052.0747159%5D%2C%20%5B12.9711424%2C%2052.0740605%5D%2C%20%5B12.9713111%2C%2052.0738846%5D%2C%20%5B12.9714229%2C%2052.073689%5D%2C%20%5B12.9713043%2C%2052.0734126%5D%2C%20%5B12.9713842%2C%2052.0732758%5D%2C%20%5B12.9714117%2C%2052.0730638%5D%2C%20%5B12.9713401%2C%2052.0728533%5D%2C%20%5B12.9711305%2C%2052.0725988%5D%2C%20%5B12.9710754%2C%2052.0723971%5D%2C%20%5B12.9710537%2C%2052.0717527%5D%2C%20%5B12.9708629%2C%2052.0715409%5D%2C%20%5B12.9700818%2C%2052.0710771%5D%2C%20%5B12.9698505%2C%2052.0707927%5D%2C%20%5B12.9697059%2C%2052.0703572%5D%2C%20%5B12.9692535%2C%2052.0698531%5D%2C%20%5B12.965051%2C%2052.0692699%5D%2C%20%5B12.9682903%2C%2052.0670014%5D%2C%20%5B12.9687491%2C%2052.0666674%5D%2C%20%5B12.9689079%2C%2052.0661892%5D%2C%20%5B12.9698452%2C%2052.065174%5D%2C%20%5B12.9638937%2C%2052.0646458%5D%2C%20%5B12.9615637%2C%2052.0645161%5D%2C%20%5B12.9603466%2C%2052.0646479%5D%2C%20%5B12.9592414%2C%2052.0626143%5D%2C%20%5B12.9595208%2C%2052.0621854%5D%2C%20%5B12.9582339%2C%2052.0603629%5D%2C%20%5B12.9577513%2C%2052.0595801%5D%2C%20%5B12.9567515%2C%2052.0569391%5D%2C%20%5B12.9564286%2C%2052.0552075%5D%2C%20%5B12.9564093%2C%2052.0543136%5D%2C%20%5B12.9566551%2C%2052.0526953%5D%2C%20%5B12.9569732%2C%2052.0521306%5D%2C%20%5B12.9569185%2C%2052.0515491%5D%2C%20%5B12.9571121%2C%2052.0511289%5D%2C%20%5B12.9571224%2C%2052.0503052%5D%2C%20%5B12.9573575%2C%2052.0491482%5D%2C%20%5B12.9573221%2C%2052.0487523%5D%2C%20%5B12.9572506%2C%2052.0482537%5D%2C%20%5B12.9570162%2C%2052.0465973%5D%2C%20%5B12.9570129%2C%2052.0448585%5D%2C%20%5B12.9568615%2C%2052.0445609%5D%2C%20%5B12.9568479%2C%2052.0442319%5D%2C%20%5B12.9576447%2C%2052.0422525%5D%2C%20%5B12.957054%2C%2052.0418779%5D%2C%20%5B12.9565576%2C%2052.0412958%5D%2C%20%5B12.9563529%2C%2052.0410146%5D%2C%20%5B12.9560532%2C%2052.0393856%5D%5D%5D%2C%20%22type%22%3A%20%22Polygon%22%7D%2C%20%22id%22%3A%20%220%22%2C%20%22properties%22%3A%20%7B%22category%22%3A%20%22boundary%22%2C%20%22display_name%22%3A%20%22J%5Cu00fcterbog%2C%20Teltow-Fl%5Cu00e4ming%2C%20Brandenburg%2C%2014913%2C%20Deutschland%22%2C%20%22icon%22%3A%20%22https%3A//nominatim.openstreetmap.org/ui/mapicons//poi_boundary_administrative.p.20.png%22%2C%20%22importance%22%3A%200.6852356167937519%2C%20%22osm_id%22%3A%20422436%2C%20%22osm_type%22%3A%20%22relation%22%2C%20%22place_id%22%3A%20257891092%2C%20%22place_rank%22%3A%2016%2C%20%22type%22%3A%20%22administrative%22%7D%2C%20%22type%22%3A%20%22Feature%22%7D%5D%2C%20%22type%22%3A%20%22FeatureCollection%22%7D%29%3B%0A%20%20%20%20%20%20%20%20%0A%20%20%20%20%0A%20%20%20%20%20%20%20%20%20%20%20%20map_79b8b5efdccc4dd3b0976d6faa9f8a1f.fitBounds%28%0A%20%20%20%20%20%20%20%20%20%20%20%20%20%20%20%20%5B%5B51.9549054%2C%2012.9560532%5D%2C%20%5B52.096028%2C%2013.2330957%5D%5D%2C%0A%20%20%20%20%20%20%20%20%20%20%20%20%20%20%20%20%7B%7D%0A%20%20%20%20%20%20%20%20%20%20%20%20%29%3B%0A%20%20%20%20%20%20%20%20%0A%3C/script%3E onload=\"this.contentDocument.open();this.contentDocument.write(    decodeURIComponent(this.getAttribute('data-html')));this.contentDocument.close();\" allowfullscreen webkitallowfullscreen mozallowfullscreen></iframe></div></div>"
      ],
      "text/plain": [
       "<folium.folium.Map at 0x7f02cb8c7970>"
      ]
     },
     "execution_count": 20,
     "metadata": {},
     "output_type": "execute_result"
    }
   ],
   "source": [
    "geodataframe_on_map(jueterbog)"
   ]
  },
  {
   "cell_type": "markdown",
   "metadata": {},
   "source": [
    "- we increase the geometry size by 2.5km in each direction"
   ]
  },
  {
   "cell_type": "code",
   "execution_count": 21,
   "metadata": {},
   "outputs": [
    {
     "data": {
      "text/html": [
       "<div style=\"width:100%;\"><div style=\"position:relative;width:100%;height:0;padding-bottom:60%;\"><span style=\"color:#565656\">Make this Notebook Trusted to load map: File -> Trust Notebook</span><iframe src=\"about:blank\" style=\"position:absolute;width:100%;height:100%;left:0;top:0;border:none !important;\" data-html=%3C%21DOCTYPE%20html%3E%0A%3Chead%3E%20%20%20%20%0A%20%20%20%20%3Cmeta%20http-equiv%3D%22content-type%22%20content%3D%22text/html%3B%20charset%3DUTF-8%22%20/%3E%0A%20%20%20%20%0A%20%20%20%20%20%20%20%20%3Cscript%3E%0A%20%20%20%20%20%20%20%20%20%20%20%20L_NO_TOUCH%20%3D%20false%3B%0A%20%20%20%20%20%20%20%20%20%20%20%20L_DISABLE_3D%20%3D%20false%3B%0A%20%20%20%20%20%20%20%20%3C/script%3E%0A%20%20%20%20%0A%20%20%20%20%3Cscript%20src%3D%22https%3A//cdn.jsdelivr.net/npm/leaflet%401.6.0/dist/leaflet.js%22%3E%3C/script%3E%0A%20%20%20%20%3Cscript%20src%3D%22https%3A//code.jquery.com/jquery-1.12.4.min.js%22%3E%3C/script%3E%0A%20%20%20%20%3Cscript%20src%3D%22https%3A//maxcdn.bootstrapcdn.com/bootstrap/3.2.0/js/bootstrap.min.js%22%3E%3C/script%3E%0A%20%20%20%20%3Cscript%20src%3D%22https%3A//cdnjs.cloudflare.com/ajax/libs/Leaflet.awesome-markers/2.0.2/leaflet.awesome-markers.js%22%3E%3C/script%3E%0A%20%20%20%20%3Clink%20rel%3D%22stylesheet%22%20href%3D%22https%3A//cdn.jsdelivr.net/npm/leaflet%401.6.0/dist/leaflet.css%22/%3E%0A%20%20%20%20%3Clink%20rel%3D%22stylesheet%22%20href%3D%22https%3A//maxcdn.bootstrapcdn.com/bootstrap/3.2.0/css/bootstrap.min.css%22/%3E%0A%20%20%20%20%3Clink%20rel%3D%22stylesheet%22%20href%3D%22https%3A//maxcdn.bootstrapcdn.com/bootstrap/3.2.0/css/bootstrap-theme.min.css%22/%3E%0A%20%20%20%20%3Clink%20rel%3D%22stylesheet%22%20href%3D%22https%3A//maxcdn.bootstrapcdn.com/font-awesome/4.6.3/css/font-awesome.min.css%22/%3E%0A%20%20%20%20%3Clink%20rel%3D%22stylesheet%22%20href%3D%22https%3A//cdnjs.cloudflare.com/ajax/libs/Leaflet.awesome-markers/2.0.2/leaflet.awesome-markers.css%22/%3E%0A%20%20%20%20%3Clink%20rel%3D%22stylesheet%22%20href%3D%22https%3A//rawcdn.githack.com/python-visualization/folium/master/folium/templates/leaflet.awesome.rotate.css%22/%3E%0A%20%20%20%20%3Cstyle%3Ehtml%2C%20body%20%7Bwidth%3A%20100%25%3Bheight%3A%20100%25%3Bmargin%3A%200%3Bpadding%3A%200%3B%7D%3C/style%3E%0A%20%20%20%20%3Cstyle%3E%23map%20%7Bposition%3Aabsolute%3Btop%3A0%3Bbottom%3A0%3Bright%3A0%3Bleft%3A0%3B%7D%3C/style%3E%0A%20%20%20%20%0A%20%20%20%20%20%20%20%20%20%20%20%20%3Cmeta%20name%3D%22viewport%22%20content%3D%22width%3Ddevice-width%2C%0A%20%20%20%20%20%20%20%20%20%20%20%20%20%20%20%20initial-scale%3D1.0%2C%20maximum-scale%3D1.0%2C%20user-scalable%3Dno%22%20/%3E%0A%20%20%20%20%20%20%20%20%20%20%20%20%3Cstyle%3E%0A%20%20%20%20%20%20%20%20%20%20%20%20%20%20%20%20%23map_05bc6a18bf4c4a539dbcd059ef9e4297%20%7B%0A%20%20%20%20%20%20%20%20%20%20%20%20%20%20%20%20%20%20%20%20position%3A%20relative%3B%0A%20%20%20%20%20%20%20%20%20%20%20%20%20%20%20%20%20%20%20%20width%3A%20100.0%25%3B%0A%20%20%20%20%20%20%20%20%20%20%20%20%20%20%20%20%20%20%20%20height%3A%20100.0%25%3B%0A%20%20%20%20%20%20%20%20%20%20%20%20%20%20%20%20%20%20%20%20left%3A%200.0%25%3B%0A%20%20%20%20%20%20%20%20%20%20%20%20%20%20%20%20%20%20%20%20top%3A%200.0%25%3B%0A%20%20%20%20%20%20%20%20%20%20%20%20%20%20%20%20%7D%0A%20%20%20%20%20%20%20%20%20%20%20%20%3C/style%3E%0A%20%20%20%20%20%20%20%20%0A%3C/head%3E%0A%3Cbody%3E%20%20%20%20%0A%20%20%20%20%0A%20%20%20%20%20%20%20%20%20%20%20%20%3Cdiv%20class%3D%22folium-map%22%20id%3D%22map_05bc6a18bf4c4a539dbcd059ef9e4297%22%20%3E%3C/div%3E%0A%20%20%20%20%20%20%20%20%0A%3C/body%3E%0A%3Cscript%3E%20%20%20%20%0A%20%20%20%20%0A%20%20%20%20%20%20%20%20%20%20%20%20var%20map_05bc6a18bf4c4a539dbcd059ef9e4297%20%3D%20L.map%28%0A%20%20%20%20%20%20%20%20%20%20%20%20%20%20%20%20%22map_05bc6a18bf4c4a539dbcd059ef9e4297%22%2C%0A%20%20%20%20%20%20%20%20%20%20%20%20%20%20%20%20%7B%0A%20%20%20%20%20%20%20%20%20%20%20%20%20%20%20%20%20%20%20%20center%3A%20%5B0.0%2C%200.0%5D%2C%0A%20%20%20%20%20%20%20%20%20%20%20%20%20%20%20%20%20%20%20%20crs%3A%20L.CRS.EPSG3857%2C%0A%20%20%20%20%20%20%20%20%20%20%20%20%20%20%20%20%20%20%20%20zoom%3A%2010%2C%0A%20%20%20%20%20%20%20%20%20%20%20%20%20%20%20%20%20%20%20%20zoomControl%3A%20true%2C%0A%20%20%20%20%20%20%20%20%20%20%20%20%20%20%20%20%20%20%20%20preferCanvas%3A%20false%2C%0A%20%20%20%20%20%20%20%20%20%20%20%20%20%20%20%20%7D%0A%20%20%20%20%20%20%20%20%20%20%20%20%29%3B%0A%0A%20%20%20%20%20%20%20%20%20%20%20%20%0A%0A%20%20%20%20%20%20%20%20%0A%20%20%20%20%0A%20%20%20%20%20%20%20%20%20%20%20%20var%20tile_layer_b4e06c0f45034cadbce07d698452c5ef%20%3D%20L.tileLayer%28%0A%20%20%20%20%20%20%20%20%20%20%20%20%20%20%20%20%22https%3A//cartodb-basemaps-%7Bs%7D.global.ssl.fastly.net/light_all/%7Bz%7D/%7Bx%7D/%7By%7D.png%22%2C%0A%20%20%20%20%20%20%20%20%20%20%20%20%20%20%20%20%7B%22attribution%22%3A%20%22%5Cu0026copy%3B%20%5Cu003ca%20href%3D%5C%22http%3A//www.openstreetmap.org/copyright%5C%22%5Cu003eOpenStreetMap%5Cu003c/a%5Cu003e%20contributors%20%5Cu0026copy%3B%20%5Cu003ca%20href%3D%5C%22http%3A//cartodb.com/attributions%5C%22%5Cu003eCartoDB%5Cu003c/a%5Cu003e%2C%20CartoDB%20%5Cu003ca%20href%20%3D%5C%22http%3A//cartodb.com/attributions%5C%22%5Cu003eattributions%5Cu003c/a%5Cu003e%22%2C%20%22detectRetina%22%3A%20false%2C%20%22maxNativeZoom%22%3A%2018%2C%20%22maxZoom%22%3A%2018%2C%20%22minZoom%22%3A%200%2C%20%22noWrap%22%3A%20false%2C%20%22opacity%22%3A%201%2C%20%22subdomains%22%3A%20%22abc%22%2C%20%22tms%22%3A%20false%7D%0A%20%20%20%20%20%20%20%20%20%20%20%20%29.addTo%28map_05bc6a18bf4c4a539dbcd059ef9e4297%29%3B%0A%20%20%20%20%20%20%20%20%0A%20%20%20%20%0A%20%20%20%20%20%20%20%20function%20geo_json_cb391220aae04b8e8ca64d33e58c745f_onEachFeature%28feature%2C%20layer%29%20%7B%0A%20%20%20%20%20%20%20%20%20%20%20%20layer.on%28%7B%0A%20%20%20%20%20%20%20%20%20%20%20%20%20%20%20%20click%3A%20function%28e%29%20%7B%0A%20%20%20%20%20%20%20%20%20%20%20%20%20%20%20%20%20%20%20%20map_05bc6a18bf4c4a539dbcd059ef9e4297.fitBounds%28e.target.getBounds%28%29%29%3B%0A%20%20%20%20%20%20%20%20%20%20%20%20%20%20%20%20%7D%0A%20%20%20%20%20%20%20%20%20%20%20%20%7D%29%3B%0A%20%20%20%20%20%20%20%20%7D%3B%0A%20%20%20%20%20%20%20%20var%20geo_json_cb391220aae04b8e8ca64d33e58c745f%20%3D%20L.geoJson%28null%2C%20%7B%0A%20%20%20%20%20%20%20%20%20%20%20%20%20%20%20%20onEachFeature%3A%20geo_json_cb391220aae04b8e8ca64d33e58c745f_onEachFeature%2C%0A%20%20%20%20%20%20%20%20%20%20%20%20%0A%20%20%20%20%20%20%20%20%7D%29.addTo%28map_05bc6a18bf4c4a539dbcd059ef9e4297%29%3B%0A%0A%20%20%20%20%20%20%20%20function%20geo_json_cb391220aae04b8e8ca64d33e58c745f_add%20%28data%29%20%7B%0A%20%20%20%20%20%20%20%20%20%20%20%20geo_json_cb391220aae04b8e8ca64d33e58c745f.addData%28data%29%3B%0A%20%20%20%20%20%20%20%20%7D%0A%20%20%20%20%20%20%20%20%20%20%20%20geo_json_cb391220aae04b8e8ca64d33e58c745f_add%28%7B%22bbox%22%3A%20%5B12.919616652608823%2C%2051.93243928606814%2C%2013.269480742315839%2C%2052.11849937535743%5D%2C%20%22features%22%3A%20%5B%7B%22bbox%22%3A%20%5B12.919616652608823%2C%2051.93243928606814%2C%2013.269480742315839%2C%2052.11849937535743%5D%2C%20%22geometry%22%3A%20%7B%22coordinates%22%3A%20%5B%5B%5B12.919844068934118%2C%2052.041913259800786%5D%2C%20%5B12.920142463667121%2C%2052.043542337210695%5D%2C%20%5B12.920422770406052%2C%2052.04458699110213%5D%2C%20%5B12.92041596007351%2C%2052.044798867224515%5D%2C%20%5B12.920429292368071%2C%2052.045127868508395%5D%2C%20%5B12.92057067636799%2C%2052.04634680907299%5D%2C%20%5B12.92057097018064%2C%2052.046617951534024%5D%2C%20%5B12.920707319672776%2C%2052.04854496487097%5D%2C%20%5B12.920767349670168%2C%2052.04897162897217%5D%2C%20%5B12.920750470749724%2C%2052.04906592804126%5D%2C%20%5B12.92036534990722%2C%2052.05059473215949%5D%2C%20%5B12.920118254026189%2C%2052.052212942922985%5D%2C%20%5B12.91996077553973%2C%2052.054607036173834%5D%2C%20%5B12.919979347543272%2C%2052.055500934238324%5D%2C%20%5B12.920212761082269%2C%2052.057768181628056%5D%2C%20%5B12.920534272962374%2C%2052.05949986525365%5D%2C%20%5B12.921247525503658%2C%2052.06204036441625%5D%2C%20%5B12.922245327367577%2C%2052.064681642207795%5D%2C%20%5B12.923667030790584%2C%2052.067557681677776%5D%2C%20%5B12.923691016618914%2C%2052.067596636938546%5D%2C%20%5B12.924665400847617%2C%2052.06974655602673%5D%2C%20%5B12.925769187286162%2C%2052.07178046304977%5D%2C%20%5B12.927119690873072%2C%2052.07390386081202%5D%2C%20%5B12.928812653388508%2C%2052.075931948466355%5D%2C%20%5B12.930830670722763%2C%2052.07784382201588%5D%2C%20%5B12.932035943695897%2C%2052.07876555898157%5D%2C%20%5B12.9323980584994%2C%2052.079276166878635%5D%2C%20%5B12.933054650575876%2C%2052.07999841910174%5D%2C%20%5B12.933114809208034%2C%2052.080786202464225%5D%2C%20%5B12.933257388513086%2C%2052.081420178116296%5D%2C%20%5B12.933110674819666%2C%2052.082172111464516%5D%2C%20%5B12.933037083714964%2C%2052.08440246443852%5D%2C%20%5B12.93332281982401%2C%2052.0866263216804%5D%2C%20%5B12.933965120230368%2C%2052.08882176484824%5D%2C%20%5B12.93495770552961%2C%2052.09096715245231%5D%2C%20%5B12.936112255589732%2C%2052.09306177357399%5D%2C%20%5B12.938001475019854%2C%2052.09585513212771%5D%2C%20%5B12.93871368066524%2C%2052.096735823038735%5D%2C%20%5B12.940332730258378%2C%2052.09852786092657%5D%2C%20%5B12.94221044372514%2C%2052.10022150393448%5D%2C%20%5B12.944331198193662%2C%2052.101802634673035%5D%2C%20%5B12.946677339333478%2C%2052.10325807209853%5D%2C%20%5B12.949229328103192%2C%2052.10457568170625%5D%2C%20%5B12.949598085777302%2C%2052.10474905112223%5D%2C%20%5B12.952525266051284%2C%2052.10599103321956%5D%2C%20%5B12.955564457378204%2C%2052.10702763366077%5D%2C%20%5B12.956010824039058%2C%2052.10741458453096%5D%2C%20%5B12.95834057452091%2C%2052.109066662568026%5D%2C%20%5B12.960920388373758%2C%2052.110571351644374%5D%2C%20%5B12.963725806942506%2C%2052.11191437173148%5D%2C%20%5B12.966730223058477%2C%2052.11308297578388%5D%2C%20%5B12.969905133715246%2C%2052.11406607115555%5D%2C%20%5B12.973220411071175%2C%2052.11485432529744%5D%2C%20%5B12.976644589179655%2C%2052.115440254714045%5D%2C%20%5B12.980145163686496%2C%2052.11581829631685%5D%2C%20%5B12.982288611503705%2C%2052.11598398929511%5D%2C%20%5B12.982333218502228%2C%2052.115985925833144%5D%2C%20%5B12.982740941269528%2C%2052.11612659766828%5D%2C%20%5B12.985875773102881%2C%2052.11698111464559%5D%2C%20%5B12.989127109333303%2C%2052.11765071991571%5D%2C%20%5B12.992466233107058%2C%2052.1181294979514%5D%2C%20%5B12.995863648569614%2C%2052.11841321874563%5D%2C%20%5B12.999289342484424%2C%2052.11849937535743%5D%2C%20%5B13.002713050527953%2C%2052.11838720617308%5D%2C%20%5B13.006104525857396%2C%2052.118077701681074%5D%2C%20%5B13.00943380752554%2C%2052.11757359569889%5D%2C%20%5B13.012671486318379%2C%2052.116879341130584%5D%2C%20%5B13.025873332029194%2C%2052.11361168061079%5D%2C%20%5B13.0290976257163%2C%2052.112698831077886%5D%2C%20%5B13.029325756898261%2C%2052.11261685538188%5D%2C%20%5B13.030168871665566%2C%2052.11292769992609%5D%2C%20%5B13.033430986841328%2C%2052.113874872655735%5D%2C%20%5B13.036829132032045%2C%2052.11461911833783%5D%2C%20%5B13.040330087721747%2C%2052.11515315962333%5D%2C%20%5B13.043899624649583%2C%2052.11547177417757%5D%2C%20%5B13.047502839830697%2C%2052.115571845984%5D%2C%20%5B13.051104499315988%2C%2052.11545239596804%5D%2C%20%5B13.054669384266894%2C%2052.115114591634274%5D%2C%20%5B13.057850831714505%2C%2052.1147130808387%5D%2C%20%5B13.05795595379661%2C%2052.114705927292434%5D%2C%20%5B13.061443830770154%2C%2052.114362668738124%5D%2C%20%5B13.06486141345466%2C%2052.11381337201518%5D%2C%20%5B13.06817665625823%2C%2052.113063187669106%5D%2C%20%5B13.071358477253638%2C%2052.11211914980118%5D%2C%20%5B13.074377050662566%2C%2052.110990109847044%5D%2C%20%5B13.07720408732205%2C%2052.109686653259274%5D%2C%20%5B13.079813100462768%2C%2052.10822099988975%5D%2C%20%5B13.082179654277429%2C%2052.106606889023745%5D%2C%20%5B13.082970748381019%2C%2052.10594923665424%5D%2C%20%5B13.086319674731753%2C%2052.10643898714234%5D%2C%20%5B13.08717639393114%2C%2052.106566989006915%5D%2C%20%5B13.090344538351024%2C%2052.106949794748715%5D%2C%20%5B13.091221210631526%2C%2052.10700681904854%5D%2C%20%5B13.095319041716465%2C%2052.10762287169846%5D%2C%20%5B13.098756485218225%2C%2052.10803306684093%5D%2C%20%5B13.102241990749684%2C%2052.108238446591834%5D%2C%20%5B13.105743429895568%2C%2052.108237117338085%5D%2C%20%5B13.1092285265591%2C%2052.108029090859986%5D%2C%20%5B13.112665155818089%2C%2052.10761628423957%5D%2C%20%5B13.115436020965682%2C%2052.10710959945678%5D%2C%20%5B13.116108993005103%2C%2052.10717539783665%5D%2C%20%5B13.121396393840195%2C%2052.10753149971249%5D%2C%20%5B13.124837128867593%2C%2052.10766225606276%5D%2C%20%5B13.128282550412003%2C%2052.107592438591055%5D%2C%20%5B13.131701873018553%2C%2052.10732267067786%5D%2C%20%5B13.135064545341242%2C%2052.106855362265144%5D%2C%20%5B13.13834052431792%2C%2052.10619468824362%5D%2C%20%5B13.141500544708046%2C%2052.10534655100264%5D%2C%20%5B13.144516381534833%2C%2052.10431852748462%5D%2C%20%5B13.147361103042254%2C%2052.10311980122646%5D%2C%20%5B13.150009311869463%2C%2052.10176108000681%5D%2C%20%5B13.152437372258946%2C%2052.100254499849505%5D%2C%20%5B13.154623621249412%2C%2052.09861351625569%5D%2C%20%5B13.156548561957877%2C%2052.09685278365298%5D%2C%20%5B13.157357877408204%2C%2052.0960311933067%5D%2C%20%5B13.161588717086243%2C%2052.091952751899555%5D%2C%20%5B13.162745893850646%2C%2052.091580109244546%5D%2C%20%5B13.166081850943762%2C%2052.09079055272715%5D%2C%20%5B13.170958844363096%2C%2052.08941654635603%5D%2C%20%5B13.174020641651431%2C%2052.088443596403984%5D%2C%20%5B13.176919650249625%2C%2052.08729699552768%5D%2C%20%5B13.17962999643014%2C%2052.085986981977825%5D%2C%20%5B13.182127497178316%2C%2052.08452525230076%5D%2C%20%5B13.184389876274155%2C%2052.08292485654152%5D%2C%20%5B13.186396963062043%2C%2052.08120008135936%5D%2C%20%5B13.188130872132083%2C%2052.07936632211666%5D%2C%20%5B13.189576162318149%2C%2052.07743994509935%5D%2C%20%5B13.190719973613%2C%2052.07543814111506%5D%2C%20%5B13.191552140807893%2C%2052.07337877179017%5D%2C%20%5B13.192065282880844%2C%2052.071280209950636%5D%2C%20%5B13.192254867381639%2C%2052.06916117552167%5D%2C%20%5B13.192119249290924%2C%2052.067040568418385%5D%2C%20%5B13.192096619552741%2C%2052.06687997410543%5D%2C%20%5B13.19159110463996%2C%2052.06462496722028%5D%2C%20%5B13.190718109095403%2C%2052.0624130439418%5D%2C%20%5B13.18984667551258%2C%2052.06089436773617%5D%2C%20%5B13.191551268263542%2C%2052.060206168148895%5D%2C%20%5B13.194204873417416%2C%2052.0589022078043%5D%2C%20%5B13.196650128683544%2C%2052.05745175022638%5D%2C%20%5B13.198865844858942%2C%2052.055867376345574%5D%2C%20%5B13.200832829779328%2C%2052.0541628273443%5D%2C%20%5B13.202534054403943%2C%2052.05235288513246%5D%2C%20%5B13.202788399183248%2C%2052.052050663032354%5D%2C%20%5B13.20308659915694%2C%2052.051696119558535%5D%2C%20%5B13.20730421500672%2C%2052.04668341852456%5D%2C%20%5B13.208212166556756%2C%2052.04645426662202%5D%2C%20%5B13.209235842251854%2C%2052.046162551427386%5D%2C%20%5B13.211627616627379%2C%2052.04548096454922%5D%2C%20%5B13.215016009738342%2C%2052.0443784611137%5D%2C%20%5B13.218197805627572%2C%2052.04306263280537%5D%2C%20%5B13.221528621303074%2C%2052.04152252479376%5D%2C%20%5B13.22538359852047%2C%2052.039464890390285%5D%2C%20%5B13.226503713706618%2C%2052.03877674771134%5D%2C%20%5B13.22906464293697%2C%2052.03702905448776%5D%2C%20%5B13.231314674826523%2C%2052.035125597849934%5D%2C%20%5B13.233229107267512%2C%2052.03308730903366%5D%2C%20%5B13.234786937401578%2C%2052.03093659911794%5D%2C%20%5B13.235971091030946%2C%2052.02869711205669%5D%2C%20%5B13.236870802715053%2C%2052.02663433123003%5D%2C%20%5B13.23705496675502%2C%2052.026194390676665%5D%2C%20%5B13.238637362043113%2C%2052.022249578413046%5D%2C%20%5B13.238949820684107%2C%2052.02215724709559%5D%2C%20%5B13.2418558893262%2C%2052.02108316737639%5D%2C%20%5B13.24458751014696%2C%2052.01984711396363%5D%2C%20%5B13.247121044608614%2C%2052.018459789715514%5D%2C%20%5B13.249434575301425%2C%2052.01693320637129%5D%2C%20%5B13.251508095698814%2C%2052.01528058020622%5D%2C%20%5B13.253323683103785%2C%2052.01351621726458%5D%2C%20%5B13.25486565329398%2C%2052.01165538917897%5D%2C%20%5B13.256120695540575%2C%2052.00971420066609%5D%2C%20%5B13.256516078656531%2C%2052.00900897534983%5D%2C%20%5B13.258173017651801%2C%2052.00802415713863%5D%2C%20%5B13.260471262268483%2C%2052.006363809754966%5D%2C%20%5B13.262497382881016%2C%2052.004573609938575%5D%2C%20%5B13.264232266713549%2C%2052.002670474137126%5D%2C%20%5B13.265659559465885%2C%2052.00067238385342%5D%2C%20%5B13.267078606644846%2C%2051.99839136370857%5D%2C%20%5B13.268204811500311%2C%2051.996272129291306%5D%2C%20%5B13.268985079435557%2C%2051.99409441718411%5D%2C%20%5B13.26941177338468%2C%2051.991879683425005%5D%2C%20%5B13.269480742315839%2C%2051.989649745663336%5D%2C%20%5B13.269191360087602%2C%2051.987426568105796%5D%2C%20%5B13.268546529526944%2C%2051.985232045144635%5D%2C%20%5B13.26755265177089%2C%2051.98308778580034%5D%2C%20%5B13.266219561254905%2C%2051.9810149010986%5D%2C%20%5B13.264560427065408%2C%2051.97903379646722%5D%2C%20%5B13.262591621697918%2C%2051.977163971185384%5D%2C%20%5B13.260332558573486%2C%2051.975423826842885%5D%2C%20%5B13.257805499961608%2C%2051.97383048667674%5D%2C%20%5B13.255035337235228%2C%2051.972399627541016%5D%2C%20%5B13.252049345640659%2C%2051.97114532614112%5D%2C%20%5B13.248876916000157%2C%2051.970079921021615%5D%2C%20%5B13.247351403411708%2C%2051.9696829182438%5D%2C%20%5B13.2470464052535%2C%2051.968785029124675%5D%2C%20%5B13.24595343184391%2C%2051.96665125328399%5D%2C%20%5B13.244522411214833%2C%2051.964595190571075%5D%2C%20%5B13.242767572580645%2C%2051.96263721977568%5D%2C%20%5B13.240706348176918%2C%2051.960796744810985%5D%2C%20%5B13.238359199232743%2C%2051.95909200282248%5D%2C%20%5B13.235749412279583%2C%2051.95753988392846%5D%2C%20%5B13.232902867846905%2C%2051.95615576435595%5D%2C%20%5B13.229847783852625%2C%2051.954953354601535%5D%2C%20%5B13.227034272071196%2C%2051.95407555860605%5D%2C%20%5B13.22653939346706%2C%2051.952834948001%5D%2C%20%5B13.225338041574%2C%2051.95074025218057%5D%2C%20%5B13.223807874116487%2C%2051.94872909672578%5D%2C%20%5B13.221963888180955%2C%2051.94682113596482%5D%2C%20%5B13.219824141062338%2C%2051.94503501326503%5D%2C%20%5B13.21740957269443%2C%2051.94338817926958%5D%2C%20%5B13.21474380026275%2C%2051.94189672184835%5D%2C%20%5B13.21185288703227%2C%2051.94057520940239%5D%2C%20%5B13.208765087659122%2C%2051.93943654903015%5D%2C%20%5B13.206845681984715%2C%2051.9388060311479%5D%2C%20%5B13.206048391084025%2C%2051.93855185608687%5D%2C%20%5B13.205179869934582%2C%2051.93828329553644%5D%2C%20%5B13.203223980055126%2C%2051.93767777164959%5D%2C%20%5B13.200658196487808%2C%2051.93688261559385%5D%2C%20%5B13.197897434536157%2C%2051.936114117627504%5D%2C%20%5B13.19504288171765%2C%2051.935490203808044%5D%2C%20%5B13.192114310606964%2C%2051.935015194776966%5D%2C%20%5B13.188964239275704%2C%2051.93458996617299%5D%2C%20%5B13.187846888070963%2C%2051.93440185819614%5D%2C%20%5B13.185519315181823%2C%2051.934077688380995%5D%2C%20%5B13.183202287525305%2C%2051.93353430209644%5D%2C%20%5B13.179820743497492%2C%2051.93296432100516%5D%2C%20%5B13.176366188662113%2C%2051.932598183066375%5D%2C%20%5B13.172870686939477%2C%2051.93243928606814%5D%2C%20%5B13.169366680453196%2C%2051.932489104292145%5D%2C%20%5B13.165886689762027%2C%2051.93274717490818%5D%2C%20%5B13.162463013385365%2C%2051.933211102267926%5D%2C%20%5B13.159127429348914%2C%2051.933876580058445%5D%2C%20%5B13.155910901459778%2C%2051.934737431113554%5D%2C%20%5B13.152843292980288%2C%2051.93578566452125%5D%2C%20%5B13.14995309030732%2C%2051.937011549507346%5D%2C%20%5B13.14726713917911%2C%2051.938403705423326%5D%2C%20%5B13.144810395824969%2C%2051.93994920701871%5D%2C%20%5B13.142882078798982%2C%2051.941422543130884%5D%2C%20%5B13.142722148137295%2C%2051.94147299091643%5D%2C%20%5B13.140876517170458%2C%2051.94120528720701%5D%2C%20%5B13.137018038933135%2C%2051.940909090315316%5D%2C%20%5B13.132424014868237%2C%2051.94070961132173%5D%2C%20%5B13.12909787726756%2C%2051.94065938639567%5D%2C%20%5B13.125778225171054%2C%2051.940797187127615%5D%2C%20%5B13.124683396467388%2C%2051.940873839829905%5D%2C%20%5B13.123391299310768%2C%2051.94075510587574%5D%2C%20%5B13.119881504354652%2C%2051.94064450406954%5D%2C%20%5B13.11637082259153%2C%2051.940743731731416%5D%2C%20%5B13.112892000688923%2C%2051.941051862804464%5D%2C%20%5B13.109477489309219%2C%2051.94156602259617%5D%2C%20%5B13.100172332129565%2C%2051.943264891961086%5D%2C%20%5B13.094711631514953%2C%2051.9441722594629%5D%2C%20%5B13.091758430536533%2C%2051.94328169245637%5D%2C%20%5B13.089790354789741%2C%2051.942758438505116%5D%2C%20%5B13.08675475498618%2C%2051.942048725081904%5D%2C%20%5B13.083628934293042%2C%2051.94150904497458%5D%2C%20%5B13.08043776261731%2C%2051.941143691208666%5D%2C%20%5B13.07793038953276%2C%2051.94099771617203%5D%2C%20%5B13.074720072581625%2C%2051.94075825438737%5D%2C%20%5B13.071246584283596%2C%2051.940705522290195%5D%2C%20%5B13.070579765552022%2C%2051.940734836127966%5D%2C%20%5B13.067495330912784%2C%2051.94054188908412%5D%2C%20%5B13.065912518304213%2C%2051.94049232161926%5D%2C%20%5B13.06243220379194%2C%2051.94048633600117%5D%2C%20%5B13.058966886391271%2C%2051.940685932583925%5D%2C%20%5B13.055548268228884%2C%2051.94108928489855%5D%2C%20%5B13.054491956105005%2C%2051.94124661383909%5D%2C%20%5B13.05103370302802%2C%2051.941875209492046%5D%2C%20%5B13.04769303390446%2C%2051.94271224823382%5D%2C%20%5B13.044502742650002%2C%2051.94374951445869%5D%2C%20%5B13.041494153128044%2C%2051.9449768268553%5D%2C%20%5B13.038696812497784%2C%2051.946382137958906%5D%2C%20%5B13.036138201669162%2C%2051.947951651979956%5D%2C%20%5B13.033843465677013%2C%2051.94966995977353%5D%2C%20%5B13.031835166606168%2C%2051.951520189647134%5D%2C%20%5B13.030352851607601%2C%2051.95323057783905%5D%2C%20%5B13.0298680948892%2C%2051.95345342681146%5D%2C%20%5B13.027181635982972%2C%2051.95481626075011%5D%2C%20%5B13.026616354145743%2C%2051.95516386993994%5D%2C%20%5B13.025910727811828%2C%2051.955203220572805%5D%2C%20%5B13.022327451287708%2C%2051.955629824754446%5D%2C%20%5B13.017645033335734%2C%2051.95633928278867%5D%2C%20%5B13.014883648745261%2C%2051.95667805728732%5D%2C%20%5B13.011412115078734%2C%2051.957214739120964%5D%2C%20%5B13.008042639567844%2C%2051.95795948679217%5D%2C%20%5B13.004807796776655%2C%2051.958905101100946%5D%2C%20%5B13.001738865140743%2C%2051.960042440819876%5D%2C%20%5B12.998865525497338%2C%2051.96136051071793%5D%2C%20%5B12.996215574758203%2C%2051.96284656746038%5D%2C%20%5B12.99381465745926%2C%2051.964486242379444%5D%2C%20%5B12.991686017761708%2C%2051.966263679950195%5D%2C%20%5B12.98985027429604%2C%2051.96816169065417%5D%2C%20%5B12.988325220034405%2C%2051.97016191677503%5D%2C%20%5B12.987125649149204%2C%2051.97224500954395%5D%2C%20%5B12.986263212568844%2C%2051.97439081594127%5D%2C%20%5B12.985746303676338%2C%2051.97657857336535%5D%2C%20%5B12.985579975315845%2C%2051.97878711029954%5D%2C%20%5B12.98576588897772%2C%2051.980995051047195%5D%2C%20%5B12.986302296727402%2C%2051.98318102256046%5D%2C%20%5B12.986649103624481%2C%2051.98423960316941%5D%2C%20%5B12.985373115603686%2C%2051.985441715128374%5D%2C%20%5B12.983746512984869%2C%2051.987351560374364%5D%2C%20%5B12.982423959775637%2C%2051.989348905807574%5D%2C%20%5B12.98141768384938%2C%2051.99141534642095%5D%2C%20%5B12.98073700291666%2C%2051.99353183800338%5D%2C%20%5B12.98038823715535%2C%2051.99567887241308%5D%2C%20%5B12.980382265386272%2C%2051.996627286408%5D%2C%20%5B12.979182579828944%2C%2051.99686764094069%5D%2C%20%5B12.97595102476071%2C%2051.997736189855885%5D%2C%20%5B12.972870542349803%2C%2051.99879347919517%5D%2C%20%5B12.96996997963614%2C%2052.00002961140551%5D%2C%20%5B12.962573086551313%2C%2052.00351930719655%5D%2C%20%5B12.957703903548428%2C%2052.00565264594729%5D%2C%20%5B12.95341741555596%2C%2052.00700289458983%5D%2C%20%5B12.95030331622756%2C%2052.00810636446269%5D%2C%20%5B12.947380311850637%2C%2052.00939368013404%5D%2C%20%5B12.944676810636855%2C%2052.01085233747891%5D%2C%20%5B12.942219096107873%2C%2052.01246816691763%5D%2C%20%5B12.940031071797792%2C%2052.01422547060277%5D%2C%20%5B12.938134028703113%2C%2052.016107174459485%5D%2C%20%5B12.936546437744921%2C%2052.01809499362464%5D%2C%20%5B12.935283769280003%2C%2052.02016960969949%5D%2C%20%5B12.935237797965096%2C%2052.020275982991265%5D%2C%20%5B12.934378008704849%2C%2052.02094336328576%5D%2C%20%5B12.933557719145124%2C%2052.02172956059623%5D%2C%20%5B12.933053972306505%2C%2052.02195760264077%5D%2C%20%5B12.930347100375352%2C%2052.02346126276227%5D%2C%20%5B12.927897008090701%2C%2052.02512412943858%5D%2C%20%5B12.925728199812268%2C%2052.02692959121408%5D%2C%20%5B12.923862377868332%2C%2052.02885961019799%5D%2C%20%5B12.922318224947535%2C%2052.03089490179382%5D%2C%20%5B12.921111216282338%2C%2052.033015126941876%5D%2C%20%5B12.920253463541613%2C%2052.03519909497639%5D%2C%20%5B12.91975359204725%2C%2052.03742497508968%5D%2C%20%5B12.919616652608823%2C%2052.03967051430632%5D%2C%20%5B12.919844068934118%2C%2052.041913259800786%5D%5D%5D%2C%20%22type%22%3A%20%22Polygon%22%7D%2C%20%22id%22%3A%20%220%22%2C%20%22properties%22%3A%20%7B%7D%2C%20%22type%22%3A%20%22Feature%22%7D%5D%2C%20%22type%22%3A%20%22FeatureCollection%22%7D%29%3B%0A%20%20%20%20%20%20%20%20%0A%20%20%20%20%0A%20%20%20%20%20%20%20%20%20%20%20%20map_05bc6a18bf4c4a539dbcd059ef9e4297.fitBounds%28%0A%20%20%20%20%20%20%20%20%20%20%20%20%20%20%20%20%5B%5B51.93243928606814%2C%2012.919616652608823%5D%2C%20%5B52.11849937535743%2C%2013.269480742315839%5D%5D%2C%0A%20%20%20%20%20%20%20%20%20%20%20%20%20%20%20%20%7B%7D%0A%20%20%20%20%20%20%20%20%20%20%20%20%29%3B%0A%20%20%20%20%20%20%20%20%0A%3C/script%3E onload=\"this.contentDocument.open();this.contentDocument.write(    decodeURIComponent(this.getAttribute('data-html')));this.contentDocument.close();\" allowfullscreen webkitallowfullscreen mozallowfullscreen></iframe></div></div>"
      ],
      "text/plain": [
       "<folium.folium.Map at 0x7f02c1da91c0>"
      ]
     },
     "execution_count": 21,
     "metadata": {},
     "output_type": "execute_result"
    }
   ],
   "source": [
    "import geopandas as gpd\n",
    "\n",
    "buffered = jueterbog.to_crs('epsg:25833').buffer(2500).to_crs('epsg:4326')\n",
    "geodataframe_on_map(buffered)"
   ]
  },
  {
   "cell_type": "markdown",
   "metadata": {},
   "source": [
    "- now we search for products in the relevant time frame"
   ]
  },
  {
   "cell_type": "code",
   "execution_count": 22,
   "metadata": {},
   "outputs": [],
   "source": [
    "article_date = date(2019, 6, 16)\n",
    "pre_fire_2019 = article_date - timedelta(weeks=4)\n",
    "post_fire_2019 = article_date + timedelta(weeks=4)"
   ]
  },
  {
   "cell_type": "code",
   "execution_count": 23,
   "metadata": {},
   "outputs": [],
   "source": [
    "footprint_2019 = buffered.iloc[0].convex_hull\n",
    "results = api.query(footprint_2019.wkt,\n",
    "                    platformname='Sentinel-2',\n",
    "                    processinglevel='Level-2A',\n",
    "                    date=(pre_fire_2019, post_fire_2019),\n",
    "                    cloudcoverpercentage=(0, 30))"
   ]
  },
  {
   "cell_type": "code",
   "execution_count": 24,
   "metadata": {},
   "outputs": [
    {
     "name": "stderr",
     "output_type": "stream",
     "text": [
      "/opt/conda/lib/python3.8/site-packages/pyproj/crs/crs.py:53: FutureWarning: '+init=<authority>:<code>' syntax is deprecated. '<authority>:<code>' is the preferred initialization method. When making the change, be mindful of axis order changes: https://pyproj4.github.io/pyproj/stable/gotchas.html#axis-order-changes-in-proj-6\n",
      "  return _prepare_from_string(\" \".join(pjargs))\n"
     ]
    },
    {
     "data": {
      "text/plain": [
       "<AxesSubplot:xlabel='beginposition'>"
      ]
     },
     "execution_count": 24,
     "metadata": {},
     "output_type": "execute_result"
    },
    {
     "data": {
      "image/png": "[encoded data removed]",
      "text/plain": [
       "<Figure size 432x288 with 1 Axes>"
      ]
     },
     "metadata": {
      "needs_background": "light"
     },
     "output_type": "display_data"
    }
   ],
   "source": [
    "gdf = SentinelAPI.to_geodataframe(results)\n",
    "gdf.set_index('beginposition')['cloudcoverpercentage'].plot(kind='bar')"
   ]
  },
  {
   "cell_type": "markdown",
   "metadata": {},
   "source": [
    "- how well do the results cover our study area?"
   ]
  },
  {
   "cell_type": "code",
   "execution_count": 25,
   "metadata": {},
   "outputs": [
    {
     "data": {
      "image/png": "[encoded data removed]",
      "text/plain": [
       "<Figure size 432x288 with 1 Axes>"
      ]
     },
     "metadata": {
      "needs_background": "light"
     },
     "output_type": "display_data"
    }
   ],
   "source": [
    "plot_all([\n",
    "    gdf, buffered\n",
    "], [\n",
    "    { 'facecolor': 'none', 'edgecolor': 'blue', 'alpha': 0.1 },\n",
    "    { 'facecolor': 'none', 'edgecolor': 'red' }\n",
    "])"
   ]
  },
  {
   "cell_type": "markdown",
   "metadata": {},
   "source": [
    "- again, well!"
   ]
  },
  {
   "cell_type": "code",
   "execution_count": 26,
   "metadata": {},
   "outputs": [
    {
     "data": {
      "text/plain": [
       "<AxesSubplot:xlabel='beginposition'>"
      ]
     },
     "execution_count": 26,
     "metadata": {},
     "output_type": "execute_result"
    },
    {
     "data": {
      "image/png": "[encoded data removed]",
      "text/plain": [
       "<Figure size 432x288 with 1 Axes>"
      ]
     },
     "metadata": {
      "needs_background": "light"
     },
     "output_type": "display_data"
    }
   ],
   "source": [
    "gdf['tile'] = gdf['title'].apply(lambda t: t.split('_')[5])\n",
    "gdf = gdf[gdf['tile'] == 'T33UUT']\n",
    "gdf.set_index('beginposition')['cloudcoverpercentage'].plot(kind='bar')"
   ]
  },
  {
   "cell_type": "code",
   "execution_count": 27,
   "metadata": {},
   "outputs": [],
   "source": [
    "timestamps = [\n",
    "    '2019-06-03 10:10:31.024000', # before the fire, almost no clouds\n",
    "    '2019-06-13 10:10:31.024000', # during the fire?\n",
    "    '2019-06-26 10:20:31.024000', # after the fire, within cloud coverage < 30%\n",
    "]\n",
    "product_uuids_2019 = gdf[gdf['beginposition'].isin(timestamps)]['uuid'].values"
   ]
  },
  {
   "cell_type": "code",
   "execution_count": 28,
   "metadata": {},
   "outputs": [],
   "source": [
    "downloaded, initialized, failed = api.download_all(product_uuids_2019, out_dir)"
   ]
  },
  {
   "cell_type": "code",
   "execution_count": 29,
   "metadata": {},
   "outputs": [
    {
     "data": {
      "text/plain": [
       "3"
      ]
     },
     "execution_count": 29,
     "metadata": {},
     "output_type": "execute_result"
    }
   ],
   "source": [
    "len(downloaded)"
   ]
  },
  {
   "cell_type": "code",
   "execution_count": 30,
   "metadata": {},
   "outputs": [
    {
     "data": {
      "text/plain": [
       "0"
      ]
     },
     "execution_count": 30,
     "metadata": {},
     "output_type": "execute_result"
    }
   ],
   "source": [
    "len(initialized)"
   ]
  },
  {
   "cell_type": "code",
   "execution_count": 31,
   "metadata": {},
   "outputs": [
    {
     "data": {
      "text/plain": [
       "0"
      ]
     },
     "execution_count": 31,
     "metadata": {},
     "output_type": "execute_result"
    }
   ],
   "source": [
    "len(failed)"
   ]
  },
  {
   "cell_type": "code",
   "execution_count": 32,
   "metadata": {},
   "outputs": [
    {
     "data": {
      "text/plain": [
       "{}"
      ]
     },
     "execution_count": 32,
     "metadata": {},
     "output_type": "execute_result"
    }
   ],
   "source": [
    "failed"
   ]
  },
  {
   "cell_type": "markdown",
   "metadata": {},
   "source": [
    "- originally downloaded: 0, initialized: 1, failed: 2\n",
    "- failed product with uuid `1e9358eb-2c1e-45a5-aabd-ee7b193eda0e` has status code `202 Accepted`, so not actually failed?\n",
    "- all products could be downloaded within 5 hours\n",
    "\n",
    "\n",
    "- output paths"
   ]
  },
  {
   "cell_type": "code",
   "execution_count": 33,
   "metadata": {},
   "outputs": [
    {
     "data": {
      "text/plain": [
       "['input/forest_fires/S2A_MSIL2A_20190613T101031_N0212_R022_T33UUT_20190614T125329.zip',\n",
       " 'input/forest_fires/S2A_MSIL2A_20190603T101031_N0212_R022_T33UUT_20190603T114652.zip',\n",
       " 'input/forest_fires/S2A_MSIL2A_20190626T102031_N0212_R065_T33UUT_20190626T125319.zip']"
      ]
     },
     "execution_count": 33,
     "metadata": {},
     "output_type": "execute_result"
    }
   ],
   "source": [
    "list(map(lambda d: d['path'], downloaded.values()))"
   ]
  },
  {
   "cell_type": "code",
   "execution_count": null,
   "metadata": {},
   "outputs": [],
   "source": []
  }
 ],
 "metadata": {
  "kernelspec": {
   "display_name": "Python 3",
   "language": "python",
   "name": "python3"
  },
  "language_info": {
   "codemirror_mode": {
    "name": "ipython",
    "version": 3
   },
   "file_extension": ".py",
   "mimetype": "text/x-python",
   "name": "python",
   "nbconvert_exporter": "python",
   "pygments_lexer": "ipython3",
   "version": "3.8.6"
  }
 },
 "nbformat": 4,
 "nbformat_minor": 4
}
