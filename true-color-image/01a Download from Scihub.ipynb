{
 "cells": [
  {
   "cell_type": "markdown",
   "metadata": {},
   "source": [
    "# Download Data from Copernicus Open Access Hub\n",
    "\n",
    "These notebooks contain information about accessing and using data from the Sentinel-2 mission run by the Copernicus program.\n",
    "Data is retrieved from the Copernicus Open Access Hub.\n",
    "Please create an account first:\n",
    "\n",
    "https://scihub.copernicus.eu/dhus/#/self-registration\n",
    "\n",
    "Note that there are other Copernicus Open Access Hubs with a compatible API, but the one linked above is the one used in these notebooks."
   ]
  },
  {
   "cell_type": "code",
   "execution_count": 3,
   "metadata": {},
   "outputs": [],
   "source": [
    "from sentinelsat import SentinelAPI, read_geojson\n",
    "import os"
   ]
  },
  {
   "cell_type": "markdown",
   "metadata": {},
   "source": [
    "API access is set up using environment variables. Configure `SCIHUB_USERNAME` and `SCIHUB_PASSWORD` to contain the credentials of your account in order to gain access to the Copernicus Open Access Hub.\n",
    "\n",
    "This can be done by running the Docker container like this:\n",
    "\n",
    "```\n",
    "docker run -it --name=eratosthenes --net=host -v \"$(pwd)\":/home/jovyan -e SCIHUB_USERNAME=YOUR_USERNAME_HERE -e SCIHUB_PASSWORD=YOUR_PASSWORD_HERE eratosthenes:latest\n",
    "```\n",
    "\n",
    "The important part is\n",
    "\n",
    "```\n",
    "-e SCIHUB_USERNAME=YOUR_USERNAME_HERE -e SCIHUB_PASSWORD=YOUR_PASSWORD_HERE\n",
    "```\n",
    "\n",
    "where the respective values need to be replaced with the credentials used for signing up."
   ]
  },
  {
   "cell_type": "code",
   "execution_count": 4,
   "metadata": {},
   "outputs": [],
   "source": [
    "api = SentinelAPI(os.getenv('SCIHUB_USERNAME'), os.getenv('SCIHUB_PASSWORD'))"
   ]
  },
  {
   "cell_type": "markdown",
   "metadata": {},
   "source": [
    "## Defining the Region of Interest\n",
    "\n",
    "The Copernicus Open Access Hub API expects a point or area that designates the region of interest.\n",
    "We use the [OpenStreetMap Nominatim API](https://nominatim.org/) to query for the administrative boundaries of Berlin using the `search_osm` function defined in `sentinel_helpers.py`:"
   ]
  },
  {
   "cell_type": "code",
   "execution_count": 5,
   "metadata": {},
   "outputs": [
    {
     "data": {
      "text/plain": [
       "\u001b[0;31mSignature:\u001b[0m \u001b[0msearch_osm\u001b[0m\u001b[0;34m(\u001b[0m\u001b[0mplace\u001b[0m\u001b[0;34m)\u001b[0m\u001b[0;34m\u001b[0m\u001b[0;34m\u001b[0m\u001b[0m\n",
       "\u001b[0;31mSource:\u001b[0m   \n",
       "\u001b[0;32mdef\u001b[0m \u001b[0msearch_osm\u001b[0m\u001b[0;34m(\u001b[0m\u001b[0mplace\u001b[0m\u001b[0;34m)\u001b[0m\u001b[0;34m:\u001b[0m\u001b[0;34m\u001b[0m\n",
       "\u001b[0;34m\u001b[0m    \u001b[0;34m'''\u001b[0m\n",
       "\u001b[0;34m    Returns a GeoDataFrame with results from OpenStreetMap Nominatim for the given search string.\u001b[0m\n",
       "\u001b[0;34m    This allows us to fetch detailed geometries for virtually any place on earth.\u001b[0m\n",
       "\u001b[0;34m    '''\u001b[0m\u001b[0;34m\u001b[0m\n",
       "\u001b[0;34m\u001b[0m    \u001b[0murlescaped_place\u001b[0m \u001b[0;34m=\u001b[0m \u001b[0murllib\u001b[0m\u001b[0;34m.\u001b[0m\u001b[0mparse\u001b[0m\u001b[0;34m.\u001b[0m\u001b[0mquote\u001b[0m\u001b[0;34m(\u001b[0m\u001b[0mplace\u001b[0m\u001b[0;34m)\u001b[0m\u001b[0;34m\u001b[0m\n",
       "\u001b[0;34m\u001b[0m    \u001b[0msearch_url\u001b[0m \u001b[0;34m=\u001b[0m \u001b[0;34m(\u001b[0m\u001b[0;34m'https://nominatim.openstreetmap.org/search/?q={}'\u001b[0m \u001b[0;34m+\u001b[0m\u001b[0;34m\u001b[0m\n",
       "\u001b[0;34m\u001b[0m                  \u001b[0;34m'&format=geojson&polygon_geojson=1'\u001b[0m\u001b[0;34m)\u001b[0m\u001b[0;34m.\u001b[0m\u001b[0mformat\u001b[0m\u001b[0;34m(\u001b[0m\u001b[0murlescaped_place\u001b[0m\u001b[0;34m)\u001b[0m\u001b[0;34m\u001b[0m\n",
       "\u001b[0;34m\u001b[0m    \u001b[0;32mreturn\u001b[0m \u001b[0mgpd\u001b[0m\u001b[0;34m.\u001b[0m\u001b[0mread_file\u001b[0m\u001b[0;34m(\u001b[0m\u001b[0msearch_url\u001b[0m\u001b[0;34m)\u001b[0m\u001b[0;34m\u001b[0m\u001b[0;34m\u001b[0m\u001b[0m\n",
       "\u001b[0;31mFile:\u001b[0m      ~/true-color-image/sentinel_helpers.py\n",
       "\u001b[0;31mType:\u001b[0m      function\n"
      ]
     },
     "metadata": {},
     "output_type": "display_data"
    }
   ],
   "source": [
    "from sentinel_helpers import search_osm\n",
    "??search_osm"
   ]
  },
  {
   "cell_type": "code",
   "execution_count": 6,
   "metadata": {},
   "outputs": [
    {
     "data": {
      "text/html": [
       "<div>\n",
       "<style scoped>\n",
       "    .dataframe tbody tr th:only-of-type {\n",
       "        vertical-align: middle;\n",
       "    }\n",
       "\n",
       "    .dataframe tbody tr th {\n",
       "        vertical-align: top;\n",
       "    }\n",
       "\n",
       "    .dataframe thead th {\n",
       "        text-align: right;\n",
       "    }\n",
       "</style>\n",
       "<table border=\"1\" class=\"dataframe\">\n",
       "  <thead>\n",
       "    <tr style=\"text-align: right;\">\n",
       "      <th></th>\n",
       "      <th>place_id</th>\n",
       "      <th>osm_type</th>\n",
       "      <th>osm_id</th>\n",
       "      <th>display_name</th>\n",
       "      <th>place_rank</th>\n",
       "      <th>category</th>\n",
       "      <th>type</th>\n",
       "      <th>importance</th>\n",
       "      <th>icon</th>\n",
       "      <th>geometry</th>\n",
       "    </tr>\n",
       "  </thead>\n",
       "  <tbody>\n",
       "    <tr>\n",
       "      <th>0</th>\n",
       "      <td>574401</td>\n",
       "      <td>node</td>\n",
       "      <td>240109189</td>\n",
       "      <td>Berlin, 10117, Deutschland</td>\n",
       "      <td>15</td>\n",
       "      <td>place</td>\n",
       "      <td>city</td>\n",
       "      <td>0.897539</td>\n",
       "      <td>https://nominatim.openstreetmap.org/ui/mapicon...</td>\n",
       "      <td>POINT (13.38886 52.51704)</td>\n",
       "    </tr>\n",
       "    <tr>\n",
       "      <th>1</th>\n",
       "      <td>256375666</td>\n",
       "      <td>relation</td>\n",
       "      <td>62422</td>\n",
       "      <td>Berlin, Deutschland</td>\n",
       "      <td>8</td>\n",
       "      <td>boundary</td>\n",
       "      <td>administrative</td>\n",
       "      <td>0.897539</td>\n",
       "      <td>https://nominatim.openstreetmap.org/ui/mapicon...</td>\n",
       "      <td>MULTIPOLYGON (((13.08835 52.41963, 13.09021 52...</td>\n",
       "    </tr>\n",
       "    <tr>\n",
       "      <th>2</th>\n",
       "      <td>1253688</td>\n",
       "      <td>node</td>\n",
       "      <td>313826576</td>\n",
       "      <td>Berlin, Tauentzienstraße, Charlottenburg, Char...</td>\n",
       "      <td>30</td>\n",
       "      <td>tourism</td>\n",
       "      <td>artwork</td>\n",
       "      <td>0.315372</td>\n",
       "      <td>https://nominatim.openstreetmap.org/ui/mapicon...</td>\n",
       "      <td>POINT (13.33864 52.50340)</td>\n",
       "    </tr>\n",
       "    <tr>\n",
       "      <th>3</th>\n",
       "      <td>225671</td>\n",
       "      <td>node</td>\n",
       "      <td>50798110</td>\n",
       "      <td>Berlin, Seedorf, Trave-Land, Segeberg, Schlesw...</td>\n",
       "      <td>19</td>\n",
       "      <td>place</td>\n",
       "      <td>village</td>\n",
       "      <td>0.272651</td>\n",
       "      <td>https://nominatim.openstreetmap.org/ui/mapicon...</td>\n",
       "      <td>POINT (10.44613 54.03636)</td>\n",
       "    </tr>\n",
       "    <tr>\n",
       "      <th>4</th>\n",
       "      <td>107621118</td>\n",
       "      <td>way</td>\n",
       "      <td>68276545</td>\n",
       "      <td>Berlin, Potsdam, Klein Bennebek, Kropp-Stapelh...</td>\n",
       "      <td>26</td>\n",
       "      <td>highway</td>\n",
       "      <td>unclassified</td>\n",
       "      <td>0.210000</td>\n",
       "      <td>None</td>\n",
       "      <td>LINESTRING (9.41929 54.40283, 9.42072 54.40343...</td>\n",
       "    </tr>\n",
       "  </tbody>\n",
       "</table>\n",
       "</div>"
      ],
      "text/plain": [
       "    place_id  osm_type     osm_id  \\\n",
       "0     574401      node  240109189   \n",
       "1  256375666  relation      62422   \n",
       "2    1253688      node  313826576   \n",
       "3     225671      node   50798110   \n",
       "4  107621118       way   68276545   \n",
       "\n",
       "                                        display_name  place_rank  category  \\\n",
       "0                         Berlin, 10117, Deutschland          15     place   \n",
       "1                                Berlin, Deutschland           8  boundary   \n",
       "2  Berlin, Tauentzienstraße, Charlottenburg, Char...          30   tourism   \n",
       "3  Berlin, Seedorf, Trave-Land, Segeberg, Schlesw...          19     place   \n",
       "4  Berlin, Potsdam, Klein Bennebek, Kropp-Stapelh...          26   highway   \n",
       "\n",
       "             type  importance  \\\n",
       "0            city    0.897539   \n",
       "1  administrative    0.897539   \n",
       "2         artwork    0.315372   \n",
       "3         village    0.272651   \n",
       "4    unclassified    0.210000   \n",
       "\n",
       "                                                icon  \\\n",
       "0  https://nominatim.openstreetmap.org/ui/mapicon...   \n",
       "1  https://nominatim.openstreetmap.org/ui/mapicon...   \n",
       "2  https://nominatim.openstreetmap.org/ui/mapicon...   \n",
       "3  https://nominatim.openstreetmap.org/ui/mapicon...   \n",
       "4                                               None   \n",
       "\n",
       "                                            geometry  \n",
       "0                          POINT (13.38886 52.51704)  \n",
       "1  MULTIPOLYGON (((13.08835 52.41963, 13.09021 52...  \n",
       "2                          POINT (13.33864 52.50340)  \n",
       "3                          POINT (10.44613 54.03636)  \n",
       "4  LINESTRING (9.41929 54.40283, 9.42072 54.40343...  "
      ]
     },
     "execution_count": 6,
     "metadata": {},
     "output_type": "execute_result"
    }
   ],
   "source": [
    "results = search_osm('Berlin, Germany')\n",
    "results.head()"
   ]
  },
  {
   "cell_type": "markdown",
   "metadata": {},
   "source": [
    "OpenStreetMap contains geoinformation at vastly different scales and of very different types.\n",
    "We can use it to query outlines of parks or entire countries.\n",
    "You can consult the [OpenStreetMap wiki](https://wiki.openstreetmap.org/wiki/Main_Page) for more detailed information about this.\n",
    "Using the `search_osm` function we are very flexible in the type of query information we can retrieve.\n",
    "\n",
    "The first result is the city's centroid.\n",
    "We use the `type` to select the administrative boundaries."
   ]
  },
  {
   "cell_type": "code",
   "execution_count": 7,
   "metadata": {},
   "outputs": [
    {
     "data": {
      "text/plain": [
       "<AxesSubplot:>"
      ]
     },
     "execution_count": 7,
     "metadata": {},
     "output_type": "execute_result"
    },
    {
     "data": {
      "image/png": "[encoded data removed]",
      "text/plain": [
       "<Figure size 432x288 with 1 Axes>"
      ]
     },
     "metadata": {
      "needs_background": "light"
     },
     "output_type": "display_data"
    }
   ],
   "source": [
    "berlin = results[results['type'] == 'administrative']\n",
    "berlin.plot()"
   ]
  },
  {
   "cell_type": "markdown",
   "metadata": {},
   "source": [
    "…and save this result for later:"
   ]
  },
  {
   "cell_type": "code",
   "execution_count": 8,
   "metadata": {},
   "outputs": [],
   "source": [
    "berlin.to_file('./input/berlin.geojson', driver='GeoJSON')"
   ]
  },
  {
   "cell_type": "markdown",
   "metadata": {},
   "source": [
    "## Querying the API\n",
    "\n",
    "Other query parameters that are useful to us:\n",
    "\n",
    "- the time span for which to search for results\n",
    "- the maximum cloud coverage an image is allowed to have"
   ]
  },
  {
   "cell_type": "code",
   "execution_count": 9,
   "metadata": {},
   "outputs": [],
   "source": [
    "from datetime import date\n",
    "import datetime"
   ]
  },
  {
   "cell_type": "code",
   "execution_count": 10,
   "metadata": {},
   "outputs": [],
   "source": [
    "start_date = date(2020, 5, 22)\n",
    "end_date = date(2020, 6, 22)\n",
    "cloud_coverage = (0,30) # between 0 and 30 percent"
   ]
  },
  {
   "cell_type": "markdown",
   "metadata": {},
   "source": [
    "The region of interest is given as the `footprint` parameter.\n",
    "We use a simplified version of the geometry retrieved from OpenStreetMap - its convex hull - due to restrictions in URL lengths that don't allow us to query for arbitrarily detailed geometries:"
   ]
  },
  {
   "cell_type": "code",
   "execution_count": 11,
   "metadata": {},
   "outputs": [
    {
     "data": {
      "image/svg+xml": [
       "<svg xmlns=\"http://www.w3.org/2000/svg\" xmlns:xlink=\"http://www.w3.org/1999/xlink\" width=\"100.0\" height=\"100.0\" viewBox=\"13.061432364 52.311332164 0.7266411720000008 0.39108917200000093\" preserveAspectRatio=\"xMinYMin meet\"><g transform=\"matrix(1,0,0,-1,0,105.0137535)\"><path fill-rule=\"evenodd\" fill=\"#66cc99\" stroke=\"#555555\" stroke-width=\"0.014532823440000016\" opacity=\"0.6\" d=\"M 13.6477328,52.3382448 L 13.6474433,52.338271 L 13.131305,52.3872254 L 13.1310825,52.3872512 L 13.1307559,52.3873763 L 13.1298482,52.3878739 L 13.1267317,52.3895836 L 13.0907635,52.4115602 L 13.090275,52.4122142 L 13.088345,52.4196325 L 13.1284297,52.5860175 L 13.1289619,52.5873048 L 13.2827678,52.6607411 L 13.4794873,52.6755087 L 13.4884252,52.6707899 L 13.523022,52.6450365 L 13.7564462,52.4461766 L 13.7611609,52.4377097 L 13.76095,52.4373221 L 13.7390343,52.4073353 L 13.7342706,52.4021367 L 13.7341193,52.4019835 L 13.6922028,52.3672074 L 13.6513711,52.3392255 L 13.6509462,52.3389451 L 13.6506935,52.3388565 L 13.6488471,52.3383381 L 13.6484243,52.3382725 L 13.6477328,52.3382448 z\" /></g></svg>"
      ],
      "text/plain": [
       "<shapely.geometry.polygon.Polygon at 0x7f9f50db5850>"
      ]
     },
     "execution_count": 11,
     "metadata": {},
     "output_type": "execute_result"
    }
   ],
   "source": [
    "footprint = berlin.iloc[0]['geometry'].convex_hull\n",
    "footprint"
   ]
  },
  {
   "cell_type": "code",
   "execution_count": null,
   "metadata": {},
   "outputs": [],
   "source": []
  },
  {
   "cell_type": "code",
   "execution_count": 12,
   "metadata": {},
   "outputs": [],
   "source": [
    "products = api.query(footprint,\n",
    "                     platformname='Sentinel-2',\n",
    "                     processinglevel='Level-2A',\n",
    "                     date=(start_date, end_date),\n",
    "                     cloudcoverpercentage=cloud_coverage)"
   ]
  },
  {
   "cell_type": "markdown",
   "metadata": {},
   "source": [
    "How many results do we have?"
   ]
  },
  {
   "cell_type": "code",
   "execution_count": 13,
   "metadata": {},
   "outputs": [
    {
     "name": "stdout",
     "output_type": "stream",
     "text": [
      "Found 16 results\n"
     ]
    }
   ],
   "source": [
    "print(f'Found {len(products)} results')"
   ]
  },
  {
   "cell_type": "markdown",
   "metadata": {},
   "source": [
    "## Selecting Products from the Result Set\n",
    "\n",
    "The criteria for selecting a product depends on the specific use case.\n",
    "The first use case is to plot an image of Berlin, so want to make sure that as much of the city as possible is visible in the data we download.\n",
    "\n",
    "We convert the list of products to a `GeoDataFrame`:"
   ]
  },
  {
   "cell_type": "code",
   "execution_count": 14,
   "metadata": {},
   "outputs": [
    {
     "name": "stderr",
     "output_type": "stream",
     "text": [
      "/opt/conda/lib/python3.8/site-packages/pyproj/crs/crs.py:53: FutureWarning: '+init=<authority>:<code>' syntax is deprecated. '<authority>:<code>' is the preferred initialization method. When making the change, be mindful of axis order changes: https://pyproj4.github.io/pyproj/stable/gotchas.html#axis-order-changes-in-proj-6\n",
      "  return _prepare_from_string(\" \".join(pjargs))\n"
     ]
    }
   ],
   "source": [
    "products = api.to_geodataframe(products)"
   ]
  },
  {
   "cell_type": "markdown",
   "metadata": {},
   "source": [
    "The `plot_all` function is a helper that allows us to draw several geometries on top of each other in a single plot.\n",
    "We can use it to get a quick visual impression of the result:"
   ]
  },
  {
   "cell_type": "code",
   "execution_count": 18,
   "metadata": {},
   "outputs": [],
   "source": [
    "from sentinel_helpers import plot_all\n",
    "import matplotlib.pyplot as pplt"
   ]
  },
  {
   "cell_type": "code",
   "execution_count": 19,
   "metadata": {},
   "outputs": [
    {
     "data": {
      "text/plain": [
       "Text(0.5, 1.0, 'Area of interest, its convex hull and products returned from the API')"
      ]
     },
     "execution_count": 19,
     "metadata": {},
     "output_type": "execute_result"
    },
    {
     "data": {
      "image/png": "[encoded data removed]",
      "text/plain": [
       "<Figure size 1152x648 with 1 Axes>"
      ]
     },
     "metadata": {
      "needs_background": "light"
     },
     "output_type": "display_data"
    }
   ],
   "source": [
    "plot_all([products, berlin, footprint],\n",
    "         [{'color': 'none', 'edgecolor': 'blue', 'alpha': 0.1, 'figsize': (16, 9)},\n",
    "          {'color': 'none', 'edgecolor': 'red'},\n",
    "          {'color': 'none', 'edgecolor': 'grey'}])\n",
    "pplt.title('Area of interest, its convex hull and products returned from the API')"
   ]
  },
  {
   "cell_type": "markdown",
   "metadata": {},
   "source": [
    "<div class=\"alert alert-primary\" role=\"alert\">\n",
    "    <b>Note:</b> The geometrical shape of the captured data a product depends on where a Sentinel-2 satellite was in orbit when it crossed the area of interest.\n",
    "    An in-depth analysis for this can be found in <code>01b Coverage Analysis.ipynb</code>.\n",
    "</div>"
   ]
  },
  {
   "cell_type": "markdown",
   "metadata": {},
   "source": [
    "Because products are are large (roughly 1GB), we want to skip unnecessary downloads wherever possible.\n",
    "We are selecting products based on two criteria:\n",
    "\n",
    "- How much of the area of interest is visible in the product (i.e. area of their intersection)\n",
    "- How many clouds are in the image (as few as possible)"
   ]
  },
  {
   "cell_type": "code",
   "execution_count": 21,
   "metadata": {},
   "outputs": [],
   "source": [
    "# we are using a metric coordinate reference system for europe in order to\n",
    "# safely compare areas \n",
    "products = products.to_crs('EPSG:4839')\n",
    "berlin = berlin.to_crs('EPSG:4839')"
   ]
  },
  {
   "cell_type": "code",
   "execution_count": 22,
   "metadata": {},
   "outputs": [
    {
     "data": {
      "text/html": [
       "<div>\n",
       "<style scoped>\n",
       "    .dataframe tbody tr th:only-of-type {\n",
       "        vertical-align: middle;\n",
       "    }\n",
       "\n",
       "    .dataframe tbody tr th {\n",
       "        vertical-align: top;\n",
       "    }\n",
       "\n",
       "    .dataframe thead th {\n",
       "        text-align: right;\n",
       "    }\n",
       "</style>\n",
       "<table border=\"1\" class=\"dataframe\">\n",
       "  <thead>\n",
       "    <tr style=\"text-align: right;\">\n",
       "      <th></th>\n",
       "      <th>title</th>\n",
       "      <th>link</th>\n",
       "      <th>link_alternative</th>\n",
       "      <th>link_icon</th>\n",
       "      <th>summary</th>\n",
       "      <th>ondemand</th>\n",
       "      <th>beginposition</th>\n",
       "      <th>endposition</th>\n",
       "      <th>ingestiondate</th>\n",
       "      <th>orbitnumber</th>\n",
       "      <th>...</th>\n",
       "      <th>osm_type</th>\n",
       "      <th>osm_id</th>\n",
       "      <th>display_name</th>\n",
       "      <th>place_rank</th>\n",
       "      <th>category</th>\n",
       "      <th>type</th>\n",
       "      <th>importance</th>\n",
       "      <th>icon</th>\n",
       "      <th>geometry</th>\n",
       "      <th>area</th>\n",
       "    </tr>\n",
       "  </thead>\n",
       "  <tbody>\n",
       "    <tr>\n",
       "      <th>1</th>\n",
       "      <td>S2A_MSIL2A_20200617T101031_N0214_R022_T33UUU_2...</td>\n",
       "      <td>https://scihub.copernicus.eu/apihub/odata/v1/P...</td>\n",
       "      <td>https://scihub.copernicus.eu/apihub/odata/v1/P...</td>\n",
       "      <td>https://scihub.copernicus.eu/apihub/odata/v1/P...</td>\n",
       "      <td>Date: 2020-06-17T10:10:31.024Z, Instrument: MS...</td>\n",
       "      <td>false</td>\n",
       "      <td>2020-06-17 10:10:31.024</td>\n",
       "      <td>2020-06-17 10:10:31.024</td>\n",
       "      <td>2020-06-17 21:35:56.836</td>\n",
       "      <td>26045</td>\n",
       "      <td>...</td>\n",
       "      <td>relation</td>\n",
       "      <td>62422</td>\n",
       "      <td>Berlin, Deutschland</td>\n",
       "      <td>8</td>\n",
       "      <td>boundary</td>\n",
       "      <td>administrative</td>\n",
       "      <td>0.897539</td>\n",
       "      <td>https://nominatim.openstreetmap.org/ui/mapicon...</td>\n",
       "      <td>MULTIPOLYGON (((215331.937 168288.512, 216047....</td>\n",
       "      <td>8.535962e+08</td>\n",
       "    </tr>\n",
       "    <tr>\n",
       "      <th>3</th>\n",
       "      <td>S2B_MSIL2A_20200615T101559_N0214_R065_T33UUU_2...</td>\n",
       "      <td>https://scihub.copernicus.eu/apihub/odata/v1/P...</td>\n",
       "      <td>https://scihub.copernicus.eu/apihub/odata/v1/P...</td>\n",
       "      <td>https://scihub.copernicus.eu/apihub/odata/v1/P...</td>\n",
       "      <td>Date: 2020-06-15T10:15:59.024Z, Instrument: MS...</td>\n",
       "      <td>false</td>\n",
       "      <td>2020-06-15 10:15:59.024</td>\n",
       "      <td>2020-06-15 10:15:59.024</td>\n",
       "      <td>2020-06-16 01:21:09.378</td>\n",
       "      <td>17108</td>\n",
       "      <td>...</td>\n",
       "      <td>relation</td>\n",
       "      <td>62422</td>\n",
       "      <td>Berlin, Deutschland</td>\n",
       "      <td>8</td>\n",
       "      <td>boundary</td>\n",
       "      <td>administrative</td>\n",
       "      <td>0.897539</td>\n",
       "      <td>https://nominatim.openstreetmap.org/ui/mapicon...</td>\n",
       "      <td>MULTIPOLYGON (((215331.937 168288.512, 216047....</td>\n",
       "      <td>8.535962e+08</td>\n",
       "    </tr>\n",
       "    <tr>\n",
       "      <th>10</th>\n",
       "      <td>S2B_MSIL2A_20200602T100559_N0214_R022_T33UUU_2...</td>\n",
       "      <td>https://scihub.copernicus.eu/apihub/odata/v1/P...</td>\n",
       "      <td>https://scihub.copernicus.eu/apihub/odata/v1/P...</td>\n",
       "      <td>https://scihub.copernicus.eu/apihub/odata/v1/P...</td>\n",
       "      <td>Date: 2020-06-02T10:05:59.024Z, Instrument: MS...</td>\n",
       "      <td>false</td>\n",
       "      <td>2020-06-02 10:05:59.024</td>\n",
       "      <td>2020-06-02 10:05:59.024</td>\n",
       "      <td>2020-06-02 18:40:43.331</td>\n",
       "      <td>16922</td>\n",
       "      <td>...</td>\n",
       "      <td>relation</td>\n",
       "      <td>62422</td>\n",
       "      <td>Berlin, Deutschland</td>\n",
       "      <td>8</td>\n",
       "      <td>boundary</td>\n",
       "      <td>administrative</td>\n",
       "      <td>0.897539</td>\n",
       "      <td>https://nominatim.openstreetmap.org/ui/mapicon...</td>\n",
       "      <td>MULTIPOLYGON (((215331.937 168288.512, 216047....</td>\n",
       "      <td>8.535962e+08</td>\n",
       "    </tr>\n",
       "    <tr>\n",
       "      <th>11</th>\n",
       "      <td>S2A_MSIL2A_20200531T102031_N0214_R065_T33UUU_2...</td>\n",
       "      <td>https://scihub.copernicus.eu/apihub/odata/v1/P...</td>\n",
       "      <td>https://scihub.copernicus.eu/apihub/odata/v1/P...</td>\n",
       "      <td>https://scihub.copernicus.eu/apihub/odata/v1/P...</td>\n",
       "      <td>Date: 2020-05-31T10:20:31.024Z, Instrument: MS...</td>\n",
       "      <td>false</td>\n",
       "      <td>2020-05-31 10:20:31.024</td>\n",
       "      <td>2020-05-31 10:20:31.024</td>\n",
       "      <td>2020-05-31 20:21:27.279</td>\n",
       "      <td>25802</td>\n",
       "      <td>...</td>\n",
       "      <td>relation</td>\n",
       "      <td>62422</td>\n",
       "      <td>Berlin, Deutschland</td>\n",
       "      <td>8</td>\n",
       "      <td>boundary</td>\n",
       "      <td>administrative</td>\n",
       "      <td>0.897539</td>\n",
       "      <td>https://nominatim.openstreetmap.org/ui/mapicon...</td>\n",
       "      <td>MULTIPOLYGON (((215331.937 168288.512, 216047....</td>\n",
       "      <td>8.535962e+08</td>\n",
       "    </tr>\n",
       "  </tbody>\n",
       "</table>\n",
       "<p>4 rows × 46 columns</p>\n",
       "</div>"
      ],
      "text/plain": [
       "                                                title  \\\n",
       "1   S2A_MSIL2A_20200617T101031_N0214_R022_T33UUU_2...   \n",
       "3   S2B_MSIL2A_20200615T101559_N0214_R065_T33UUU_2...   \n",
       "10  S2B_MSIL2A_20200602T100559_N0214_R022_T33UUU_2...   \n",
       "11  S2A_MSIL2A_20200531T102031_N0214_R065_T33UUU_2...   \n",
       "\n",
       "                                                 link  \\\n",
       "1   https://scihub.copernicus.eu/apihub/odata/v1/P...   \n",
       "3   https://scihub.copernicus.eu/apihub/odata/v1/P...   \n",
       "10  https://scihub.copernicus.eu/apihub/odata/v1/P...   \n",
       "11  https://scihub.copernicus.eu/apihub/odata/v1/P...   \n",
       "\n",
       "                                     link_alternative  \\\n",
       "1   https://scihub.copernicus.eu/apihub/odata/v1/P...   \n",
       "3   https://scihub.copernicus.eu/apihub/odata/v1/P...   \n",
       "10  https://scihub.copernicus.eu/apihub/odata/v1/P...   \n",
       "11  https://scihub.copernicus.eu/apihub/odata/v1/P...   \n",
       "\n",
       "                                            link_icon  \\\n",
       "1   https://scihub.copernicus.eu/apihub/odata/v1/P...   \n",
       "3   https://scihub.copernicus.eu/apihub/odata/v1/P...   \n",
       "10  https://scihub.copernicus.eu/apihub/odata/v1/P...   \n",
       "11  https://scihub.copernicus.eu/apihub/odata/v1/P...   \n",
       "\n",
       "                                              summary ondemand  \\\n",
       "1   Date: 2020-06-17T10:10:31.024Z, Instrument: MS...    false   \n",
       "3   Date: 2020-06-15T10:15:59.024Z, Instrument: MS...    false   \n",
       "10  Date: 2020-06-02T10:05:59.024Z, Instrument: MS...    false   \n",
       "11  Date: 2020-05-31T10:20:31.024Z, Instrument: MS...    false   \n",
       "\n",
       "             beginposition             endposition           ingestiondate  \\\n",
       "1  2020-06-17 10:10:31.024 2020-06-17 10:10:31.024 2020-06-17 21:35:56.836   \n",
       "3  2020-06-15 10:15:59.024 2020-06-15 10:15:59.024 2020-06-16 01:21:09.378   \n",
       "10 2020-06-02 10:05:59.024 2020-06-02 10:05:59.024 2020-06-02 18:40:43.331   \n",
       "11 2020-05-31 10:20:31.024 2020-05-31 10:20:31.024 2020-05-31 20:21:27.279   \n",
       "\n",
       "    orbitnumber  ...  osm_type  osm_id         display_name  place_rank  \\\n",
       "1         26045  ...  relation   62422  Berlin, Deutschland           8   \n",
       "3         17108  ...  relation   62422  Berlin, Deutschland           8   \n",
       "10        16922  ...  relation   62422  Berlin, Deutschland           8   \n",
       "11        25802  ...  relation   62422  Berlin, Deutschland           8   \n",
       "\n",
       "    category            type  importance  \\\n",
       "1   boundary  administrative    0.897539   \n",
       "3   boundary  administrative    0.897539   \n",
       "10  boundary  administrative    0.897539   \n",
       "11  boundary  administrative    0.897539   \n",
       "\n",
       "                                                 icon  \\\n",
       "1   https://nominatim.openstreetmap.org/ui/mapicon...   \n",
       "3   https://nominatim.openstreetmap.org/ui/mapicon...   \n",
       "10  https://nominatim.openstreetmap.org/ui/mapicon...   \n",
       "11  https://nominatim.openstreetmap.org/ui/mapicon...   \n",
       "\n",
       "                                             geometry          area  \n",
       "1   MULTIPOLYGON (((215331.937 168288.512, 216047....  8.535962e+08  \n",
       "3   MULTIPOLYGON (((215331.937 168288.512, 216047....  8.535962e+08  \n",
       "10  MULTIPOLYGON (((215331.937 168288.512, 216047....  8.535962e+08  \n",
       "11  MULTIPOLYGON (((215331.937 168288.512, 216047....  8.535962e+08  \n",
       "\n",
       "[4 rows x 46 columns]"
      ]
     },
     "execution_count": 22,
     "metadata": {},
     "output_type": "execute_result"
    }
   ],
   "source": [
    "import geopandas as gpd\n",
    "\n",
    "intersection = gpd.overlay(\n",
    "    products,\n",
    "    berlin,\n",
    "    how=\"intersection\"\n",
    ")\n",
    "intersection['area'] = intersection['geometry'].area\n",
    "max_area = max(*intersection['area'])\n",
    "\n",
    "largest_intersections = intersection[intersection['area'] == max_area]\n",
    "largest_intersections"
   ]
  },
  {
   "cell_type": "code",
   "execution_count": 23,
   "metadata": {},
   "outputs": [
    {
     "data": {
      "text/html": [
       "<div>\n",
       "<style scoped>\n",
       "    .dataframe tbody tr th:only-of-type {\n",
       "        vertical-align: middle;\n",
       "    }\n",
       "\n",
       "    .dataframe tbody tr th {\n",
       "        vertical-align: top;\n",
       "    }\n",
       "\n",
       "    .dataframe thead th {\n",
       "        text-align: right;\n",
       "    }\n",
       "</style>\n",
       "<table border=\"1\" class=\"dataframe\">\n",
       "  <thead>\n",
       "    <tr style=\"text-align: right;\">\n",
       "      <th></th>\n",
       "      <th>title</th>\n",
       "      <th>cloudcoverpercentage</th>\n",
       "    </tr>\n",
       "  </thead>\n",
       "  <tbody>\n",
       "    <tr>\n",
       "      <th>1</th>\n",
       "      <td>S2A_MSIL2A_20200617T101031_N0214_R022_T33UUU_2...</td>\n",
       "      <td>24.374344</td>\n",
       "    </tr>\n",
       "    <tr>\n",
       "      <th>3</th>\n",
       "      <td>S2B_MSIL2A_20200615T101559_N0214_R065_T33UUU_2...</td>\n",
       "      <td>3.626466</td>\n",
       "    </tr>\n",
       "    <tr>\n",
       "      <th>10</th>\n",
       "      <td>S2B_MSIL2A_20200602T100559_N0214_R022_T33UUU_2...</td>\n",
       "      <td>0.345483</td>\n",
       "    </tr>\n",
       "    <tr>\n",
       "      <th>11</th>\n",
       "      <td>S2A_MSIL2A_20200531T102031_N0214_R065_T33UUU_2...</td>\n",
       "      <td>16.512980</td>\n",
       "    </tr>\n",
       "  </tbody>\n",
       "</table>\n",
       "</div>"
      ],
      "text/plain": [
       "                                                title  cloudcoverpercentage\n",
       "1   S2A_MSIL2A_20200617T101031_N0214_R022_T33UUU_2...             24.374344\n",
       "3   S2B_MSIL2A_20200615T101559_N0214_R065_T33UUU_2...              3.626466\n",
       "10  S2B_MSIL2A_20200602T100559_N0214_R022_T33UUU_2...              0.345483\n",
       "11  S2A_MSIL2A_20200531T102031_N0214_R065_T33UUU_2...             16.512980"
      ]
     },
     "execution_count": 23,
     "metadata": {},
     "output_type": "execute_result"
    }
   ],
   "source": [
    "largest_intersections[['title', 'cloudcoverpercentage']]"
   ]
  },
  {
   "cell_type": "markdown",
   "metadata": {},
   "source": [
    "Let's download all of these `input/raster/true_color_image`.\n",
    "Repeated calls to `download` or `download_all` will skip the download process if a product has previously been downloaded."
   ]
  },
  {
   "cell_type": "code",
   "execution_count": 27,
   "metadata": {},
   "outputs": [],
   "source": [
    "from pathlib import Path\n",
    "from tqdm.notebook import tqdm\n",
    "\n",
    "dst_path = Path('input/raster/true_color_image')\n",
    "\n",
    "# we make sure to create the directory at dst_path so the notebook can run\n",
    "# without interruptions\n",
    "dst_path.mkdir(exist_ok=True, parents=True)"
   ]
  },
  {
   "cell_type": "code",
   "execution_count": null,
   "metadata": {},
   "outputs": [
    {
     "data": {
      "application/vnd.jupyter.widget-view+json": {
       "model_id": "2712654894614633a4ed79966cc800bf",
       "version_major": 2,
       "version_minor": 0
      },
      "text/plain": [
       "HBox(children=(HTML(value='Downloading'), FloatProgress(value=0.0, max=1176239030.0), HTML(value='')))"
      ]
     },
     "metadata": {},
     "output_type": "display_data"
    },
    {
     "data": {
      "application/vnd.jupyter.widget-view+json": {
       "model_id": "4b28f505606244e48130c39189b9aa7d",
       "version_major": 2,
       "version_minor": 0
      },
      "text/plain": [
       "HBox(children=(HTML(value='Downloading'), FloatProgress(value=0.0, max=854267363.0), HTML(value='')))"
      ]
     },
     "metadata": {},
     "output_type": "display_data"
    },
    {
     "name": "stdout",
     "output_type": "stream",
     "text": [
      "\n"
     ]
    },
    {
     "data": {
      "application/vnd.jupyter.widget-view+json": {
       "model_id": "84ddb85d0d9d40b58ae6154e36073314",
       "version_major": 2,
       "version_minor": 0
      },
      "text/plain": [
       "HBox(children=(HTML(value='MD5 checksumming'), FloatProgress(value=0.0, max=854267363.0), HTML(value='')))"
      ]
     },
     "metadata": {},
     "output_type": "display_data"
    },
    {
     "name": "stdout",
     "output_type": "stream",
     "text": [
      "\n"
     ]
    },
    {
     "data": {
      "application/vnd.jupyter.widget-view+json": {
       "model_id": "d70de65cc52a4557bec958255acd42b0",
       "version_major": 2,
       "version_minor": 0
      },
      "text/plain": [
       "HBox(children=(HTML(value='Downloading'), FloatProgress(value=0.0, max=862966648.0), HTML(value='')))"
      ]
     },
     "metadata": {},
     "output_type": "display_data"
    },
    {
     "name": "stdout",
     "output_type": "stream",
     "text": [
      "\n"
     ]
    },
    {
     "data": {
      "application/vnd.jupyter.widget-view+json": {
       "model_id": "08d8507b248d4048a0b7990a615a0955",
       "version_major": 2,
       "version_minor": 0
      },
      "text/plain": [
       "HBox(children=(HTML(value='MD5 checksumming'), FloatProgress(value=0.0, max=1176239030.0), HTML(value='')))"
      ]
     },
     "metadata": {},
     "output_type": "display_data"
    },
    {
     "name": "stdout",
     "output_type": "stream",
     "text": [
      "\n"
     ]
    },
    {
     "data": {
      "application/vnd.jupyter.widget-view+json": {
       "model_id": "ec9a2b1fef1d45b5b1e3c0b5d6284d54",
       "version_major": 2,
       "version_minor": 0
      },
      "text/plain": [
       "HBox(children=(HTML(value='Downloading'), FloatProgress(value=0.0, max=1162711104.0), HTML(value='')))"
      ]
     },
     "metadata": {},
     "output_type": "display_data"
    },
    {
     "name": "stdout",
     "output_type": "stream",
     "text": [
      "\n"
     ]
    },
    {
     "data": {
      "application/vnd.jupyter.widget-view+json": {
       "model_id": "539f9521e1c14922a147a71ae0efaa4d",
       "version_major": 2,
       "version_minor": 0
      },
      "text/plain": [
       "HBox(children=(HTML(value='MD5 checksumming'), FloatProgress(value=0.0, max=862966648.0), HTML(value='')))"
      ]
     },
     "metadata": {},
     "output_type": "display_data"
    },
    {
     "name": "stdout",
     "output_type": "stream",
     "text": [
      "\n",
      "\n"
     ]
    },
    {
     "data": {
      "application/vnd.jupyter.widget-view+json": {
       "model_id": "238249047d1544bd8253015d60f1bc65",
       "version_major": 2,
       "version_minor": 0
      },
      "text/plain": [
       "HBox(children=(HTML(value='MD5 checksumming'), FloatProgress(value=0.0, max=1162711104.0), HTML(value='')))"
      ]
     },
     "metadata": {},
     "output_type": "display_data"
    }
   ],
   "source": [
    "%%time\n",
    "api._tqdm = tqdm # ← monkey-patch for nicer progress bars\n",
    "downloads, _, _ = api.download_all(largest_intersections['uuid'].values, dst_path)\n",
    "downloads"
   ]
  },
  {
   "cell_type": "code",
   "execution_count": 23,
   "metadata": {},
   "outputs": [
    {
     "name": "stdout",
     "output_type": "stream",
     "text": [
      "Downloaded 0.00GB\n"
     ]
    }
   ],
   "source": [
    "downloaded_bytes_total = sum(p['downloaded_bytes'] for p in downloads.values())\n",
    "print(f'Downloaded {(downloaded_bytes_total / 1024 ** 3):.2f}GB')"
   ]
  },
  {
   "cell_type": "code",
   "execution_count": null,
   "metadata": {},
   "outputs": [],
   "source": []
  }
 ],
 "metadata": {
  "kernelspec": {
   "display_name": "Python 3",
   "language": "python",
   "name": "python3"
  },
  "language_info": {
   "codemirror_mode": {
    "name": "ipython",
    "version": 3
   },
   "file_extension": ".py",
   "mimetype": "text/x-python",
   "name": "python",
   "nbconvert_exporter": "python",
   "pygments_lexer": "ipython3",
   "version": "3.8.6"
  }
 },
 "nbformat": 4,
 "nbformat_minor": 4
}
