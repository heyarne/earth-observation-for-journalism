{
 "cells": [
  {
   "cell_type": "code",
   "execution_count": 1,
   "metadata": {},
   "outputs": [],
   "source": [
    "from pathlib import Path"
   ]
  },
  {
   "cell_type": "markdown",
   "metadata": {},
   "source": [
    "Before running this notebook the files have to be downloaded. See [01a Download from Scihub.ipynb](01a Download from Scihub.ipynb) for further information.\n",
    "\n",
    "The calculation in this notebook depends on three parameters:\n",
    "\n",
    "- `product_path` is the path to a previously downloaded product\n",
    "- `index_to_calculate` is one of the supported indices; these are 'ndvi'\n",
    "  - ndvi -- normalized difference in vegetation\n",
    "  - nbr -- normalized burn ratio\n",
    "  - bsi -- bare soil index\n",
    "- `fill_value`, the value which is used to represent invalid pixels to handle division by zero.\n",
    "\n",
    "Change the values below and select _Kernel → Restart and Run All Cells_ to re-evaluate all cells in this notebook.\n",
    "The path of the output file will be printed below the last cell."
   ]
  },
  {
   "cell_type": "code",
   "execution_count": 2,
   "metadata": {},
   "outputs": [],
   "source": [
    "downloads = ['input/forest_fires/S2A_MSIL2A_20190613T101031_N0212_R022_T33UUT_20190614T125329.zip',\n",
    " 'input/forest_fires/S2A_MSIL2A_20190603T101031_N0212_R022_T33UUT_20190603T114652.zip',\n",
    " 'input/forest_fires/S2A_MSIL2A_20190626T102031_N0212_R065_T33UUT_20190626T125319.zip']"
   ]
  },
  {
   "cell_type": "code",
   "execution_count": 3,
   "metadata": {},
   "outputs": [],
   "source": [
    "product_path = Path(downloads[1])\n",
    "index_to_calculate = 'nbr'"
   ]
  },
  {
   "cell_type": "markdown",
   "metadata": {},
   "source": [
    "## Preview of product\n",
    "\n",
    "Uncomment the following lines to plot a true-color image of the downloaded data:"
   ]
  },
  {
   "cell_type": "code",
   "execution_count": 4,
   "metadata": {},
   "outputs": [],
   "source": [
    "#from sentinel_helpers import scihub_band_paths\n",
    "#import rasterio.plot as rplot\n",
    "#\n",
    "#tci = scihub_band_paths(product_path, 'TCI', '60m')[0]\n",
    "#with r.open(tci) as src:\n",
    "#    rplot.show(src)"
   ]
  },
  {
   "cell_type": "markdown",
   "metadata": {},
   "source": [
    "## Define Formulas\n",
    "\n",
    "We define the formulas as data so we can substitute the bands with actual values later on and execute the operations when needed.\n",
    "We use a lisp-like language with prefix notation for this.\n",
    "\n",
    "### Operators\n",
    "\n",
    "Index calculations take the following form:\n",
    "\n",
    "$$\n",
    "NDVI = (B08 - B04) / (B08 + B04)\n",
    "$$\n",
    "\n",
    "This means they do pixel-wise operations on bands which we can express using numpy ndarrays.\n",
    "The ndarrays have overloaded operators, so for two arrays `array_a` and `array_b` with an identical shape `array_a + array_b` adds each cell in `array_a` with the corresponding cell in `array_b`.\n",
    "The exact behavior of numpy arrays in this regard is called [broadcasting](https://numpy.org/doc/stable/user/basics.broadcasting.html).\n",
    "\n",
    "We define the basic arithmetic operations `+`, `-`, `*` and `/` as functions taking variadic arguments:"
   ]
  },
  {
   "cell_type": "code",
   "execution_count": 5,
   "metadata": {},
   "outputs": [],
   "source": [
    "from functools import reduce\n",
    "\n",
    "def add(nums):\n",
    "    return reduce(lambda a, b: a + b, nums)\n",
    "\n",
    "def sub(nums):\n",
    "    return reduce(lambda a, b: a - b, nums)\n",
    "\n",
    "def div(nums):\n",
    "    return reduce(lambda a, b: a / b, nums)\n",
    "\n",
    "def mul(nums):\n",
    "    return reduce(lambda a, b: a * b, nums)"
   ]
  },
  {
   "cell_type": "markdown",
   "metadata": {},
   "source": [
    "### Indices"
   ]
  },
  {
   "cell_type": "markdown",
   "metadata": {},
   "source": [
    "This section contains the formula definitions for a selection of indices.\n",
    "These definitions are not exhaustive - there are many spectral indices which are not implemented in this notebook - however the general shape of this formula allows for enough flexibility to implement other indices as well.\n",
    "\n",
    "The formulas are defined in a lisp-like prefix notation: `(add, 1, 2, 3)` translates to `1 + 2 + 3`.\n",
    "Each element in a formula can be either a function, a string or a tuple.\n",
    "A string represents a band number, a function represents an arithmetic operation and a tuple allows us to express nested formulas.\n",
    "\n",
    "We first define some spectral indices using these basic elements:"
   ]
  },
  {
   "cell_type": "code",
   "execution_count": 6,
   "metadata": {},
   "outputs": [],
   "source": [
    "indices = {\n",
    "    # normalized difference in vegetation\n",
    "    'ndvi': (div, (sub, 'B08', 'B04'), (add, 'B08', 'B04')),\n",
    "    # normalized burn ratio\n",
    "    'nbr': (div, (sub, 'B08', 'B12'), (add, 'B08', 'B12')),\n",
    "    # bare soil index\n",
    "    'bsi': (div, (sub, (add, 'B11', 'B04'), (add, 'B08', 'B02')),\n",
    "                 (add, (add, 'B11', 'B04'), (add, 'B08', 'B02')))\n",
    "}"
   ]
  },
  {
   "cell_type": "markdown",
   "metadata": {},
   "source": [
    "… and verify that the `index_to_calculate` above has a matching implementation:"
   ]
  },
  {
   "cell_type": "code",
   "execution_count": 7,
   "metadata": {},
   "outputs": [],
   "source": [
    "supported_indices = ', '.join(indices.keys())\n",
    "assert index_to_calculate in supported_indices, f'Only the following indices are supported: {supported_indices}'"
   ]
  },
  {
   "cell_type": "markdown",
   "metadata": {},
   "source": [
    "### Resolving the Formulas\n",
    "\n",
    "We define a function that returns all of the bands referenced in a formula.\n",
    "This is necessary when resolving these references to data sets."
   ]
  },
  {
   "cell_type": "code",
   "execution_count": 8,
   "metadata": {},
   "outputs": [],
   "source": [
    "def get_bands(formula):\n",
    "    bands = set()\n",
    "    for element in formula:\n",
    "        if type(element) == tuple:\n",
    "            # recur for subformulas\n",
    "            for band in get_bands(element):\n",
    "                bands.add(band)\n",
    "        elif type(element) == str:\n",
    "            bands.add(element)\n",
    "    return bands"
   ]
  },
  {
   "cell_type": "markdown",
   "metadata": {},
   "source": [
    "The resolving process needs a `band_map` in the form of `band_num` → `numpy.array`:"
   ]
  },
  {
   "cell_type": "code",
   "execution_count": 9,
   "metadata": {},
   "outputs": [],
   "source": [
    "def evaluate_formula(band_map, formula):\n",
    "    op = formula[0]\n",
    "    args = []\n",
    "    for element in formula[1:]:\n",
    "        if type(element) == tuple:\n",
    "            # recur on sub-formula\n",
    "            args.append(evaluate_formula(band_map, element))\n",
    "        elif type(element) == str:\n",
    "            # substitute band number\n",
    "            args.append(band_map[element])\n",
    "        else:\n",
    "            # just append the number\n",
    "            args.append(element)\n",
    "    return op(args)"
   ]
  },
  {
   "cell_type": "markdown",
   "metadata": {},
   "source": [
    "We also define a function that makes working with the prefix notation a bit easier to avoid errors that can occur when translating the formulas:"
   ]
  },
  {
   "cell_type": "code",
   "execution_count": 10,
   "metadata": {},
   "outputs": [],
   "source": [
    "def prefix_to_infix_str(formula):\n",
    "    '''\n",
    "    Returns a human-readable string of the above data-based notation. Useful\n",
    "    for debugging.\n",
    "    '''\n",
    "    result = ['(']\n",
    "    \n",
    "    # operation\n",
    "    op = formula[0]\n",
    "    if op == add:\n",
    "        sym = ' + '\n",
    "    elif op == sub:\n",
    "        sym = ' - '\n",
    "    elif op == div:\n",
    "        sym = ' / '\n",
    "    elif op == mul:\n",
    "        sym = ' * '\n",
    "        \n",
    "    operands = formula[1:]\n",
    "    for idx, operand in enumerate(operands, start=1):\n",
    "        if type(operand) == tuple:\n",
    "            result.append(prefix_to_infix_str(operand))\n",
    "        else:\n",
    "            result.append(str(operand))\n",
    "        if idx < len(operands):\n",
    "            result.append(sym)\n",
    "        \n",
    "    result.append(')')\n",
    "    return ''.join(result)"
   ]
  },
  {
   "cell_type": "markdown",
   "metadata": {},
   "source": [
    "#### Small test"
   ]
  },
  {
   "cell_type": "code",
   "execution_count": 11,
   "metadata": {},
   "outputs": [],
   "source": [
    "formula = (add, *range(5), (mul, *range(1, 4))) # == (add, 0, 1, 2, 3, 4, (mul, 1, 2, 3))"
   ]
  },
  {
   "cell_type": "code",
   "execution_count": 12,
   "metadata": {},
   "outputs": [
    {
     "data": {
      "text/plain": [
       "'(0 + 1 + 2 + 3 + 4 + (1 * 2 * 3))'"
      ]
     },
     "execution_count": 12,
     "metadata": {},
     "output_type": "execute_result"
    }
   ],
   "source": [
    "prefix_to_infix_str(formula)"
   ]
  },
  {
   "cell_type": "code",
   "execution_count": 13,
   "metadata": {},
   "outputs": [
    {
     "data": {
      "text/plain": [
       "16"
      ]
     },
     "execution_count": 13,
     "metadata": {},
     "output_type": "execute_result"
    }
   ],
   "source": [
    "evaluate_formula({}, formula)"
   ]
  },
  {
   "cell_type": "markdown",
   "metadata": {},
   "source": [
    "## Extraction of relevant band file paths\n",
    "\n",
    "We start by extracting the information which bands are referenced by the index formula given by `index_to_calculate`:"
   ]
  },
  {
   "cell_type": "code",
   "execution_count": 14,
   "metadata": {},
   "outputs": [
    {
     "data": {
      "text/plain": [
       "['B12', 'B08']"
      ]
     },
     "execution_count": 14,
     "metadata": {},
     "output_type": "execute_result"
    }
   ],
   "source": [
    "bands = get_bands(indices[index_to_calculate])\n",
    "bands = list(bands)\n",
    "bands"
   ]
  },
  {
   "cell_type": "markdown",
   "metadata": {},
   "source": [
    "## Resampling\n",
    "\n",
    "Some bands are not available in all resolutions.\n",
    "\n",
    "The band `B08` is available only at 10m and the band `B12` only at 20m:"
   ]
  },
  {
   "cell_type": "code",
   "execution_count": 15,
   "metadata": {},
   "outputs": [
    {
     "data": {
      "text/plain": [
       "['zip+file://input/forest_fires/S2A_MSIL2A_20190603T101031_N0212_R022_T33UUT_20190603T114652.zip!/S2A_MSIL2A_20190603T101031_N0212_R022_T33UUT_20190603T114652.SAFE/GRANULE/L2A_T33UUT_A020611_20190603T101041/IMG_DATA/R10m/T33UUT_20190603T101031_B08_10m.jp2',\n",
       " 'zip+file://input/forest_fires/S2A_MSIL2A_20190603T101031_N0212_R022_T33UUT_20190603T114652.zip!/S2A_MSIL2A_20190603T101031_N0212_R022_T33UUT_20190603T114652.SAFE/GRANULE/L2A_T33UUT_A020611_20190603T101041/IMG_DATA/R20m/T33UUT_20190603T101031_B12_20m.jp2',\n",
       " 'zip+file://input/forest_fires/S2A_MSIL2A_20190603T101031_N0212_R022_T33UUT_20190603T114652.zip!/S2A_MSIL2A_20190603T101031_N0212_R022_T33UUT_20190603T114652.SAFE/GRANULE/L2A_T33UUT_A020611_20190603T101041/IMG_DATA/R60m/T33UUT_20190603T101031_B12_60m.jp2']"
      ]
     },
     "execution_count": 15,
     "metadata": {},
     "output_type": "execute_result"
    }
   ],
   "source": [
    "from sentinel_helpers import scihub_band_paths\n",
    "band_paths = list(sorted(scihub_band_paths(product_path, bands)))\n",
    "band_paths"
   ]
  },
  {
   "cell_type": "markdown",
   "metadata": {},
   "source": [
    "This can be solved by upsampling the lower bands to the highest available resolution.\n",
    "First we discard duplicate bands which are already available in higher resolution:"
   ]
  },
  {
   "cell_type": "code",
   "execution_count": 16,
   "metadata": {},
   "outputs": [
    {
     "data": {
      "text/plain": [
       "['zip+file://input/forest_fires/S2A_MSIL2A_20190603T101031_N0212_R022_T33UUT_20190603T114652.zip!/S2A_MSIL2A_20190603T101031_N0212_R022_T33UUT_20190603T114652.SAFE/GRANULE/L2A_T33UUT_A020611_20190603T101041/IMG_DATA/R10m/T33UUT_20190603T101031_B08_10m.jp2',\n",
       " 'zip+file://input/forest_fires/S2A_MSIL2A_20190603T101031_N0212_R022_T33UUT_20190603T114652.zip!/S2A_MSIL2A_20190603T101031_N0212_R022_T33UUT_20190603T114652.SAFE/GRANULE/L2A_T33UUT_A020611_20190603T101041/IMG_DATA/R20m/T33UUT_20190603T101031_B12_20m.jp2']"
      ]
     },
     "execution_count": 16,
     "metadata": {},
     "output_type": "execute_result"
    }
   ],
   "source": [
    "highest_resolution_band_paths = []\n",
    "covered_bands = set()\n",
    "for band in band_paths:\n",
    "    band_num = band.split('_')[-2]\n",
    "    if band_num in covered_bands:\n",
    "        continue\n",
    "    else:\n",
    "        highest_resolution_band_paths.append(band)\n",
    "        covered_bands.add(band_num)\n",
    "highest_resolution_band_paths"
   ]
  },
  {
   "cell_type": "code",
   "execution_count": 17,
   "metadata": {},
   "outputs": [],
   "source": [
    "def resolution(band_path):\n",
    "    '''\n",
    "    Return the resolution encoded in a raster file's path.\n",
    "    '''\n",
    "    return int(band_path.split('_')[-1].split('.')[0].replace('m', ''))"
   ]
  },
  {
   "cell_type": "markdown",
   "metadata": {},
   "source": [
    "The target resolution is given by the raster with the highest resolution. "
   ]
  },
  {
   "cell_type": "code",
   "execution_count": 18,
   "metadata": {},
   "outputs": [
    {
     "data": {
      "text/plain": [
       "10"
      ]
     },
     "execution_count": 18,
     "metadata": {},
     "output_type": "execute_result"
    }
   ],
   "source": [
    "target_resolution = list(sorted(resolution(band) for band in highest_resolution_band_paths))[0]\n",
    "target_resolution"
   ]
  },
  {
   "cell_type": "markdown",
   "metadata": {},
   "source": [
    "## Generate the raster cloud mask\n",
    "\n",
    "Spectral indices can get distorted by highly reflective clouds.\n",
    "These clouds need to be excluded.\n",
    "\n",
    "In order to construct a cloud mask that we can operate on, we need to know the transformation needed from the coordinates given by the raster's coordinate reference system to the pixel coordinates of the highest resolution raster.\n",
    "\n",
    "These are encoded as metadata in the raster file:"
   ]
  },
  {
   "cell_type": "code",
   "execution_count": 19,
   "metadata": {},
   "outputs": [
    {
     "data": {
      "text/plain": [
       "'zip+file://input/forest_fires/S2A_MSIL2A_20190603T101031_N0212_R022_T33UUT_20190603T114652.zip!/S2A_MSIL2A_20190603T101031_N0212_R022_T33UUT_20190603T114652.SAFE/GRANULE/L2A_T33UUT_A020611_20190603T101041/IMG_DATA/R10m/T33UUT_20190603T101031_B08_10m.jp2'"
      ]
     },
     "execution_count": 19,
     "metadata": {},
     "output_type": "execute_result"
    }
   ],
   "source": [
    "from sentinel_helpers import scihub_cloud_mask\n",
    "import rasterio as r\n",
    "import matplotlib.pyplot as pplt\n",
    "\n",
    "highres_raster_path = [band_path for band_path in highest_resolution_band_paths if resolution(band_path) == target_resolution][0]\n",
    "highres_raster_path"
   ]
  },
  {
   "cell_type": "code",
   "execution_count": 20,
   "metadata": {},
   "outputs": [
    {
     "data": {
      "text/plain": [
       "((10980, 10980),\n",
       " Affine(10.0, 0.0, 300000.0,\n",
       "        0.0, -10.0, 5800020.0))"
      ]
     },
     "execution_count": 20,
     "metadata": {},
     "output_type": "execute_result"
    }
   ],
   "source": [
    "with r.open(highres_raster_path) as src:\n",
    "    target_transform = src.transform\n",
    "    target_shape = src.shape\n",
    "\n",
    "target_shape, target_transform"
   ]
  },
  {
   "cell_type": "code",
   "execution_count": 21,
   "metadata": {},
   "outputs": [
    {
     "data": {
      "text/plain": [
       "<matplotlib.image.AxesImage at 0x7fee81f18190>"
      ]
     },
     "execution_count": 21,
     "metadata": {},
     "output_type": "execute_result"
    },
    {
     "data": {
      "image/png": "[encoded data removed]",
      "text/plain": [
       "<Figure size 432x288 with 1 Axes>"
      ]
     },
     "metadata": {
      "needs_background": "light"
     },
     "output_type": "display_data"
    }
   ],
   "source": [
    "# pixels with clouds are True, pixels without are False\n",
    "raster_cloud_mask = scihub_cloud_mask(product_path,\n",
    "                                      rasterize=True,\n",
    "                                      target_shape=target_shape,\n",
    "                                      target_transform=target_transform)\n",
    "\n",
    "pplt.imshow(raster_cloud_mask)"
   ]
  },
  {
   "cell_type": "markdown",
   "metadata": {},
   "source": [
    "## Calculate the index"
   ]
  },
  {
   "cell_type": "code",
   "execution_count": 22,
   "metadata": {},
   "outputs": [],
   "source": [
    "import numpy as np\n",
    "import numpy.ma as ma\n",
    "\n",
    "from rasterio.enums import Resampling\n",
    "import rasterio.plot as rplt\n",
    "\n",
    "from sentinel_helpers import RasterReaderList, scihub_cloud_mask, scihub_normalize_range\n",
    "from tqdm.notebook import tqdm\n",
    "\n",
    "from tempfile import NamedTemporaryFile\n",
    "\n",
    "out_dir = Path('output/spectral_indices/')\n",
    "out_dir.mkdir(exist_ok=True, parents=True)"
   ]
  },
  {
   "cell_type": "code",
   "execution_count": 23,
   "metadata": {},
   "outputs": [
    {
     "data": {
      "image/png": "[encoded data removed]",
      "text/plain": [
       "<Figure size 432x288 with 1 Axes>"
      ]
     },
     "metadata": {
      "needs_background": "light"
     },
     "output_type": "display_data"
    }
   ],
   "source": [
    "with r.open(highest_resolution_band_paths[0]) as src:\n",
    "    data = src.read(1)\n",
    "    rplt.show(src)"
   ]
  },
  {
   "cell_type": "code",
   "execution_count": 24,
   "metadata": {},
   "outputs": [
    {
     "data": {
      "text/plain": [
       "0.007747626915637307"
      ]
     },
     "execution_count": 24,
     "metadata": {},
     "output_type": "execute_result"
    }
   ],
   "source": [
    "(data & raster_cloud_mask).mean()"
   ]
  },
  {
   "cell_type": "code",
   "execution_count": null,
   "metadata": {},
   "outputs": [
    {
     "data": {
      "application/vnd.jupyter.widget-view+json": {
       "model_id": "ef5d3e0206384ecb9dc60dd3712cfa2d",
       "version_major": 2,
       "version_minor": 0
      },
      "text/plain": [
       "HBox(children=(HTML(value='Resampling datasets'), FloatProgress(value=0.0, max=2.0), HTML(value='')))"
      ]
     },
     "metadata": {},
     "output_type": "display_data"
    }
   ],
   "source": [
    "%%time\n",
    "\n",
    "with RasterReaderList(highest_resolution_band_paths) as readers:\n",
    "    # build the band_map as described above and scale up where needed\n",
    "    band_map = {}\n",
    "    for reader in tqdm(readers, desc='Resampling datasets'):\n",
    "        band_num = reader.name.split('_')[-2]\n",
    "        data_resolution = resolution(reader.name)\n",
    "        scale_factor = int(data_resolution / target_resolution)\n",
    "        out_shape = (\n",
    "            int(reader.height * scale_factor),\n",
    "            int(reader.width * scale_factor)\n",
    "        )\n",
    "        \n",
    "        band_map[band_num] = (np.clip(\n",
    "            # we read only the first band to obtain a two-dimensional ndarray\n",
    "            reader.read(1, out_shape=out_shape, resampling=Resampling.bilinear, masked=True),\n",
    "        0, 10000) / 10000).astype('float32')\n",
    "        \n",
    "        if scale_factor == 1:\n",
    "            out_name = Path(reader.name).name.replace(band_num, index_to_calculate.upper())\n",
    "            out_name = out_name.replace('.jp2', '.tif')\n",
    "            out_path = out_dir / out_name\n",
    "            out_meta = reader.meta.copy()\n",
    "    \n",
    "    # ignore numpy division errors (i.e. divide by 0) in this context;\n",
    "    # divide by zero results in `nan`, which we fill with zeros. clouds are\n",
    "    # masked using the raster_cloud_mask created above\n",
    "    with np.errstate(divide='ignore', invalid='ignore'):\n",
    "        index = evaluate_formula(band_map, indices[index_to_calculate])\n",
    "        # we need to invert the cloud mask (`~`) because we want to hide those pixels that are cloudy\n",
    "        tile_mask = ~raster_cloud_mask | index.mask\n",
    "        index = ma.masked_array(index, tile_mask)\n",
    "    \n",
    "    out_meta.update({\n",
    "        'count': 1,\n",
    "        'driver': 'GTiff',\n",
    "        'dtype': 'float32'\n",
    "    })\n",
    "    \n",
    "    with r.open(out_path, 'w+', **out_meta) as dst:\n",
    "        dst.write(index.data, 1)\n",
    "        # note that the mask we write has an inverted interpretation of \n",
    "        # True / False due to the `.msk` file format\n",
    "        dst.write_mask(~index.mask)\n",
    "        print(f'Wrote result to {out_path}')"
   ]
  },
  {
   "cell_type": "code",
   "execution_count": null,
   "metadata": {},
   "outputs": [],
   "source": [
    "# to debug the cloud / tile mask, uncomment these lines\n",
    "# pplt.imshow(tile_mask)"
   ]
  },
  {
   "cell_type": "code",
   "execution_count": null,
   "metadata": {},
   "outputs": [],
   "source": [
    "with r.open(out_path, 'r') as src:\n",
    "    rplt.show(src)"
   ]
  },
  {
   "cell_type": "code",
   "execution_count": null,
   "metadata": {},
   "outputs": [],
   "source": [
    "# writing the mask explicitly works:\n",
    "# dst.write(index.data, 1)\n",
    "# dst.write_mask(~index.mask)"
   ]
  }
 ],
 "metadata": {
  "kernelspec": {
   "display_name": "Python 3",
   "language": "python",
   "name": "python3"
  },
  "language_info": {
   "codemirror_mode": {
    "name": "ipython",
    "version": 3
   },
   "file_extension": ".py",
   "mimetype": "text/x-python",
   "name": "python",
   "nbconvert_exporter": "python",
   "pygments_lexer": "ipython3",
   "version": "3.8.6"
  }
 },
 "nbformat": 4,
 "nbformat_minor": 4
}
