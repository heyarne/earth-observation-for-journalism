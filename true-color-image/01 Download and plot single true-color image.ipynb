{
 "cells": [
  {
   "cell_type": "markdown",
   "metadata": {},
   "source": [
    "# Rendering a Single Recent True-Color Mosaic\n",
    "\n",
    "Use the variables below to configure the pipeline output:"
   ]
  },
  {
   "cell_type": "code",
   "execution_count": 1,
   "metadata": {},
   "outputs": [],
   "source": [
    "from datetime import date, timedelta"
   ]
  },
  {
   "cell_type": "code",
   "execution_count": 2,
   "metadata": {},
   "outputs": [],
   "source": [
    "# the area you want to create a true color image from; will be the first area returned from nominatim.openstreetmap.com\n",
    "region_of_interest = 'Berlin, Germany'\n",
    "# start and end of the time span from which to select satellite data\n",
    "start_date = date(2020, 7, 1)\n",
    "end_date = start_date + timedelta(days=31)\n",
    "# maximum amount of cloud coverage of a single product in order to be considered for the mosaic\n",
    "max_cloud_cover = 30\n",
    "# coordinate reference system of the final image\n",
    "target_crs = 'EPSG:25833'\n",
    "# should the pixels outside of the region of interest be discarded?\n",
    "discard_exterior_pixels = False"
   ]
  },
  {
   "cell_type": "markdown",
   "metadata": {},
   "source": [
    "## Pipeline\n",
    "\n",
    "All of the code below should not need to be changed."
   ]
  },
  {
   "cell_type": "code",
   "execution_count": 3,
   "metadata": {},
   "outputs": [],
   "source": [
    "from sentinelsat import SentinelAPI\n",
    "from sentinel_helpers import search_osm, plot_all\n",
    "import datetime\n",
    "import os"
   ]
  },
  {
   "cell_type": "code",
   "execution_count": 4,
   "metadata": {},
   "outputs": [],
   "source": [
    "api = SentinelAPI(os.getenv('SCIHUB_USERNAME'), os.getenv('SCIHUB_PASSWORD'))"
   ]
  },
  {
   "cell_type": "code",
   "execution_count": 5,
   "metadata": {},
   "outputs": [
    {
     "data": {
      "text/html": [
       "<div>\n",
       "<style scoped>\n",
       "    .dataframe tbody tr th:only-of-type {\n",
       "        vertical-align: middle;\n",
       "    }\n",
       "\n",
       "    .dataframe tbody tr th {\n",
       "        vertical-align: top;\n",
       "    }\n",
       "\n",
       "    .dataframe thead th {\n",
       "        text-align: right;\n",
       "    }\n",
       "</style>\n",
       "<table border=\"1\" class=\"dataframe\">\n",
       "  <thead>\n",
       "    <tr style=\"text-align: right;\">\n",
       "      <th></th>\n",
       "      <th>place_id</th>\n",
       "      <th>osm_type</th>\n",
       "      <th>osm_id</th>\n",
       "      <th>display_name</th>\n",
       "      <th>place_rank</th>\n",
       "      <th>category</th>\n",
       "      <th>type</th>\n",
       "      <th>importance</th>\n",
       "      <th>icon</th>\n",
       "      <th>geometry</th>\n",
       "    </tr>\n",
       "  </thead>\n",
       "  <tbody>\n",
       "    <tr>\n",
       "      <th>1</th>\n",
       "      <td>256375666</td>\n",
       "      <td>relation</td>\n",
       "      <td>62422</td>\n",
       "      <td>Berlin, Deutschland</td>\n",
       "      <td>8</td>\n",
       "      <td>boundary</td>\n",
       "      <td>administrative</td>\n",
       "      <td>0.897539</td>\n",
       "      <td>https://nominatim.openstreetmap.org/ui/mapicon...</td>\n",
       "      <td>MULTIPOLYGON (((13.08835 52.41963, 13.09021 52...</td>\n",
       "    </tr>\n",
       "  </tbody>\n",
       "</table>\n",
       "</div>"
      ],
      "text/plain": [
       "    place_id  osm_type  osm_id         display_name  place_rank  category  \\\n",
       "1  256375666  relation   62422  Berlin, Deutschland           8  boundary   \n",
       "\n",
       "             type  importance  \\\n",
       "1  administrative    0.897539   \n",
       "\n",
       "                                                icon  \\\n",
       "1  https://nominatim.openstreetmap.org/ui/mapicon...   \n",
       "\n",
       "                                            geometry  \n",
       "1  MULTIPOLYGON (((13.08835 52.41963, 13.09021 52...  "
      ]
     },
     "execution_count": 5,
     "metadata": {},
     "output_type": "execute_result"
    }
   ],
   "source": [
    "footprint = search_osm(region_of_interest)\n",
    "footprint = footprint[footprint['osm_type'] == 'relation'].iloc[:1]\n",
    "footprint"
   ]
  },
  {
   "cell_type": "code",
   "execution_count": 6,
   "metadata": {},
   "outputs": [],
   "source": [
    "convex_hull = footprint.iloc[0]['geometry'].convex_hull.wkt\n",
    "products = api.query(convex_hull,\n",
    "                     platformname='Sentinel-2',\n",
    "                     processinglevel='Level-2A',\n",
    "                     date=(start_date, end_date),\n",
    "                     cloudcoverpercentage=(0, max_cloud_cover))"
   ]
  },
  {
   "cell_type": "markdown",
   "metadata": {},
   "source": [
    "How many results do we have?"
   ]
  },
  {
   "cell_type": "code",
   "execution_count": 7,
   "metadata": {},
   "outputs": [
    {
     "name": "stdout",
     "output_type": "stream",
     "text": [
      "Found 5 results\n"
     ]
    }
   ],
   "source": [
    "print('Found ' + str(len(products)) + ' results')"
   ]
  },
  {
   "cell_type": "markdown",
   "metadata": {},
   "source": [
    "`products` is a map of product UUID to detailed meta information for each product. This meta information contains scene classification image and more, all if which we can use to further narrow down the products as needed."
   ]
  },
  {
   "cell_type": "code",
   "execution_count": 8,
   "metadata": {},
   "outputs": [
    {
     "name": "stderr",
     "output_type": "stream",
     "text": [
      "/opt/conda/lib/python3.8/site-packages/pyproj/crs/crs.py:53: FutureWarning: '+init=<authority>:<code>' syntax is deprecated. '<authority>:<code>' is the preferred initialization method. When making the change, be mindful of axis order changes: https://pyproj4.github.io/pyproj/stable/gotchas.html#axis-order-changes-in-proj-6\n",
      "  return _prepare_from_string(\" \".join(pjargs))\n"
     ]
    },
    {
     "data": {
      "image/png": "[encoded data removed]",
      "text/plain": [
       "<Figure size 1152x648 with 1 Axes>"
      ]
     },
     "metadata": {
      "needs_background": "light"
     },
     "output_type": "display_data"
    }
   ],
   "source": [
    "gdf = api.to_geodataframe(products)\n",
    "plot_all([gdf, footprint],\n",
    "        [{'color': 'none', 'edgecolor': 'blue', 'alpha': 0.1, 'figsize': (16, 9)},\n",
    "          {'color': 'none', 'edgecolor': 'red'}])"
   ]
  },
  {
   "cell_type": "markdown",
   "metadata": {},
   "source": [
    "We want to select the least cloudy products"
   ]
  },
  {
   "cell_type": "code",
   "execution_count": 9,
   "metadata": {},
   "outputs": [],
   "source": [
    "from tqdm.notebook import tqdm\n",
    "from sentinel_helpers import scihub_product_ids"
   ]
  },
  {
   "cell_type": "code",
   "execution_count": 10,
   "metadata": {},
   "outputs": [],
   "source": [
    "gdf = gdf.sort_values(by='cloudcoverpercentage', ascending=False)"
   ]
  },
  {
   "cell_type": "code",
   "execution_count": 11,
   "metadata": {},
   "outputs": [
    {
     "data": {
      "application/vnd.jupyter.widget-view+json": {
       "model_id": "3c660859c7bf4703980f41d7ae6439c5",
       "version_major": 2,
       "version_minor": 0
      },
      "text/plain": [
       "HBox(children=(HTML(value=''), FloatProgress(value=0.0, max=5.0), HTML(value='')))"
      ]
     },
     "metadata": {},
     "output_type": "display_data"
    },
    {
     "name": "stdout",
     "output_type": "stream",
     "text": [
      "\n"
     ]
    }
   ],
   "source": [
    "geometry = footprint.iloc[0].geometry\n",
    "for idx, product in tqdm(gdf.iterrows(), total=len(gdf)):\n",
    "    union = gdf.loc[:idx].unary_union\n",
    "    if union.contains(geometry):\n",
    "        break"
   ]
  },
  {
   "cell_type": "markdown",
   "metadata": {},
   "source": [
    "Note that due to the structure of the loop above, the `tqdm` progress bar will display a number of completed loops that is one less than the number of products included."
   ]
  },
  {
   "cell_type": "code",
   "execution_count": 12,
   "metadata": {},
   "outputs": [
    {
     "data": {
      "image/png": "[encoded data removed]",
      "text/plain": [
       "<Figure size 432x288 with 1 Axes>"
      ]
     },
     "metadata": {
      "needs_background": "light"
     },
     "output_type": "display_data"
    }
   ],
   "source": [
    "plot_all([gdf.loc[:idx], footprint],\n",
    "        [{'facecolor': 'none', 'edgecolor': 'blue', 'alpha': 0.1},\n",
    "        {'facecolor': 'none', 'edgecolor': 'red'}])"
   ]
  },
  {
   "cell_type": "markdown",
   "metadata": {},
   "source": [
    "Below you can find the products we use to plot the resulting raster file. You can use the table to find out information about the exact capture time."
   ]
  },
  {
   "cell_type": "code",
   "execution_count": 13,
   "metadata": {},
   "outputs": [
    {
     "data": {
      "text/html": [
       "<div>\n",
       "<style scoped>\n",
       "    .dataframe tbody tr th:only-of-type {\n",
       "        vertical-align: middle;\n",
       "    }\n",
       "\n",
       "    .dataframe tbody tr th {\n",
       "        vertical-align: top;\n",
       "    }\n",
       "\n",
       "    .dataframe thead th {\n",
       "        text-align: right;\n",
       "    }\n",
       "</style>\n",
       "<table border=\"1\" class=\"dataframe\">\n",
       "  <thead>\n",
       "    <tr style=\"text-align: right;\">\n",
       "      <th></th>\n",
       "      <th>title</th>\n",
       "      <th>link</th>\n",
       "      <th>link_alternative</th>\n",
       "      <th>link_icon</th>\n",
       "      <th>summary</th>\n",
       "      <th>ondemand</th>\n",
       "      <th>beginposition</th>\n",
       "      <th>endposition</th>\n",
       "      <th>ingestiondate</th>\n",
       "      <th>orbitnumber</th>\n",
       "      <th>...</th>\n",
       "      <th>size</th>\n",
       "      <th>s2datatakeid</th>\n",
       "      <th>producttype</th>\n",
       "      <th>platformidentifier</th>\n",
       "      <th>orbitdirection</th>\n",
       "      <th>platformserialidentifier</th>\n",
       "      <th>processinglevel</th>\n",
       "      <th>identifier</th>\n",
       "      <th>uuid</th>\n",
       "      <th>geometry</th>\n",
       "    </tr>\n",
       "  </thead>\n",
       "  <tbody>\n",
       "    <tr>\n",
       "      <th>09ca3647-d666-45b8-afab-609dcfd5daf9</th>\n",
       "      <td>S2A_MSIL2A_20200730T102031_N0214_R065_T33UVU_2...</td>\n",
       "      <td>https://scihub.copernicus.eu/apihub/odata/v1/P...</td>\n",
       "      <td>https://scihub.copernicus.eu/apihub/odata/v1/P...</td>\n",
       "      <td>https://scihub.copernicus.eu/apihub/odata/v1/P...</td>\n",
       "      <td>Date: 2020-07-30T10:20:31.024Z, Instrument: MS...</td>\n",
       "      <td>false</td>\n",
       "      <td>2020-07-30 10:20:31.024</td>\n",
       "      <td>2020-07-30 10:20:31.024</td>\n",
       "      <td>2020-07-30 13:31:57.387</td>\n",
       "      <td>26660</td>\n",
       "      <td>...</td>\n",
       "      <td>808.40 MB</td>\n",
       "      <td>GS2A_20200730T102031_026660_N02.14</td>\n",
       "      <td>S2MSI2A</td>\n",
       "      <td>2015-028A</td>\n",
       "      <td>DESCENDING</td>\n",
       "      <td>Sentinel-2A</td>\n",
       "      <td>Level-2A</td>\n",
       "      <td>S2A_MSIL2A_20200730T102031_N0214_R065_T33UVU_2...</td>\n",
       "      <td>09ca3647-d666-45b8-afab-609dcfd5daf9</td>\n",
       "      <td>MULTIPOLYGON (((13.53443 52.25345, 14.36238 52...</td>\n",
       "    </tr>\n",
       "    <tr>\n",
       "      <th>523a8204-74b6-4acc-a5b2-33fb367249a1</th>\n",
       "      <td>S2A_MSIL2A_20200730T102031_N0214_R065_T33UUU_2...</td>\n",
       "      <td>https://scihub.copernicus.eu/apihub/odata/v1/P...</td>\n",
       "      <td>https://scihub.copernicus.eu/apihub/odata/v1/P...</td>\n",
       "      <td>https://scihub.copernicus.eu/apihub/odata/v1/P...</td>\n",
       "      <td>Date: 2020-07-30T10:20:31.024Z, Instrument: MS...</td>\n",
       "      <td>false</td>\n",
       "      <td>2020-07-30 10:20:31.024</td>\n",
       "      <td>2020-07-30 10:20:31.024</td>\n",
       "      <td>2020-07-30 13:31:02.101</td>\n",
       "      <td>26660</td>\n",
       "      <td>...</td>\n",
       "      <td>1.08 GB</td>\n",
       "      <td>GS2A_20200730T102031_026660_N02.14</td>\n",
       "      <td>S2MSI2A</td>\n",
       "      <td>2015-028A</td>\n",
       "      <td>DESCENDING</td>\n",
       "      <td>Sentinel-2A</td>\n",
       "      <td>Level-2A</td>\n",
       "      <td>S2A_MSIL2A_20200730T102031_N0214_R065_T33UUU_2...</td>\n",
       "      <td>523a8204-74b6-4acc-a5b2-33fb367249a1</td>\n",
       "      <td>MULTIPOLYGON (((12.07160 52.22621, 13.67854 52...</td>\n",
       "    </tr>\n",
       "  </tbody>\n",
       "</table>\n",
       "<p>2 rows × 36 columns</p>\n",
       "</div>"
      ],
      "text/plain": [
       "                                                                                  title  \\\n",
       "09ca3647-d666-45b8-afab-609dcfd5daf9  S2A_MSIL2A_20200730T102031_N0214_R065_T33UVU_2...   \n",
       "523a8204-74b6-4acc-a5b2-33fb367249a1  S2A_MSIL2A_20200730T102031_N0214_R065_T33UUU_2...   \n",
       "\n",
       "                                                                                   link  \\\n",
       "09ca3647-d666-45b8-afab-609dcfd5daf9  https://scihub.copernicus.eu/apihub/odata/v1/P...   \n",
       "523a8204-74b6-4acc-a5b2-33fb367249a1  https://scihub.copernicus.eu/apihub/odata/v1/P...   \n",
       "\n",
       "                                                                       link_alternative  \\\n",
       "09ca3647-d666-45b8-afab-609dcfd5daf9  https://scihub.copernicus.eu/apihub/odata/v1/P...   \n",
       "523a8204-74b6-4acc-a5b2-33fb367249a1  https://scihub.copernicus.eu/apihub/odata/v1/P...   \n",
       "\n",
       "                                                                              link_icon  \\\n",
       "09ca3647-d666-45b8-afab-609dcfd5daf9  https://scihub.copernicus.eu/apihub/odata/v1/P...   \n",
       "523a8204-74b6-4acc-a5b2-33fb367249a1  https://scihub.copernicus.eu/apihub/odata/v1/P...   \n",
       "\n",
       "                                                                                summary  \\\n",
       "09ca3647-d666-45b8-afab-609dcfd5daf9  Date: 2020-07-30T10:20:31.024Z, Instrument: MS...   \n",
       "523a8204-74b6-4acc-a5b2-33fb367249a1  Date: 2020-07-30T10:20:31.024Z, Instrument: MS...   \n",
       "\n",
       "                                     ondemand           beginposition  \\\n",
       "09ca3647-d666-45b8-afab-609dcfd5daf9    false 2020-07-30 10:20:31.024   \n",
       "523a8204-74b6-4acc-a5b2-33fb367249a1    false 2020-07-30 10:20:31.024   \n",
       "\n",
       "                                                 endposition  \\\n",
       "09ca3647-d666-45b8-afab-609dcfd5daf9 2020-07-30 10:20:31.024   \n",
       "523a8204-74b6-4acc-a5b2-33fb367249a1 2020-07-30 10:20:31.024   \n",
       "\n",
       "                                               ingestiondate  orbitnumber  \\\n",
       "09ca3647-d666-45b8-afab-609dcfd5daf9 2020-07-30 13:31:57.387        26660   \n",
       "523a8204-74b6-4acc-a5b2-33fb367249a1 2020-07-30 13:31:02.101        26660   \n",
       "\n",
       "                                      ...       size  \\\n",
       "09ca3647-d666-45b8-afab-609dcfd5daf9  ...  808.40 MB   \n",
       "523a8204-74b6-4acc-a5b2-33fb367249a1  ...    1.08 GB   \n",
       "\n",
       "                                                            s2datatakeid  \\\n",
       "09ca3647-d666-45b8-afab-609dcfd5daf9  GS2A_20200730T102031_026660_N02.14   \n",
       "523a8204-74b6-4acc-a5b2-33fb367249a1  GS2A_20200730T102031_026660_N02.14   \n",
       "\n",
       "                                      producttype  platformidentifier  \\\n",
       "09ca3647-d666-45b8-afab-609dcfd5daf9      S2MSI2A           2015-028A   \n",
       "523a8204-74b6-4acc-a5b2-33fb367249a1      S2MSI2A           2015-028A   \n",
       "\n",
       "                                      orbitdirection  \\\n",
       "09ca3647-d666-45b8-afab-609dcfd5daf9      DESCENDING   \n",
       "523a8204-74b6-4acc-a5b2-33fb367249a1      DESCENDING   \n",
       "\n",
       "                                      platformserialidentifier  \\\n",
       "09ca3647-d666-45b8-afab-609dcfd5daf9               Sentinel-2A   \n",
       "523a8204-74b6-4acc-a5b2-33fb367249a1               Sentinel-2A   \n",
       "\n",
       "                                      processinglevel  \\\n",
       "09ca3647-d666-45b8-afab-609dcfd5daf9         Level-2A   \n",
       "523a8204-74b6-4acc-a5b2-33fb367249a1         Level-2A   \n",
       "\n",
       "                                                                             identifier  \\\n",
       "09ca3647-d666-45b8-afab-609dcfd5daf9  S2A_MSIL2A_20200730T102031_N0214_R065_T33UVU_2...   \n",
       "523a8204-74b6-4acc-a5b2-33fb367249a1  S2A_MSIL2A_20200730T102031_N0214_R065_T33UUU_2...   \n",
       "\n",
       "                                                                      uuid  \\\n",
       "09ca3647-d666-45b8-afab-609dcfd5daf9  09ca3647-d666-45b8-afab-609dcfd5daf9   \n",
       "523a8204-74b6-4acc-a5b2-33fb367249a1  523a8204-74b6-4acc-a5b2-33fb367249a1   \n",
       "\n",
       "                                                                               geometry  \n",
       "09ca3647-d666-45b8-afab-609dcfd5daf9  MULTIPOLYGON (((13.53443 52.25345, 14.36238 52...  \n",
       "523a8204-74b6-4acc-a5b2-33fb367249a1  MULTIPOLYGON (((12.07160 52.22621, 13.67854 52...  \n",
       "\n",
       "[2 rows x 36 columns]"
      ]
     },
     "execution_count": 13,
     "metadata": {},
     "output_type": "execute_result"
    }
   ],
   "source": [
    "gdf.loc[:idx]"
   ]
  },
  {
   "cell_type": "code",
   "execution_count": 14,
   "metadata": {},
   "outputs": [],
   "source": [
    "subset = scihub_product_ids(gdf.loc[:idx])"
   ]
  },
  {
   "cell_type": "markdown",
   "metadata": {},
   "source": [
    "We continue by creating the folder structure and initializing the download."
   ]
  },
  {
   "cell_type": "code",
   "execution_count": 15,
   "metadata": {},
   "outputs": [],
   "source": [
    "from pathlib import Path\n",
    "\n",
    "dst_path = Path('input/raster/true_color_pipeline')"
   ]
  },
  {
   "cell_type": "code",
   "execution_count": 16,
   "metadata": {},
   "outputs": [],
   "source": [
    "! mkdir -p {dst_path}"
   ]
  },
  {
   "cell_type": "code",
   "execution_count": 17,
   "metadata": {},
   "outputs": [],
   "source": [
    "downloads = api.download_all(subset, dst_path)"
   ]
  },
  {
   "cell_type": "markdown",
   "metadata": {},
   "source": [
    "## Combine the Downloaded Products"
   ]
  },
  {
   "cell_type": "code",
   "execution_count": 18,
   "metadata": {},
   "outputs": [],
   "source": [
    "from collections import Counter\n",
    "import matplotlib.pyplot as pplt\n",
    "import rasterio as r\n",
    "from rasterio import plot as rplot\n",
    "from rasterio.warp import calculate_default_transform, reproject, Resampling\n",
    "from sentinel_helpers import RasterReaderList, scihub_band_paths\n",
    "\n",
    "%matplotlib inline"
   ]
  },
  {
   "cell_type": "code",
   "execution_count": 19,
   "metadata": {},
   "outputs": [],
   "source": [
    "downloaded_paths = [d['path'] for d in downloads[0].values()]"
   ]
  },
  {
   "cell_type": "code",
   "execution_count": null,
   "metadata": {},
   "outputs": [
    {
     "data": {
      "application/vnd.jupyter.widget-view+json": {
       "model_id": "b11b97e846254be9820507207b110a79",
       "version_major": 2,
       "version_minor": 0
      },
      "text/plain": [
       "HBox(children=(HTML(value='Reprojecting raster files…'), FloatProgress(value=0.0, max=6.0), HTML(value='')))"
      ]
     },
     "metadata": {},
     "output_type": "display_data"
    }
   ],
   "source": [
    "bands = ['B02', 'B03', 'B04']\n",
    "reprojected_rasters = []\n",
    "\n",
    "with RasterReaderList(band for product in downloaded_paths for band in scihub_band_paths(product, bands, '10m')) as to_merge:\n",
    "    for src in tqdm(to_merge, desc='Reprojecting raster files…'):\n",
    "        # create a temporary file to write the output to\n",
    "        tmp_path = Path('/tmp/reprojected/') / target_crs / Path(src.name.replace('zip+file://', '').replace('.zip!', ''))\n",
    "        ! mkdir -p {tmp_path.parent}\n",
    "        \n",
    "        # this is mostly taken from https://rasterio.readthedocs.io/en/latest/topics/reproject.html\n",
    "        transform, width, height = calculate_default_transform(\n",
    "            src.crs, target_crs, src.width, src.height, *src.bounds)\n",
    "        \n",
    "        kwargs = src.meta.copy()\n",
    "        kwargs.update({\n",
    "            'crs': target_crs,\n",
    "            'transform': transform,\n",
    "            'width': width,\n",
    "            'height': height\n",
    "        })\n",
    "        \n",
    "        with r.open(tmp_path, 'w', **kwargs) as dst:\n",
    "            for i in range(1, src.count + 1):\n",
    "                reproject(\n",
    "                    source=r.band(src, i),\n",
    "                    destination=r.band(dst, i),\n",
    "                    src_transform=src.transform,\n",
    "                    src_crs=src.crs,\n",
    "                    dst_transform=transform,\n",
    "                    dst_crs=target_crs,\n",
    "                    resampling=Resampling.nearest)\n",
    "            reprojected_rasters.append(tmp_path)"
   ]
  },
  {
   "cell_type": "markdown",
   "metadata": {},
   "source": [
    "## TODO\n",
    "\n",
    "- Merge each band individually\n",
    "- Combine all of the merged products as custom TCI"
   ]
  },
  {
   "cell_type": "code",
   "execution_count": null,
   "metadata": {},
   "outputs": [],
   "source": [
    "from rasterio.merge import merge\n",
    "from collections import defaultdict"
   ]
  },
  {
   "cell_type": "code",
   "execution_count": null,
   "metadata": {},
   "outputs": [],
   "source": [
    "# we build an index that allows us to access subsets of the raster path list\n",
    "# above by their band number because we need to merge them separately\n",
    "grouped_by_band = defaultdict(list)\n",
    "merged = {}"
   ]
  },
  {
   "cell_type": "code",
   "execution_count": null,
   "metadata": {},
   "outputs": [],
   "source": [
    "import pathlib"
   ]
  },
  {
   "cell_type": "code",
   "execution_count": null,
   "metadata": {},
   "outputs": [],
   "source": [
    "for raster in reprojected_rasters:\n",
    "    file_name = raster.split('/')[-1] if type(raster) == str else raster.name\n",
    "    band = file_name.split('_')[-2]\n",
    "    grouped_by_band[band].append(raster)"
   ]
  },
  {
   "cell_type": "code",
   "execution_count": null,
   "metadata": {},
   "outputs": [],
   "source": [
    "for band, paths in tqdm(grouped_by_band.items(), desc='Merging bands to cover the entire area of interest'):\n",
    "    with RasterReaderList(paths) as raster_readers:\n",
    "        mosaic, mosaic_transform = merge(raster_readers)\n",
    "        merged[band] = mosaic"
   ]
  },
  {
   "cell_type": "code",
   "execution_count": null,
   "metadata": {},
   "outputs": [],
   "source": [
    "import numpy as np"
   ]
  },
  {
   "cell_type": "code",
   "execution_count": null,
   "metadata": {},
   "outputs": [],
   "source": [
    "height, width = merged['B03'][0].shape\n",
    "kwargs = {\n",
    "    'count': 3,\n",
    "    'crs': target_crs,\n",
    "    'transform': transform,\n",
    "    'width': width,\n",
    "    'height': height,\n",
    "    'transform': mosaic_transform,\n",
    "    'driver': 'GTiff',\n",
    "    'dtype': np.uint8\n",
    "}"
   ]
  },
  {
   "cell_type": "code",
   "execution_count": null,
   "metadata": {},
   "outputs": [],
   "source": [
    "import re\n",
    "\n",
    "out_name = re.sub(r'[^\\w]', '-', region_of_interest).lower()\n",
    "out_name = 'tci-' + re.sub(r'-+', '-', out_name) + '.tif'"
   ]
  },
  {
   "cell_type": "code",
   "execution_count": null,
   "metadata": {},
   "outputs": [],
   "source": [
    "import numpy as np\n",
    "from sentinel_helpers import scihub_normalize_range\n",
    "from rasterio.io import MemoryFile\n",
    "import rasterio.mask as rmask"
   ]
  },
  {
   "cell_type": "code",
   "execution_count": null,
   "metadata": {},
   "outputs": [],
   "source": [
    "from shapely.geometry import box"
   ]
  },
  {
   "cell_type": "code",
   "execution_count": null,
   "metadata": {},
   "outputs": [],
   "source": [
    "%%time\n",
    "kwargs = {\n",
    "    'count': 3,\n",
    "    'crs': target_crs,\n",
    "    'transform': transform,\n",
    "    'width': width,\n",
    "    'height': height,\n",
    "    'transform': mosaic_transform,\n",
    "    'driver': 'GTiff',\n",
    "    'dtype': np.uint8\n",
    "}\n",
    "\n",
    "with MemoryFile() as memfile, memfile.open(**kwargs) as tmp:\n",
    "    # combine \n",
    "    tmp.write((scihub_normalize_range(merged['B04'][0]) * 255).astype(np.uint8), 1)\n",
    "    tmp.write((scihub_normalize_range(merged['B03'][0]) * 255).astype(np.uint8), 2)\n",
    "    tmp.write((scihub_normalize_range(merged['B02'][0]) * 255).astype(np.uint8), 3)\n",
    "    \n",
    "    mask_shape = footprint.to_crs(target_crs).iloc[0].geometry\n",
    "    if not discard_exterior_pixels:\n",
    "        mask_shape = box(*mask_shape.bounds)\n",
    "    \n",
    "    masked, masked_transform = rmask.mask(tmp, shapes=[mask_shape], crop=True)\n",
    "    \n",
    "    # show the result\n",
    "    pplt.figure(figsize=(20,20))\n",
    "    rplot.show(masked, transform=masked_transform)\n",
    "    \n",
    "    # save the output\n",
    "    kwargs.update({\n",
    "        'transform': masked_transform\n",
    "    })\n",
    "    with r.open(out_name, 'w', **kwargs) as dst:\n",
    "        dst.write(tmp)\n",
    "        print(f'Wrote resulting raster file to {out_name}!')"
   ]
  },
  {
   "cell_type": "code",
   "execution_count": null,
   "metadata": {},
   "outputs": [],
   "source": []
  }
 ],
 "metadata": {
  "kernelspec": {
   "display_name": "Python 3",
   "language": "python",
   "name": "python3"
  },
  "language_info": {
   "codemirror_mode": {
    "name": "ipython",
    "version": 3
   },
   "file_extension": ".py",
   "mimetype": "text/x-python",
   "name": "python",
   "nbconvert_exporter": "python",
   "pygments_lexer": "ipython3",
   "version": "3.8.6"
  }
 },
 "nbformat": 4,
 "nbformat_minor": 4
}
