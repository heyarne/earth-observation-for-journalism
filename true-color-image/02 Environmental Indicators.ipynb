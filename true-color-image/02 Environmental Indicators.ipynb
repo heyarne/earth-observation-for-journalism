{
 "cells": [
  {
   "cell_type": "code",
   "execution_count": 1,
   "metadata": {},
   "outputs": [],
   "source": [
    "import folium\n",
    "import sentinel_helpers\n",
    "from pathlib import Path"
   ]
  },
  {
   "cell_type": "code",
   "execution_count": null,
   "metadata": {},
   "outputs": [],
   "source": [
    "# the area you want to create a true color image from; will be the first area\n",
    "# returned from nominatim.openstreetmap.com\n",
    "region_of_interest = 'Berlin, Germany'\n",
    "\n",
    "# start and end of the time span from which to select satellite data\n",
    "start_date = date(2020, 7, 1)\n",
    "end_date = start_date + timedelta(days=31)"
   ]
  }
 ],
 "metadata": {
  "kernelspec": {
   "display_name": "Python 3",
   "language": "python",
   "name": "python3"
  },
  "language_info": {
   "codemirror_mode": {
    "name": "ipython",
    "version": 3
   },
   "file_extension": ".py",
   "mimetype": "text/x-python",
   "name": "python",
   "nbconvert_exporter": "python",
   "pygments_lexer": "ipython3",
   "version": "3.8.6"
  }
 },
 "nbformat": 4,
 "nbformat_minor": 4
}
